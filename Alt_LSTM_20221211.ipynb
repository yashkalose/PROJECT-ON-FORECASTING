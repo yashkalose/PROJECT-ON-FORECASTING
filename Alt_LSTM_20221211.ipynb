{
 "cells": [
  {
   "cell_type": "markdown",
   "metadata": {},
   "source": [
    "# **ALTERNATE METHOD - 2** #"
   ]
  },
  {
   "cell_type": "code",
   "execution_count": 1,
   "metadata": {},
   "outputs": [
    {
     "name": "stdout",
     "output_type": "stream",
     "text": [
      "WARNING:tensorflow:From c:\\Users\\Office\\AppData\\Local\\Programs\\Python\\Python310\\lib\\site-packages\\keras\\src\\losses.py:2976: The name tf.losses.sparse_softmax_cross_entropy is deprecated. Please use tf.compat.v1.losses.sparse_softmax_cross_entropy instead.\n",
      "\n"
     ]
    }
   ],
   "source": [
    "\n",
    "# Importing Libraries\n",
    "import numpy as np\n",
    "import pandas as pd\n",
    "from scipy.stats import boxcox\n",
    "from pandas.plotting import lag_plot\n",
    "from statsmodels.tsa.stattools import adfuller\n",
    "from statsmodels.tsa.stattools import acf, pacf\n",
    "from statsmodels.graphics.tsaplots import plot_acf\n",
    "from statsmodels.graphics.tsaplots import plot_pacf\n",
    "from pmdarima.arima import auto_arima\n",
    "from pandas import DataFrame\n",
    "from pandas import Grouper\n",
    "from math import sqrt\n",
    "from statsmodels.tsa.arima.model import ARIMA\n",
    "from sklearn.metrics import mean_squared_error, mean_absolute_error, mean_absolute_percentage_error, accuracy_score\n",
    "from statsmodels.tsa.seasonal import seasonal_decompose\n",
    "from statsmodels.tsa.holtwinters import SimpleExpSmoothing # SES\n",
    "from statsmodels.tsa.holtwinters import Holt # Holts Exponential Smoothing\n",
    "from statsmodels.tsa.holtwinters import ExponentialSmoothing\n",
    "import matplotlib.pyplot as plt\n",
    "import plotly.graph_objects as go\n",
    "from plotly.subplots import make_subplots\n",
    "import seaborn as sns\n",
    "from collections import Counter\n",
    "import plotly.express as px\n",
    "from plotly.offline import plot as off\n",
    "import plotly.figure_factory as ff\n",
    "import plotly.io as pio\n",
    "from sklearn.preprocessing import StandardScaler, LabelEncoder, MinMaxScaler, scale\n",
    "from sklearn.metrics import mean_squared_error\n",
    "from sklearn.model_selection import GridSearchCV, KFold, StratifiedKFold, cross_val_score, \\\n",
    "                                    train_test_split, RandomizedSearchCV\n",
    "import warnings\n",
    "import pandas as pd\n",
    "import tensorflow as tf\n",
    "from tensorflow.keras.models import Sequential\n",
    "from tensorflow.keras.layers import Dense, LSTM, Dropout\n",
    "warnings.filterwarnings('ignore')\n",
    "\n",
    "import warnings\n",
    "warnings.filterwarnings('ignore')\n",
    "from sklearn.feature_selection import SelectKBest\n",
    "from sklearn.feature_selection import mutual_info_regression"
   ]
  },
  {
   "cell_type": "code",
   "execution_count": 2,
   "metadata": {},
   "outputs": [],
   "source": [
    "stock_data = pd.read_csv('stock_data.csv')"
   ]
  },
  {
   "cell_type": "code",
   "execution_count": 3,
   "metadata": {},
   "outputs": [
    {
     "data": {
      "text/html": [
       "<div>\n",
       "<style scoped>\n",
       "    .dataframe tbody tr th:only-of-type {\n",
       "        vertical-align: middle;\n",
       "    }\n",
       "\n",
       "    .dataframe tbody tr th {\n",
       "        vertical-align: top;\n",
       "    }\n",
       "\n",
       "    .dataframe thead th {\n",
       "        text-align: right;\n",
       "    }\n",
       "</style>\n",
       "<table border=\"1\" class=\"dataframe\">\n",
       "  <thead>\n",
       "    <tr style=\"text-align: right;\">\n",
       "      <th></th>\n",
       "      <th>DATE</th>\n",
       "      <th>STOCK_PRICE</th>\n",
       "    </tr>\n",
       "  </thead>\n",
       "  <tbody>\n",
       "    <tr>\n",
       "      <th>0</th>\n",
       "      <td>2000-01-03</td>\n",
       "      <td>122.480469</td>\n",
       "    </tr>\n",
       "    <tr>\n",
       "      <th>1</th>\n",
       "      <td>2000-01-04</td>\n",
       "      <td>132.110931</td>\n",
       "    </tr>\n",
       "    <tr>\n",
       "      <th>2</th>\n",
       "      <td>2000-01-05</td>\n",
       "      <td>121.542191</td>\n",
       "    </tr>\n",
       "    <tr>\n",
       "      <th>3</th>\n",
       "      <td>2000-01-06</td>\n",
       "      <td>111.819138</td>\n",
       "    </tr>\n",
       "    <tr>\n",
       "      <th>4</th>\n",
       "      <td>2000-01-07</td>\n",
       "      <td>102.873825</td>\n",
       "    </tr>\n",
       "    <tr>\n",
       "      <th>...</th>\n",
       "      <td>...</td>\n",
       "      <td>...</td>\n",
       "    </tr>\n",
       "    <tr>\n",
       "      <th>5917</th>\n",
       "      <td>2023-11-10</td>\n",
       "      <td>1368.699951</td>\n",
       "    </tr>\n",
       "    <tr>\n",
       "      <th>5918</th>\n",
       "      <td>2023-11-13</td>\n",
       "      <td>1374.150024</td>\n",
       "    </tr>\n",
       "    <tr>\n",
       "      <th>5919</th>\n",
       "      <td>2023-11-15</td>\n",
       "      <td>1411.150024</td>\n",
       "    </tr>\n",
       "    <tr>\n",
       "      <th>5920</th>\n",
       "      <td>2023-11-16</td>\n",
       "      <td>1443.900024</td>\n",
       "    </tr>\n",
       "    <tr>\n",
       "      <th>5921</th>\n",
       "      <td>2023-11-17</td>\n",
       "      <td>1437.650024</td>\n",
       "    </tr>\n",
       "  </tbody>\n",
       "</table>\n",
       "<p>5922 rows × 2 columns</p>\n",
       "</div>"
      ],
      "text/plain": [
       "            DATE  STOCK_PRICE\n",
       "0     2000-01-03   122.480469\n",
       "1     2000-01-04   132.110931\n",
       "2     2000-01-05   121.542191\n",
       "3     2000-01-06   111.819138\n",
       "4     2000-01-07   102.873825\n",
       "...          ...          ...\n",
       "5917  2023-11-10  1368.699951\n",
       "5918  2023-11-13  1374.150024\n",
       "5919  2023-11-15  1411.150024\n",
       "5920  2023-11-16  1443.900024\n",
       "5921  2023-11-17  1437.650024\n",
       "\n",
       "[5922 rows x 2 columns]"
      ]
     },
     "execution_count": 3,
     "metadata": {},
     "output_type": "execute_result"
    }
   ],
   "source": [
    "stocks_data = stock_data[['DATE', 'STOCK_PRICE']]\n",
    "stocks_data"
   ]
  },
  {
   "cell_type": "code",
   "execution_count": 4,
   "metadata": {},
   "outputs": [],
   "source": [
    "#Defining test and train data sizes\n",
    "#train_size = int(len(stocks_data)*0.80)\n",
    "train_size = int(len(stocks_data)*0.95)\n",
    "test_size = len(stocks_data) - train_size"
   ]
  },
  {
   "cell_type": "code",
   "execution_count": 5,
   "metadata": {},
   "outputs": [
    {
     "data": {
      "text/plain": [
       "(5625, 297)"
      ]
     },
     "execution_count": 5,
     "metadata": {},
     "output_type": "execute_result"
    }
   ],
   "source": [
    "train_size,test_size"
   ]
  },
  {
   "cell_type": "code",
   "execution_count": 6,
   "metadata": {},
   "outputs": [
    {
     "data": {
      "text/html": [
       "<div>\n",
       "<style scoped>\n",
       "    .dataframe tbody tr th:only-of-type {\n",
       "        vertical-align: middle;\n",
       "    }\n",
       "\n",
       "    .dataframe tbody tr th {\n",
       "        vertical-align: top;\n",
       "    }\n",
       "\n",
       "    .dataframe thead th {\n",
       "        text-align: right;\n",
       "    }\n",
       "</style>\n",
       "<table border=\"1\" class=\"dataframe\">\n",
       "  <thead>\n",
       "    <tr style=\"text-align: right;\">\n",
       "      <th></th>\n",
       "      <th>DATE</th>\n",
       "      <th>STOCK_PRICE</th>\n",
       "    </tr>\n",
       "  </thead>\n",
       "  <tbody>\n",
       "    <tr>\n",
       "      <th>0</th>\n",
       "      <td>2000-01-03</td>\n",
       "      <td>122.480469</td>\n",
       "    </tr>\n",
       "    <tr>\n",
       "      <th>1</th>\n",
       "      <td>2000-01-04</td>\n",
       "      <td>132.110931</td>\n",
       "    </tr>\n",
       "    <tr>\n",
       "      <th>2</th>\n",
       "      <td>2000-01-05</td>\n",
       "      <td>121.542191</td>\n",
       "    </tr>\n",
       "    <tr>\n",
       "      <th>3</th>\n",
       "      <td>2000-01-06</td>\n",
       "      <td>111.819138</td>\n",
       "    </tr>\n",
       "    <tr>\n",
       "      <th>4</th>\n",
       "      <td>2000-01-07</td>\n",
       "      <td>102.873825</td>\n",
       "    </tr>\n",
       "    <tr>\n",
       "      <th>...</th>\n",
       "      <td>...</td>\n",
       "      <td>...</td>\n",
       "    </tr>\n",
       "    <tr>\n",
       "      <th>5917</th>\n",
       "      <td>2023-11-10</td>\n",
       "      <td>1368.699951</td>\n",
       "    </tr>\n",
       "    <tr>\n",
       "      <th>5918</th>\n",
       "      <td>2023-11-13</td>\n",
       "      <td>1374.150024</td>\n",
       "    </tr>\n",
       "    <tr>\n",
       "      <th>5919</th>\n",
       "      <td>2023-11-15</td>\n",
       "      <td>1411.150024</td>\n",
       "    </tr>\n",
       "    <tr>\n",
       "      <th>5920</th>\n",
       "      <td>2023-11-16</td>\n",
       "      <td>1443.900024</td>\n",
       "    </tr>\n",
       "    <tr>\n",
       "      <th>5921</th>\n",
       "      <td>2023-11-17</td>\n",
       "      <td>1437.650024</td>\n",
       "    </tr>\n",
       "  </tbody>\n",
       "</table>\n",
       "<p>5922 rows × 2 columns</p>\n",
       "</div>"
      ],
      "text/plain": [
       "            DATE  STOCK_PRICE\n",
       "0     2000-01-03   122.480469\n",
       "1     2000-01-04   132.110931\n",
       "2     2000-01-05   121.542191\n",
       "3     2000-01-06   111.819138\n",
       "4     2000-01-07   102.873825\n",
       "...          ...          ...\n",
       "5917  2023-11-10  1368.699951\n",
       "5918  2023-11-13  1374.150024\n",
       "5919  2023-11-15  1411.150024\n",
       "5920  2023-11-16  1443.900024\n",
       "5921  2023-11-17  1437.650024\n",
       "\n",
       "[5922 rows x 2 columns]"
      ]
     },
     "execution_count": 6,
     "metadata": {},
     "output_type": "execute_result"
    }
   ],
   "source": [
    "st_data = stock_data[['DATE','STOCK_PRICE']]\n",
    "st_data"
   ]
  },
  {
   "cell_type": "code",
   "execution_count": 7,
   "metadata": {},
   "outputs": [
    {
     "data": {
      "text/html": [
       "<div>\n",
       "<style scoped>\n",
       "    .dataframe tbody tr th:only-of-type {\n",
       "        vertical-align: middle;\n",
       "    }\n",
       "\n",
       "    .dataframe tbody tr th {\n",
       "        vertical-align: top;\n",
       "    }\n",
       "\n",
       "    .dataframe thead th {\n",
       "        text-align: right;\n",
       "    }\n",
       "</style>\n",
       "<table border=\"1\" class=\"dataframe\">\n",
       "  <thead>\n",
       "    <tr style=\"text-align: right;\">\n",
       "      <th></th>\n",
       "      <th>DATE</th>\n",
       "      <th>STOCK_PRICE</th>\n",
       "      <th>Indicator</th>\n",
       "    </tr>\n",
       "  </thead>\n",
       "  <tbody>\n",
       "    <tr>\n",
       "      <th>0</th>\n",
       "      <td>2000-01-03</td>\n",
       "      <td>122.480469</td>\n",
       "      <td>train</td>\n",
       "    </tr>\n",
       "    <tr>\n",
       "      <th>1</th>\n",
       "      <td>2000-01-04</td>\n",
       "      <td>132.110931</td>\n",
       "      <td>train</td>\n",
       "    </tr>\n",
       "    <tr>\n",
       "      <th>2</th>\n",
       "      <td>2000-01-05</td>\n",
       "      <td>121.542191</td>\n",
       "      <td>train</td>\n",
       "    </tr>\n",
       "    <tr>\n",
       "      <th>3</th>\n",
       "      <td>2000-01-06</td>\n",
       "      <td>111.819138</td>\n",
       "      <td>train</td>\n",
       "    </tr>\n",
       "    <tr>\n",
       "      <th>4</th>\n",
       "      <td>2000-01-07</td>\n",
       "      <td>102.873825</td>\n",
       "      <td>train</td>\n",
       "    </tr>\n",
       "    <tr>\n",
       "      <th>...</th>\n",
       "      <td>...</td>\n",
       "      <td>...</td>\n",
       "      <td>...</td>\n",
       "    </tr>\n",
       "    <tr>\n",
       "      <th>5917</th>\n",
       "      <td>2023-11-10</td>\n",
       "      <td>1368.699951</td>\n",
       "      <td>test</td>\n",
       "    </tr>\n",
       "    <tr>\n",
       "      <th>5918</th>\n",
       "      <td>2023-11-13</td>\n",
       "      <td>1374.150024</td>\n",
       "      <td>test</td>\n",
       "    </tr>\n",
       "    <tr>\n",
       "      <th>5919</th>\n",
       "      <td>2023-11-15</td>\n",
       "      <td>1411.150024</td>\n",
       "      <td>test</td>\n",
       "    </tr>\n",
       "    <tr>\n",
       "      <th>5920</th>\n",
       "      <td>2023-11-16</td>\n",
       "      <td>1443.900024</td>\n",
       "      <td>test</td>\n",
       "    </tr>\n",
       "    <tr>\n",
       "      <th>5921</th>\n",
       "      <td>2023-11-17</td>\n",
       "      <td>1437.650024</td>\n",
       "      <td>test</td>\n",
       "    </tr>\n",
       "  </tbody>\n",
       "</table>\n",
       "<p>5922 rows × 3 columns</p>\n",
       "</div>"
      ],
      "text/plain": [
       "            DATE  STOCK_PRICE Indicator\n",
       "0     2000-01-03   122.480469     train\n",
       "1     2000-01-04   132.110931     train\n",
       "2     2000-01-05   121.542191     train\n",
       "3     2000-01-06   111.819138     train\n",
       "4     2000-01-07   102.873825     train\n",
       "...          ...          ...       ...\n",
       "5917  2023-11-10  1368.699951      test\n",
       "5918  2023-11-13  1374.150024      test\n",
       "5919  2023-11-15  1411.150024      test\n",
       "5920  2023-11-16  1443.900024      test\n",
       "5921  2023-11-17  1437.650024      test\n",
       "\n",
       "[5922 rows x 3 columns]"
      ]
     },
     "execution_count": 7,
     "metadata": {},
     "output_type": "execute_result"
    }
   ],
   "source": [
    "for index, row in st_data.iterrows():\n",
    "    if (index <= train_size):\n",
    "        st_data.at[index, 'Indicator'] = 'train'\n",
    "    elif (index > train_size):\n",
    "        st_data.at[index, 'Indicator'] = 'test'\n",
    "    else:\n",
    "        print(\"ERROR HAS OCCURED\\n\")\n",
    "st_data"
   ]
  },
  {
   "cell_type": "code",
   "execution_count": 8,
   "metadata": {},
   "outputs": [
    {
     "data": {
      "text/plain": [
       "array([1606.75     , 1582.699951 , 1597.400024 , 1575.449951 ,\n",
       "       1542.550049 , 1537.300049 , 1518.849976 , 1521.849976 ,\n",
       "       1462.       , 1493.199951 , 1464.400024 , 1452.900024 ,\n",
       "       1460.849976 , 1455.349976 , 1457.800049 , 1475.949951 ,\n",
       "       1511.849976 , 1535.599976 , 1545.       , 1475.       ,\n",
       "       1432.050049 , 1379.150024 , 1390.300049 , 1388.349976 ,\n",
       "       1376.550049 , 1367.800049 , 1365.25     , 1379.75     ,\n",
       "       1392.199951 , 1394.449951 , 1397.550049 , 1413.099976 ,\n",
       "       1394.       , 1429.800049 , 1454.949951 , 1451.75     ,\n",
       "       1462.699951 , 1423.900024 , 1428.849976 , 1419.75     ,\n",
       "       1474.050049 , 1490.199951 , 1503.550049 , 1485.       ,\n",
       "       1500.300049 , 1500.099976 , 1517.400024 , 1525.75     ,\n",
       "       1522.599976 , 1512.599976 , 1537.900024 , 1572.75     ,\n",
       "       1552.449951 , 1530.5      , 1513.900024 , 1507.050049 ,\n",
       "       1510.25     , 1502.25     , 1570.050049 , 1584.       ,\n",
       "       1593.699951 , 1602.199951 , 1586.849976 , 1592.900024 ,\n",
       "       1567.199951 , 1585.599976 , 1583.400024 , 1629.800049 ,\n",
       "       1630.75     , 1623.25     , 1628.300049 , 1632.400024 ,\n",
       "       1657.599976 , 1638.550049 , 1640.5      , 1612.849976 ,\n",
       "       1605.050049 , 1619.949951 , 1568.849976 , 1547.099976 ,\n",
       "       1572.699951 , 1580.25     , 1539.400024 , 1522.349976 ,\n",
       "       1507.599976 , 1507.5      , 1509.800049 , 1521.050049 ,\n",
       "       1497.550049 , 1502.25     , 1515.5      , 1510.849976 ,\n",
       "       1517.5      , 1508.699951 , 1524.300049 , 1522.550049 ,\n",
       "       1494.900024 , 1475.199951 , 1448.849976 , 1484.5      ,\n",
       "       1470.400024 , 1471.449951 , 1480.550049 , 1503.5      ,\n",
       "       1525.25     , 1539.75     , 1545.050049 , 1541.300049 ,\n",
       "       1525.449951 , 1547.800049 , 1552.349976 , 1542.900024 ,\n",
       "       1518.25     , 1539.099976 , 1533.150024 , 1549.449951 ,\n",
       "       1583.300049 , 1599.150024 , 1570.5      , 1562.349976 ,\n",
       "       1589.699951 , 1617.699951 , 1607.949951 , 1567.400024 ,\n",
       "       1592.650024 , 1596.849976 , 1601.949951 , 1583.449951 ,\n",
       "       1593.25     , 1579.25     , 1562.550049 , 1551.5      ,\n",
       "       1551.449951 , 1509.400024 , 1507.868714 , 1496.650024 ,\n",
       "       1472.099976 , 1479.800049 , 1507.550049 , 1492.5      ,\n",
       "       1480.75     , 1471.349976 , 1434.800049 , 1421.050049 ,\n",
       "       1419.349976 , 1406.199951 , 1420.849976 , 1403.800049 ,\n",
       "       1391.050049 , 1389.449951 , 1374.5      , 1380.449951 ,\n",
       "       1388.900024 , 1377.400024 , 1383.5      , 1427.699951 ,\n",
       "       1410.949951 , 1423.349976 , 1422.099976 , 1427.300049 ,\n",
       "       1407.050049 , 1428.449951 , 1388.599976 , 1258.099976 ,\n",
       "       1260.949951 , 1232.199951 , 1223.849976 , 1227.449951 ,\n",
       "       1226.300049 , 1224.550049 , 1227.5      , 1246.550049 ,\n",
       "       1252.550049 , 1277.650024 , 1269.349976 , 1273.550049 ,\n",
       "       1259.050049 , 1266.25     , 1270.599976 , 1263.099976 ,\n",
       "       1256.099976 , 1245.550049 , 1258.75     , 1264.150024 ,\n",
       "       1247.449951 , 1268.849976 , 1293.050049 , 1299.599976 ,\n",
       "       1298.449951 , 1304.5      , 1317.300049 , 1322.900024 ,\n",
       "       1322.099976 , 1319.449951 , 1298.650024 , 1304.949951 ,\n",
       "       1279.099976 , 1289.       , 1283.099976 , 1266.       ,\n",
       "       1291.900024 , 1305.349976 , 1301.449951 , 1286.75     ,\n",
       "       1292.650024 , 1295.25     , 1303.150024 , 1301.400024 ,\n",
       "       1282.599976 , 1265.650024 , 1270.400024 , 1278.949951 ,\n",
       "       1293.650024 , 1329.7249135, 1331.150024 , 1329.099976 ,\n",
       "       1425.349976 , 1422.75     , 1474.349976 , 1448.849976 ,\n",
       "       1330.400024 , 1337.25     , 1348.849976 , 1340.349976 ,\n",
       "       1365.349976 , 1378.400024 , 1392.75     , 1390.349976 ,\n",
       "       1394.300049 , 1389.150024 , 1372.       , 1393.650024 ,\n",
       "       1418.5      , 1411.199951 , 1388.75     , 1404.900024 ,\n",
       "       1403.800049 , 1407.699951 , 1424.5      , 1420.550049 ,\n",
       "       1415.849976 , 1418.199951 , 1435.050049 , 1434.099976 ,\n",
       "       1443.050049 , 1464.650024 , 1478.699951 , 1476.75     ,\n",
       "       1466.       , 1469.650024 , 1476.349976 , 1500.800049 ,\n",
       "       1496.949951 , 1506.75     , 1512.25     , 1491.099976 ,\n",
       "       1490.       , 1501.849976 , 1496.       , 1474.75     ,\n",
       "       1460.050049 , 1467.550049 , 1439.5      , 1435.050049 ,\n",
       "       1433.599976 , 1445.25     , 1462.449951 , 1478.550049 ,\n",
       "       1474.599976 , 1495.       , 1493.650024 , 1464.550049 ,\n",
       "       1431.800049 , 1434.449951 , 1442.699951 , 1440.75     ,\n",
       "       1433.449951 , 1427.199951 , 1408.949951 , 1370.099976 ,\n",
       "       1357.800049 , 1380.650024 , 1377.300049 , 1368.650024 ,\n",
       "       1353.550049 , 1370.449951 , 1389.099976 , 1404.       ,\n",
       "       1404.349976 , 1392.099976 , 1375.150024 , 1368.699951 ,\n",
       "       1374.150024 , 1411.150024 , 1443.900024 , 1437.650024 ])"
      ]
     },
     "execution_count": 8,
     "metadata": {},
     "output_type": "execute_result"
    }
   ],
   "source": [
    "ctest_data, ctrain_data = st_data.STOCK_PRICE[st_data[\"Indicator\"].eq(\"test\")], st_data[st_data[\"Indicator\"].eq(\"train\")] # The command to extract test and train data based on the 'indicator' column\n",
    "ctest_data.values"
   ]
  },
  {
   "cell_type": "code",
   "execution_count": 9,
   "metadata": {},
   "outputs": [
    {
     "data": {
      "text/html": [
       "<div>\n",
       "<style scoped>\n",
       "    .dataframe tbody tr th:only-of-type {\n",
       "        vertical-align: middle;\n",
       "    }\n",
       "\n",
       "    .dataframe tbody tr th {\n",
       "        vertical-align: top;\n",
       "    }\n",
       "\n",
       "    .dataframe thead th {\n",
       "        text-align: right;\n",
       "    }\n",
       "</style>\n",
       "<table border=\"1\" class=\"dataframe\">\n",
       "  <thead>\n",
       "    <tr style=\"text-align: right;\">\n",
       "      <th></th>\n",
       "      <th>STOCK_PRICE</th>\n",
       "      <th>Indicator</th>\n",
       "    </tr>\n",
       "    <tr>\n",
       "      <th>DATE</th>\n",
       "      <th></th>\n",
       "      <th></th>\n",
       "    </tr>\n",
       "  </thead>\n",
       "  <tbody>\n",
       "    <tr>\n",
       "      <th>2000-01-03</th>\n",
       "      <td>122.480469</td>\n",
       "      <td>train</td>\n",
       "    </tr>\n",
       "    <tr>\n",
       "      <th>2000-01-04</th>\n",
       "      <td>132.110931</td>\n",
       "      <td>train</td>\n",
       "    </tr>\n",
       "    <tr>\n",
       "      <th>2000-01-05</th>\n",
       "      <td>121.542191</td>\n",
       "      <td>train</td>\n",
       "    </tr>\n",
       "    <tr>\n",
       "      <th>2000-01-06</th>\n",
       "      <td>111.819138</td>\n",
       "      <td>train</td>\n",
       "    </tr>\n",
       "    <tr>\n",
       "      <th>2000-01-07</th>\n",
       "      <td>102.873825</td>\n",
       "      <td>train</td>\n",
       "    </tr>\n",
       "    <tr>\n",
       "      <th>...</th>\n",
       "      <td>...</td>\n",
       "      <td>...</td>\n",
       "    </tr>\n",
       "    <tr>\n",
       "      <th>2023-11-10</th>\n",
       "      <td>1368.699951</td>\n",
       "      <td>test</td>\n",
       "    </tr>\n",
       "    <tr>\n",
       "      <th>2023-11-13</th>\n",
       "      <td>1374.150024</td>\n",
       "      <td>test</td>\n",
       "    </tr>\n",
       "    <tr>\n",
       "      <th>2023-11-15</th>\n",
       "      <td>1411.150024</td>\n",
       "      <td>test</td>\n",
       "    </tr>\n",
       "    <tr>\n",
       "      <th>2023-11-16</th>\n",
       "      <td>1443.900024</td>\n",
       "      <td>test</td>\n",
       "    </tr>\n",
       "    <tr>\n",
       "      <th>2023-11-17</th>\n",
       "      <td>1437.650024</td>\n",
       "      <td>test</td>\n",
       "    </tr>\n",
       "  </tbody>\n",
       "</table>\n",
       "<p>5922 rows × 2 columns</p>\n",
       "</div>"
      ],
      "text/plain": [
       "            STOCK_PRICE Indicator\n",
       "DATE                             \n",
       "2000-01-03   122.480469     train\n",
       "2000-01-04   132.110931     train\n",
       "2000-01-05   121.542191     train\n",
       "2000-01-06   111.819138     train\n",
       "2000-01-07   102.873825     train\n",
       "...                 ...       ...\n",
       "2023-11-10  1368.699951      test\n",
       "2023-11-13  1374.150024      test\n",
       "2023-11-15  1411.150024      test\n",
       "2023-11-16  1443.900024      test\n",
       "2023-11-17  1437.650024      test\n",
       "\n",
       "[5922 rows x 2 columns]"
      ]
     },
     "execution_count": 9,
     "metadata": {},
     "output_type": "execute_result"
    }
   ],
   "source": [
    "sdata_c = st_data.copy()\n",
    "sdata_c['DATE'] = pd.to_datetime(sdata_c['DATE'], format = '%Y-%m-%d')\n",
    "sdata_c.set_index('DATE',inplace=True)\n",
    "sdata_c"
   ]
  },
  {
   "cell_type": "code",
   "execution_count": 10,
   "metadata": {},
   "outputs": [
    {
     "data": {
      "image/png": "[encoded data removed]",
      "text/plain": [
       "<Figure size 2000x600 with 1 Axes>"
      ]
     },
     "metadata": {},
     "output_type": "display_data"
    }
   ],
   "source": [
    "plt.figure(figsize=(20,6))\n",
    "sns.lineplot(x='DATE', y='STOCK_PRICE', hue='Indicator', palette=['#009f6b','#FF0000'], data=sdata_c)\n",
    "plt.xticks(rotation = 0,fontsize = 12, fontfamily = \"Times New Roman\")\n",
    "plt.xlabel(\"DATE\", weight='bold', fontfamily = \"Times New Roman\", size = '12')\n",
    "plt.ylabel(\"STOCK COUNT\", weight='bold', fontfamily = \"Times New Roman\", size = '12')\n",
    "plt.title(\"STOCK PRICE LINE CHART\\n\\n\", verticalalignment=\"center\", weight='bold', fontfamily = \"Times New Roman\", size = '15')\n",
    "plt.show()"
   ]
  },
  {
   "cell_type": "code",
   "execution_count": 11,
   "metadata": {},
   "outputs": [
    {
     "data": {
      "text/plain": [
       "array([ 122.480469,  132.110931,  121.542191, ..., 1411.150024,\n",
       "       1443.900024, 1437.650024])"
      ]
     },
     "execution_count": 11,
     "metadata": {},
     "output_type": "execute_result"
    }
   ],
   "source": [
    "import matplotlib.pyplot as plt\n",
    "import numpy as np\n",
    "close = sdata_c['STOCK_PRICE']\n",
    "\n",
    "ds = close.values\n",
    "ds"
   ]
  },
  {
   "cell_type": "code",
   "execution_count": 12,
   "metadata": {},
   "outputs": [
    {
     "data": {
      "text/plain": [
       "array([ 122.480469,  132.110931,  121.542191, ..., 1411.150024,\n",
       "       1443.900024, 1437.650024])"
      ]
     },
     "execution_count": 12,
     "metadata": {},
     "output_type": "execute_result"
    }
   ],
   "source": [
    "ds"
   ]
  },
  {
   "cell_type": "code",
   "execution_count": 13,
   "metadata": {},
   "outputs": [
    {
     "data": {
      "text/html": [
       "<div>\n",
       "<style scoped>\n",
       "    .dataframe tbody tr th:only-of-type {\n",
       "        vertical-align: middle;\n",
       "    }\n",
       "\n",
       "    .dataframe tbody tr th {\n",
       "        vertical-align: top;\n",
       "    }\n",
       "\n",
       "    .dataframe thead th {\n",
       "        text-align: right;\n",
       "    }\n",
       "</style>\n",
       "<table border=\"1\" class=\"dataframe\">\n",
       "  <thead>\n",
       "    <tr style=\"text-align: right;\">\n",
       "      <th></th>\n",
       "      <th>STOCK_PRICE</th>\n",
       "      <th>Indicator</th>\n",
       "    </tr>\n",
       "    <tr>\n",
       "      <th>DATE</th>\n",
       "      <th></th>\n",
       "      <th></th>\n",
       "    </tr>\n",
       "  </thead>\n",
       "  <tbody>\n",
       "    <tr>\n",
       "      <th>2000-01-03</th>\n",
       "      <td>0.046267</td>\n",
       "      <td>train</td>\n",
       "    </tr>\n",
       "    <tr>\n",
       "      <th>2000-01-04</th>\n",
       "      <td>0.051323</td>\n",
       "      <td>train</td>\n",
       "    </tr>\n",
       "    <tr>\n",
       "      <th>2000-01-05</th>\n",
       "      <td>0.045775</td>\n",
       "      <td>train</td>\n",
       "    </tr>\n",
       "    <tr>\n",
       "      <th>2000-01-06</th>\n",
       "      <td>0.040671</td>\n",
       "      <td>train</td>\n",
       "    </tr>\n",
       "    <tr>\n",
       "      <th>2000-01-07</th>\n",
       "      <td>0.035975</td>\n",
       "      <td>train</td>\n",
       "    </tr>\n",
       "  </tbody>\n",
       "</table>\n",
       "</div>"
      ],
      "text/plain": [
       "            STOCK_PRICE Indicator\n",
       "DATE                             \n",
       "2000-01-03     0.046267     train\n",
       "2000-01-04     0.051323     train\n",
       "2000-01-05     0.045775     train\n",
       "2000-01-06     0.040671     train\n",
       "2000-01-07     0.035975     train"
      ]
     },
     "execution_count": 13,
     "metadata": {},
     "output_type": "execute_result"
    }
   ],
   "source": [
    "from sklearn.preprocessing import MinMaxScaler\n",
    "scaler = MinMaxScaler()\n",
    "sdata_sc = sdata_c.copy()\n",
    "sdata_sc[['STOCK_PRICE']] = scaler.fit_transform(sdata_sc[['STOCK_PRICE']])\n",
    "sdata_sc.head()"
   ]
  },
  {
   "cell_type": "code",
   "execution_count": 14,
   "metadata": {},
   "outputs": [],
   "source": [
    "ds_scaled = sdata_sc['STOCK_PRICE'].values"
   ]
  },
  {
   "cell_type": "code",
   "execution_count": 15,
   "metadata": {},
   "outputs": [
    {
     "data": {
      "text/plain": [
       "array([0.04626741, 0.05132274, 0.04577488, ..., 0.72273104, 0.73992256,\n",
       "       0.73664174])"
      ]
     },
     "execution_count": 15,
     "metadata": {},
     "output_type": "execute_result"
    }
   ],
   "source": [
    "ds_scaled"
   ]
  },
  {
   "cell_type": "code",
   "execution_count": 16,
   "metadata": {},
   "outputs": [
    {
     "data": {
      "text/plain": [
       "array([[0.04626741],\n",
       "       [0.05132274],\n",
       "       [0.04577488],\n",
       "       ...,\n",
       "       [0.72273104],\n",
       "       [0.73992256],\n",
       "       [0.73664174]])"
      ]
     },
     "execution_count": 16,
     "metadata": {},
     "output_type": "execute_result"
    }
   ],
   "source": [
    "ds_scaled = ds_scaled.reshape(-1,1)\n",
    "ds_scaled"
   ]
  },
  {
   "cell_type": "code",
   "execution_count": 17,
   "metadata": {},
   "outputs": [
    {
     "data": {
      "text/plain": [
       "(5922, 5922)"
      ]
     },
     "execution_count": 17,
     "metadata": {},
     "output_type": "execute_result"
    }
   ],
   "source": [
    "len(ds_scaled), len(ds)"
   ]
  },
  {
   "cell_type": "code",
   "execution_count": 18,
   "metadata": {},
   "outputs": [],
   "source": [
    "# from sklearn.preprocessing import MinMaxScaler\n",
    "\n",
    "# #Using MinMaxScaler for normalizing data between 0 & 1\n",
    "# normalizer = MinMaxScaler(feature_range=(0,1))\n",
    "# ds_scaled = normalizer.fit_transform(np.array(ds).reshape(-1,1))"
   ]
  },
  {
   "cell_type": "code",
   "execution_count": 19,
   "metadata": {},
   "outputs": [],
   "source": [
    "# len(ds_scaled), len(ds)"
   ]
  },
  {
   "cell_type": "code",
   "execution_count": 20,
   "metadata": {},
   "outputs": [
    {
     "data": {
      "text/plain": [
       "(5922, 1)"
      ]
     },
     "execution_count": 20,
     "metadata": {},
     "output_type": "execute_result"
    }
   ],
   "source": [
    "ds_scaled.shape"
   ]
  },
  {
   "cell_type": "code",
   "execution_count": 21,
   "metadata": {},
   "outputs": [
    {
     "data": {
      "text/html": [
       "<div>\n",
       "<style scoped>\n",
       "    .dataframe tbody tr th:only-of-type {\n",
       "        vertical-align: middle;\n",
       "    }\n",
       "\n",
       "    .dataframe tbody tr th {\n",
       "        vertical-align: top;\n",
       "    }\n",
       "\n",
       "    .dataframe thead th {\n",
       "        text-align: right;\n",
       "    }\n",
       "</style>\n",
       "<table border=\"1\" class=\"dataframe\">\n",
       "  <thead>\n",
       "    <tr style=\"text-align: right;\">\n",
       "      <th></th>\n",
       "      <th>STOCK_PRICE</th>\n",
       "      <th>Indicator</th>\n",
       "    </tr>\n",
       "    <tr>\n",
       "      <th>DATE</th>\n",
       "      <th></th>\n",
       "      <th></th>\n",
       "    </tr>\n",
       "  </thead>\n",
       "  <tbody>\n",
       "    <tr>\n",
       "      <th>2000-01-03</th>\n",
       "      <td>0.046267</td>\n",
       "      <td>train</td>\n",
       "    </tr>\n",
       "    <tr>\n",
       "      <th>2000-01-04</th>\n",
       "      <td>0.051323</td>\n",
       "      <td>train</td>\n",
       "    </tr>\n",
       "    <tr>\n",
       "      <th>2000-01-05</th>\n",
       "      <td>0.045775</td>\n",
       "      <td>train</td>\n",
       "    </tr>\n",
       "    <tr>\n",
       "      <th>2000-01-06</th>\n",
       "      <td>0.040671</td>\n",
       "      <td>train</td>\n",
       "    </tr>\n",
       "    <tr>\n",
       "      <th>2000-01-07</th>\n",
       "      <td>0.035975</td>\n",
       "      <td>train</td>\n",
       "    </tr>\n",
       "    <tr>\n",
       "      <th>...</th>\n",
       "      <td>...</td>\n",
       "      <td>...</td>\n",
       "    </tr>\n",
       "    <tr>\n",
       "      <th>2023-11-10</th>\n",
       "      <td>0.700448</td>\n",
       "      <td>test</td>\n",
       "    </tr>\n",
       "    <tr>\n",
       "      <th>2023-11-13</th>\n",
       "      <td>0.703309</td>\n",
       "      <td>test</td>\n",
       "    </tr>\n",
       "    <tr>\n",
       "      <th>2023-11-15</th>\n",
       "      <td>0.722731</td>\n",
       "      <td>test</td>\n",
       "    </tr>\n",
       "    <tr>\n",
       "      <th>2023-11-16</th>\n",
       "      <td>0.739923</td>\n",
       "      <td>test</td>\n",
       "    </tr>\n",
       "    <tr>\n",
       "      <th>2023-11-17</th>\n",
       "      <td>0.736642</td>\n",
       "      <td>test</td>\n",
       "    </tr>\n",
       "  </tbody>\n",
       "</table>\n",
       "<p>5922 rows × 2 columns</p>\n",
       "</div>"
      ],
      "text/plain": [
       "            STOCK_PRICE Indicator\n",
       "DATE                             \n",
       "2000-01-03     0.046267     train\n",
       "2000-01-04     0.051323     train\n",
       "2000-01-05     0.045775     train\n",
       "2000-01-06     0.040671     train\n",
       "2000-01-07     0.035975     train\n",
       "...                 ...       ...\n",
       "2023-11-10     0.700448      test\n",
       "2023-11-13     0.703309      test\n",
       "2023-11-15     0.722731      test\n",
       "2023-11-16     0.739923      test\n",
       "2023-11-17     0.736642      test\n",
       "\n",
       "[5922 rows x 2 columns]"
      ]
     },
     "execution_count": 21,
     "metadata": {},
     "output_type": "execute_result"
    }
   ],
   "source": [
    "sdata_sc"
   ]
  },
  {
   "cell_type": "code",
   "execution_count": 22,
   "metadata": {},
   "outputs": [
    {
     "data": {
      "text/plain": [
       "(array([0.04626741, 0.05132274, 0.04577488, ..., 0.83220553, 0.81897728,\n",
       "        0.81965972]),\n",
       " array([0.82540769, 0.81278306, 0.82049959, 0.8089773 , 0.7917071 ,\n",
       "        0.78895121, 0.77926618, 0.78084097, 0.74942381, 0.76580166,\n",
       "        0.75068366, 0.74464695, 0.74882013, 0.74593301, 0.74721913,\n",
       "        0.75674659, 0.77559165, 0.78805878, 0.79299315, 0.75624793,\n",
       "        0.73370213, 0.70593323, 0.71178623, 0.71076257, 0.70456842,\n",
       "        0.69997526, 0.69863666, 0.70624817, 0.71278355, 0.71396465,\n",
       "        0.71559199, 0.72375464, 0.71372845, 0.73252104, 0.74572302,\n",
       "        0.74404326, 0.74979124, 0.72942393, 0.73202231, 0.72724545,\n",
       "        0.75574927, 0.76422687, 0.77123476, 0.76149725, 0.76952873,\n",
       "        0.7694237 , 0.77850505, 0.78288822, 0.78123467, 0.77598535,\n",
       "        0.78926615, 0.80756001, 0.79690387, 0.78538164, 0.77666779,\n",
       "        0.77307202, 0.77475177, 0.77055232, 0.80614272, 0.8134655 ,\n",
       "        0.81855731, 0.82301923, 0.81496154, 0.8181374 , 0.80464661,\n",
       "        0.81430537, 0.81315055, 0.8375074 , 0.83800606, 0.83406907,\n",
       "        0.83672   , 0.83887221, 0.85210046, 0.84210055, 0.84312414,\n",
       "        0.82860977, 0.82451534, 0.83233677, 0.80551277, 0.7940955 ,\n",
       "        0.80753374, 0.811497  , 0.79005355, 0.78110344, 0.77336069,\n",
       "        0.77330821, 0.77451558, 0.78042106, 0.76808517, 0.77055232,\n",
       "        0.77750767, 0.77506672, 0.77855753, 0.7739381 , 0.78212709,\n",
       "        0.78120846, 0.76669408, 0.75635289, 0.74252095, 0.76123478,\n",
       "        0.75383325, 0.75438439, 0.75916133, 0.77120848, 0.78262575,\n",
       "        0.79023726, 0.79301943, 0.79105093, 0.78273071, 0.79446299,\n",
       "        0.79685139, 0.79189081, 0.77895123, 0.78989604, 0.78677273,\n",
       "        0.79532908, 0.81309807, 0.82141822, 0.80637892, 0.80210071,\n",
       "        0.81645758, 0.83115567, 0.82603759, 0.80475164, 0.81800617,\n",
       "        0.82021086, 0.822888  , 0.81317676, 0.81832111, 0.81097207,\n",
       "        0.80220573, 0.79640521, 0.79637894, 0.77430559, 0.77350176,\n",
       "        0.76761271, 0.75472561, 0.75876763, 0.77333448, 0.76543423,\n",
       "        0.75926629, 0.75433191, 0.7351457 , 0.72792788, 0.72703546,\n",
       "        0.72013259, 0.72782286, 0.71887281, 0.71217993, 0.71133999,\n",
       "        0.70349228, 0.7066156 , 0.71105131, 0.7050146 , 0.70821667,\n",
       "        0.73141863, 0.72262602, 0.72913519, 0.72847902, 0.73120871,\n",
       "        0.72057884, 0.73181233, 0.71089381, 0.64239021, 0.64388625,\n",
       "        0.62879446, 0.62441129, 0.62630103, 0.62569741, 0.62477878,\n",
       "        0.62632731, 0.63632728, 0.63947687, 0.65265265, 0.64829569,\n",
       "        0.65050044, 0.64288893, 0.64666841, 0.64895185, 0.64501487,\n",
       "        0.64134034, 0.63580235, 0.64273142, 0.64556607, 0.63679967,\n",
       "        0.64803322, 0.66073661, 0.66417488, 0.66357119, 0.66674706,\n",
       "        0.67346621, 0.67640581, 0.67598584, 0.67459476, 0.66367622,\n",
       "        0.66698325, 0.65341377, 0.65861061, 0.6555135 , 0.64653718,\n",
       "        0.66013293, 0.66719323, 0.66514599, 0.65742952, 0.66052663,\n",
       "        0.66189144, 0.66603841, 0.66511978, 0.65525104, 0.64635347,\n",
       "        0.64884689, 0.65333502, 0.66105156, 0.67998841, 0.6807365 ,\n",
       "        0.67966036, 0.73018505, 0.72882024, 0.75590671, 0.74252095,\n",
       "        0.6803428 , 0.68393857, 0.69002777, 0.68556585, 0.69868914,\n",
       "        0.70553953, 0.71307229, 0.71181244, 0.71388596, 0.71118255,\n",
       "        0.70217995, 0.71354474, 0.72658928, 0.72275725, 0.71097256,\n",
       "        0.71945022, 0.71887281, 0.72091999, 0.72973887, 0.72766542,\n",
       "        0.7251982 , 0.72643178, 0.73527693, 0.7347782 , 0.73947638,\n",
       "        0.7508149 , 0.75819015, 0.75716656, 0.75152354, 0.75343956,\n",
       "        0.75695657, 0.76979119, 0.76777016, 0.77291451, 0.77580164,\n",
       "        0.76469932, 0.76412191, 0.77034233, 0.7672715 , 0.7561167 ,\n",
       "        0.74840022, 0.75233721, 0.73761285, 0.73527693, 0.73451574,\n",
       "        0.74063121, 0.74966001, 0.75811146, 0.75603794, 0.76674656,\n",
       "        0.76603792, 0.75076242, 0.7335709 , 0.73496192, 0.73929261,\n",
       "        0.73826901, 0.73443699, 0.73115616, 0.72157616, 0.70118257,\n",
       "        0.69472595, 0.70672062, 0.70496212, 0.70042144, 0.69249499,\n",
       "        0.70136628, 0.71115627, 0.71897777, 0.71916148, 0.71273107,\n",
       "        0.7038335 , 0.70044765, 0.70330857, 0.72273104, 0.73992256,\n",
       "        0.73664174]))"
      ]
     },
     "execution_count": 22,
     "metadata": {},
     "output_type": "execute_result"
    }
   ],
   "source": [
    "ds_train = sdata_sc[sdata_sc[\"Indicator\"].eq(\"train\")].STOCK_PRICE.values\n",
    "ds_test = sdata_sc[sdata_sc[\"Indicator\"].eq(\"test\")].STOCK_PRICE.values\n",
    "\n",
    "ds_train, ds_test"
   ]
  },
  {
   "cell_type": "code",
   "execution_count": 23,
   "metadata": {},
   "outputs": [],
   "source": [
    "#Splitting data between train and test\n",
    "ds_train, ds_test = ds_scaled[0:train_size,:], ds_scaled[train_size:len(ds_scaled),:1]"
   ]
  },
  {
   "cell_type": "code",
   "execution_count": 24,
   "metadata": {},
   "outputs": [
    {
     "data": {
      "text/plain": [
       "(5625, 297)"
      ]
     },
     "execution_count": 24,
     "metadata": {},
     "output_type": "execute_result"
    }
   ],
   "source": [
    "len(ds_train),len(ds_test)"
   ]
  },
  {
   "cell_type": "code",
   "execution_count": 25,
   "metadata": {},
   "outputs": [],
   "source": [
    "#creating dataset in time series for LSTM model \n",
    "#X[100,120,140,160,180] : Y[200]\n",
    "def create_ds(dataset,step):\n",
    "    Xtrain, Ytrain = [], []\n",
    "    for i in range(len(dataset)-step-1):\n",
    "        a = dataset[i:(i+step), 0]\n",
    "        Xtrain.append(a)\n",
    "        Ytrain.append(dataset[i + step, 0])\n",
    "    return np.array(Xtrain), np.array(Ytrain)"
   ]
  },
  {
   "cell_type": "code",
   "execution_count": 26,
   "metadata": {},
   "outputs": [],
   "source": [
    "# Taking 100 days price as one record for training\n",
    "time_stamp = 100\n",
    "X_train, y_train = create_ds(ds_train,time_stamp)\n",
    "X_test, y_test = create_ds(ds_test,time_stamp)"
   ]
  },
  {
   "cell_type": "code",
   "execution_count": 27,
   "metadata": {},
   "outputs": [
    {
     "data": {
      "text/plain": [
       "((5524, 100), (5524,))"
      ]
     },
     "execution_count": 27,
     "metadata": {},
     "output_type": "execute_result"
    }
   ],
   "source": [
    "X_train.shape, y_train.shape"
   ]
  },
  {
   "cell_type": "code",
   "execution_count": 28,
   "metadata": {},
   "outputs": [
    {
     "data": {
      "text/plain": [
       "array([[0.04626741, 0.05132274, 0.04577488, ..., 0.0314143 , 0.03110385,\n",
       "        0.03016922],\n",
       "       [0.05132274, 0.04577488, 0.04067094, ..., 0.03110385, 0.03016922,\n",
       "        0.03336352],\n",
       "       [0.04577488, 0.04067094, 0.03597526, ..., 0.03016922, 0.03336352,\n",
       "        0.03930591],\n",
       "       ...,\n",
       "       [0.9745146 , 0.94740186, 0.97338598, ..., 0.80357054, 0.82168069,\n",
       "        0.83055205],\n",
       "       [0.94740186, 0.97338598, 0.95540707, ..., 0.82168069, 0.83055205,\n",
       "        0.83189059],\n",
       "       [0.97338598, 0.95540707, 0.95446217, ..., 0.83055205, 0.83189059,\n",
       "        0.82259932]])"
      ]
     },
     "execution_count": 28,
     "metadata": {},
     "output_type": "execute_result"
    }
   ],
   "source": [
    "X_train"
   ]
  },
  {
   "cell_type": "code",
   "execution_count": 29,
   "metadata": {},
   "outputs": [
    {
     "data": {
      "text/plain": [
       "array([0.03336352, 0.03930591, 0.04029108, ..., 0.83189059, 0.82259932,\n",
       "       0.83220553])"
      ]
     },
     "execution_count": 29,
     "metadata": {},
     "output_type": "execute_result"
    }
   ],
   "source": [
    "y_train"
   ]
  },
  {
   "cell_type": "code",
   "execution_count": 30,
   "metadata": {},
   "outputs": [
    {
     "data": {
      "text/plain": [
       "((196, 100), (196,))"
      ]
     },
     "execution_count": 30,
     "metadata": {},
     "output_type": "execute_result"
    }
   ],
   "source": [
    "X_test.shape, y_test.shape"
   ]
  },
  {
   "cell_type": "code",
   "execution_count": null,
   "metadata": {},
   "outputs": [],
   "source": []
  },
  {
   "cell_type": "code",
   "execution_count": 31,
   "metadata": {},
   "outputs": [],
   "source": [
    "#Reshaping data to fit into LSTM model\n",
    "X_train = X_train.reshape(X_train.shape[0],X_train.shape[1] , 1)\n",
    "X_test = X_test.reshape(X_test.shape[0],X_test.shape[1] , 1)"
   ]
  },
  {
   "cell_type": "code",
   "execution_count": 32,
   "metadata": {},
   "outputs": [
    {
     "data": {
      "text/plain": [
       "(5524, 100, 1)"
      ]
     },
     "execution_count": 32,
     "metadata": {},
     "output_type": "execute_result"
    }
   ],
   "source": [
    "X_train.shape"
   ]
  },
  {
   "cell_type": "code",
   "execution_count": 33,
   "metadata": {},
   "outputs": [
    {
     "data": {
      "text/plain": [
       "5524"
      ]
     },
     "execution_count": 33,
     "metadata": {},
     "output_type": "execute_result"
    }
   ],
   "source": [
    "X_train.shape[0]"
   ]
  },
  {
   "cell_type": "code",
   "execution_count": 34,
   "metadata": {},
   "outputs": [
    {
     "data": {
      "text/plain": [
       "100"
      ]
     },
     "execution_count": 34,
     "metadata": {},
     "output_type": "execute_result"
    }
   ],
   "source": [
    "X_train.shape[1]"
   ]
  },
  {
   "cell_type": "code",
   "execution_count": 35,
   "metadata": {},
   "outputs": [
    {
     "data": {
      "text/plain": [
       "array([[[0.04626741],\n",
       "        [0.05132274],\n",
       "        [0.04577488],\n",
       "        ...,\n",
       "        [0.0314143 ],\n",
       "        [0.03110385],\n",
       "        [0.03016922]],\n",
       "\n",
       "       [[0.05132274],\n",
       "        [0.04577488],\n",
       "        [0.04067094],\n",
       "        ...,\n",
       "        [0.03110385],\n",
       "        [0.03016922],\n",
       "        [0.03336352]],\n",
       "\n",
       "       [[0.04577488],\n",
       "        [0.04067094],\n",
       "        [0.03597526],\n",
       "        ...,\n",
       "        [0.03016922],\n",
       "        [0.03336352],\n",
       "        [0.03930591]],\n",
       "\n",
       "       ...,\n",
       "\n",
       "       [[0.9745146 ],\n",
       "        [0.94740186],\n",
       "        [0.97338598],\n",
       "        ...,\n",
       "        [0.80357054],\n",
       "        [0.82168069],\n",
       "        [0.83055205]],\n",
       "\n",
       "       [[0.94740186],\n",
       "        [0.97338598],\n",
       "        [0.95540707],\n",
       "        ...,\n",
       "        [0.82168069],\n",
       "        [0.83055205],\n",
       "        [0.83189059]],\n",
       "\n",
       "       [[0.97338598],\n",
       "        [0.95540707],\n",
       "        [0.95446217],\n",
       "        ...,\n",
       "        [0.83055205],\n",
       "        [0.83189059],\n",
       "        [0.82259932]]])"
      ]
     },
     "execution_count": 35,
     "metadata": {},
     "output_type": "execute_result"
    }
   ],
   "source": [
    "X_train"
   ]
  },
  {
   "cell_type": "code",
   "execution_count": 36,
   "metadata": {},
   "outputs": [
    {
     "data": {
      "text/plain": [
       "(5524, 100, 1)"
      ]
     },
     "execution_count": 36,
     "metadata": {},
     "output_type": "execute_result"
    }
   ],
   "source": [
    "X_train.shape"
   ]
  },
  {
   "cell_type": "code",
   "execution_count": 37,
   "metadata": {},
   "outputs": [],
   "source": [
    "from keras.models import Sequential\n",
    "from keras.layers import Dense, LSTM"
   ]
  },
  {
   "cell_type": "code",
   "execution_count": 38,
   "metadata": {},
   "outputs": [
    {
     "name": "stdout",
     "output_type": "stream",
     "text": [
      "WARNING:tensorflow:From c:\\Users\\Office\\AppData\\Local\\Programs\\Python\\Python310\\lib\\site-packages\\keras\\src\\backend.py:873: The name tf.get_default_graph is deprecated. Please use tf.compat.v1.get_default_graph instead.\n",
      "\n",
      "Model: \"sequential\"\n",
      "_________________________________________________________________\n",
      " Layer (type)                Output Shape              Param #   \n",
      "=================================================================\n",
      " lstm (LSTM)                 (None, 100, 100)          40800     \n",
      "                                                                 \n",
      " lstm_1 (LSTM)               (None, 100, 100)          80400     \n",
      "                                                                 \n",
      " lstm_2 (LSTM)               (None, 100)               80400     \n",
      "                                                                 \n",
      " dense (Dense)               (None, 1)                 101       \n",
      "                                                                 \n",
      "=================================================================\n",
      "Total params: 201701 (787.89 KB)\n",
      "Trainable params: 201701 (787.89 KB)\n",
      "Non-trainable params: 0 (0.00 Byte)\n",
      "_________________________________________________________________\n",
      "WARNING:tensorflow:From c:\\Users\\Office\\AppData\\Local\\Programs\\Python\\Python310\\lib\\site-packages\\keras\\src\\optimizers\\__init__.py:309: The name tf.train.Optimizer is deprecated. Please use tf.compat.v1.train.Optimizer instead.\n",
      "\n"
     ]
    }
   ],
   "source": [
    "#Creating LSTM model using keras\n",
    "lstm_model = Sequential()\n",
    "lstm_model.add(LSTM(units=100,return_sequences=True,input_shape=(X_train.shape[1],1)))\n",
    "lstm_model.add(LSTM(units=100,return_sequences=True))\n",
    "lstm_model.add(LSTM(units=100))\n",
    "lstm_model.add(Dense(units=1,activation='linear'))\n",
    "lstm_model.summary()\n",
    "\n",
    "#Training model with adam optimizer and mean squared error loss function\n",
    "lstm_model.compile(loss='mean_squared_error',optimizer='adam')"
   ]
  },
  {
   "cell_type": "code",
   "execution_count": 39,
   "metadata": {},
   "outputs": [],
   "source": [
    "#model.fit(X_train,y_train,validation_data=(X_test,y_test),epochs=500,batch_size=64)"
   ]
  },
  {
   "cell_type": "code",
   "execution_count": 40,
   "metadata": {},
   "outputs": [],
   "source": [
    "#model.save('C://Users/Office/mypy_3.10/Project/model_epoch_95pc_100sam_500e.h5')\n",
    "#np.save('my_history_95pc_100sam_500e.npy',model.history)"
   ]
  },
  {
   "cell_type": "code",
   "execution_count": 41,
   "metadata": {},
   "outputs": [],
   "source": [
    "from keras.models import load_model\n",
    "lstm_model = load_model(\"C://Users/Office/mypy_3.10/Project/model_epoch_90pc_100sam_500e.h5\")\n",
    "lstm_model.history=np.load('C://Users/Office/mypy_3.10/Project/my_history_90pc_100sam_500e.npy',allow_pickle='TRUE').item()"
   ]
  },
  {
   "cell_type": "code",
   "execution_count": 42,
   "metadata": {},
   "outputs": [
    {
     "data": {
      "image/png": "[encoded data removed]",
      "text/plain": [
       "<Figure size 2000x600 with 1 Axes>"
      ]
     },
     "metadata": {},
     "output_type": "display_data"
    }
   ],
   "source": [
    "#PLotting loss, it shows that loss has decreased significantly and model trained well\n",
    "loss = lstm_model.history.history['loss']\n",
    "plt.figure(figsize=(20,6))\n",
    "plt.plot(loss)\n",
    "plt.show()"
   ]
  },
  {
   "cell_type": "code",
   "execution_count": 43,
   "metadata": {},
   "outputs": [
    {
     "data": {
      "text/plain": [
       "(DATE\n",
       " 2022-08-17    1606.750000\n",
       " 2022-08-18    1582.699951\n",
       " 2022-08-19    1597.400024\n",
       " 2022-08-22    1575.449951\n",
       " 2022-08-23    1542.550049\n",
       "                  ...     \n",
       " 2023-11-10    1368.699951\n",
       " 2023-11-13    1374.150024\n",
       " 2023-11-15    1411.150024\n",
       " 2023-11-16    1443.900024\n",
       " 2023-11-17    1437.650024\n",
       " Name: STOCK_PRICE, Length: 296, dtype: float64,\n",
       " DATE\n",
       " 2000-01-03     122.480469\n",
       " 2000-01-04     132.110931\n",
       " 2000-01-05     121.542191\n",
       " 2000-01-06     111.819138\n",
       " 2000-01-07     102.873825\n",
       "                  ...     \n",
       " 2022-08-08    1619.099976\n",
       " 2022-08-10    1601.400024\n",
       " 2022-08-11    1619.699951\n",
       " 2022-08-12    1594.500000\n",
       " 2022-08-16    1595.800049\n",
       " Name: STOCK_PRICE, Length: 5626, dtype: float64)"
      ]
     },
     "execution_count": 43,
     "metadata": {},
     "output_type": "execute_result"
    }
   ],
   "source": [
    "ctest_data = sdata_c.STOCK_PRICE[sdata_c[\"Indicator\"].eq(\"test\")]\n",
    "ctrain_data = sdata_c.STOCK_PRICE[sdata_c[\"Indicator\"].eq(\"train\")] # The command to extract test and train data based on the 'indicator' column\n",
    "ctest_data, ctrain_data"
   ]
  },
  {
   "cell_type": "code",
   "execution_count": 44,
   "metadata": {},
   "outputs": [],
   "source": [
    "test = ctest_data[time_stamp:len(ctest_data)]\n",
    "test_val = test.values\n",
    "\n",
    "train = ctrain_data[time_stamp:len(ctrain_data)]\n",
    "train_val = train.values"
   ]
  },
  {
   "cell_type": "code",
   "execution_count": 45,
   "metadata": {},
   "outputs": [
    {
     "name": "stdout",
     "output_type": "stream",
     "text": [
      "173/173 [==============================] - 7s 32ms/step\n",
      "7/7 [==============================] - 0s 35ms/step\n"
     ]
    }
   ],
   "source": [
    "#Predicitng on train and test data\n",
    "train_predict = lstm_model.predict(X_train)\n",
    "test_predict = lstm_model.predict(X_test)"
   ]
  },
  {
   "cell_type": "code",
   "execution_count": 46,
   "metadata": {},
   "outputs": [],
   "source": [
    "#Inverse transform to get actual value\n",
    "train_predict = scaler.inverse_transform(train_predict)\n",
    "test_predict = scaler.inverse_transform(test_predict)"
   ]
  },
  {
   "cell_type": "code",
   "execution_count": 47,
   "metadata": {},
   "outputs": [
    {
     "data": {
      "text/plain": [
       "(196, 196)"
      ]
     },
     "execution_count": 47,
     "metadata": {},
     "output_type": "execute_result"
    }
   ],
   "source": [
    "len(test_val), len(test_predict)"
   ]
  },
  {
   "cell_type": "code",
   "execution_count": 48,
   "metadata": {},
   "outputs": [
    {
     "data": {
      "text/plain": [
       "5524"
      ]
     },
     "execution_count": 48,
     "metadata": {},
     "output_type": "execute_result"
    }
   ],
   "source": [
    "len(train_predict)"
   ]
  },
  {
   "cell_type": "code",
   "execution_count": 49,
   "metadata": {},
   "outputs": [],
   "source": [
    "def get_metrics(dataset, pred):\n",
    "    rmse_val = np.round(np.sqrt(mean_squared_error(dataset, pred)),2)\n",
    "    mape_val = np.round(mean_absolute_percentage_error(dataset, pred)*100,2)\n",
    "    return rmse_val, mape_val"
   ]
  },
  {
   "cell_type": "code",
   "execution_count": 50,
   "metadata": {},
   "outputs": [
    {
     "name": "stdout",
     "output_type": "stream",
     "text": [
      "LSTM - \n",
      "Root Mean Squared Error (RMSE): 36.39\n",
      "Mean Absolute Percent Error (MAPE): 1.9\n",
      "\n"
     ]
    }
   ],
   "source": [
    "lstm_rmse, lstm_mape = get_metrics(test_val, test_predict)\n",
    "print(f'LSTM - \\nRoot Mean Squared Error (RMSE): {lstm_rmse}\\nMean Absolute Percent Error (MAPE): {lstm_mape}\\n')"
   ]
  },
  {
   "cell_type": "code",
   "execution_count": 51,
   "metadata": {},
   "outputs": [
    {
     "data": {
      "text/plain": [
       "[<matplotlib.lines.Line2D at 0x1e097d5bd30>]"
      ]
     },
     "execution_count": 51,
     "metadata": {},
     "output_type": "execute_result"
    },
    {
     "data": {
      "image/png": "[encoded data removed]",
      "text/plain": [
       "<Figure size 2000x600 with 1 Axes>"
      ]
     },
     "metadata": {},
     "output_type": "display_data"
    }
   ],
   "source": [
    "#Comparing using visuals\n",
    "plt.figure(figsize=(20,6))\n",
    "plt.plot(scaler.inverse_transform(ds_scaled))\n",
    "plt.plot(train_predict)\n",
    "plt.plot(test_predict)"
   ]
  },
  {
   "cell_type": "code",
   "execution_count": 52,
   "metadata": {},
   "outputs": [
    {
     "name": "stdout",
     "output_type": "stream",
     "text": [
      "5922 5720\n"
     ]
    },
    {
     "data": {
      "text/plain": [
       "202"
      ]
     },
     "execution_count": 52,
     "metadata": {},
     "output_type": "execute_result"
    }
   ],
   "source": [
    "predict = np.vstack((train_predict,test_predict))\n",
    "print(len(ds_scaled), len(predict))\n",
    "len(ds_scaled) - len(predict)"
   ]
  },
  {
   "cell_type": "code",
   "execution_count": 53,
   "metadata": {},
   "outputs": [
    {
     "data": {
      "text/plain": [
       "[<matplotlib.lines.Line2D at 0x1e097dddc00>]"
      ]
     },
     "execution_count": 53,
     "metadata": {},
     "output_type": "execute_result"
    },
    {
     "data": {
      "image/png": "[encoded data removed]",
      "text/plain": [
       "<Figure size 2000x600 with 1 Axes>"
      ]
     },
     "metadata": {},
     "output_type": "display_data"
    }
   ],
   "source": [
    "#Combining the predited data to create uniform data visualization\n",
    "plt.figure(figsize=(20,6))\n",
    "plt.plot(scaler.inverse_transform(ds_scaled))\n",
    "plt.plot(predict)"
   ]
  },
  {
   "cell_type": "code",
   "execution_count": 54,
   "metadata": {},
   "outputs": [],
   "source": [
    "# plt.figure(figsize=(20,6))\n",
    "# sns.lineplot(x='DATE', y='STOCK_PRICE', hue='Indicator', palette=['#009f6b','#FF0000'], data=sdata_c)\n",
    "# plt.xticks(rotation = 0,fontsize = 12, fontfamily = \"Times New Roman\")\n",
    "# plt.xlabel(\"DATE\", weight='bold', fontfamily = \"Times New Roman\", size = '12')\n",
    "# plt.ylabel(\"STOCK COUNT\", weight='bold', fontfamily = \"Times New Roman\", size = '12')\n",
    "# plt.title(\"STOCK PRICE LINE CHART\\n\\n\", verticalalignment=\"center\", weight='bold', fontfamily = \"Times New Roman\", size = '15')\n",
    "# plt.show()"
   ]
  },
  {
   "cell_type": "code",
   "execution_count": 55,
   "metadata": {},
   "outputs": [
    {
     "data": {
      "text/plain": [
       "297"
      ]
     },
     "execution_count": 55,
     "metadata": {},
     "output_type": "execute_result"
    }
   ],
   "source": [
    "len(ds_test)"
   ]
  },
  {
   "cell_type": "code",
   "execution_count": 56,
   "metadata": {},
   "outputs": [],
   "source": [
    "test_acquired_data = len(ds_test) - time_stamp\n",
    "fut_inp = ds_test[test_acquired_data:] # The next 100 were missed, which needs to be extracted"
   ]
  },
  {
   "cell_type": "code",
   "execution_count": 57,
   "metadata": {},
   "outputs": [],
   "source": [
    "fut_inp = fut_inp.reshape(1,-1)"
   ]
  },
  {
   "cell_type": "code",
   "execution_count": 58,
   "metadata": {},
   "outputs": [
    {
     "data": {
      "text/plain": [
       "(1, 100)"
      ]
     },
     "execution_count": 58,
     "metadata": {},
     "output_type": "execute_result"
    }
   ],
   "source": [
    "fut_inp.shape"
   ]
  },
  {
   "cell_type": "code",
   "execution_count": 59,
   "metadata": {},
   "outputs": [],
   "source": [
    "tmp_inp = list(fut_inp)"
   ]
  },
  {
   "cell_type": "code",
   "execution_count": 60,
   "metadata": {},
   "outputs": [
    {
     "data": {
      "text/plain": [
       "[array([0.65341377, 0.65861061, 0.6555135 , 0.64653718, 0.66013293,\n",
       "        0.66719323, 0.66514599, 0.65742952, 0.66052663, 0.66189144,\n",
       "        0.66603841, 0.66511978, 0.65525104, 0.64635347, 0.64884689,\n",
       "        0.65333502, 0.66105156, 0.67998841, 0.6807365 , 0.67966036,\n",
       "        0.73018505, 0.72882024, 0.75590671, 0.74252095, 0.6803428 ,\n",
       "        0.68393857, 0.69002777, 0.68556585, 0.69868914, 0.70553953,\n",
       "        0.71307229, 0.71181244, 0.71388596, 0.71118255, 0.70217995,\n",
       "        0.71354474, 0.72658928, 0.72275725, 0.71097256, 0.71945022,\n",
       "        0.71887281, 0.72091999, 0.72973887, 0.72766542, 0.7251982 ,\n",
       "        0.72643178, 0.73527693, 0.7347782 , 0.73947638, 0.7508149 ,\n",
       "        0.75819015, 0.75716656, 0.75152354, 0.75343956, 0.75695657,\n",
       "        0.76979119, 0.76777016, 0.77291451, 0.77580164, 0.76469932,\n",
       "        0.76412191, 0.77034233, 0.7672715 , 0.7561167 , 0.74840022,\n",
       "        0.75233721, 0.73761285, 0.73527693, 0.73451574, 0.74063121,\n",
       "        0.74966001, 0.75811146, 0.75603794, 0.76674656, 0.76603792,\n",
       "        0.75076242, 0.7335709 , 0.73496192, 0.73929261, 0.73826901,\n",
       "        0.73443699, 0.73115616, 0.72157616, 0.70118257, 0.69472595,\n",
       "        0.70672062, 0.70496212, 0.70042144, 0.69249499, 0.70136628,\n",
       "        0.71115627, 0.71897777, 0.71916148, 0.71273107, 0.7038335 ,\n",
       "        0.70044765, 0.70330857, 0.72273104, 0.73992256, 0.73664174])]"
      ]
     },
     "execution_count": 60,
     "metadata": {},
     "output_type": "execute_result"
    }
   ],
   "source": [
    "tmp_inp"
   ]
  },
  {
   "cell_type": "code",
   "execution_count": 61,
   "metadata": {},
   "outputs": [],
   "source": [
    "tmp_inp = tmp_inp[0].tolist()"
   ]
  },
  {
   "cell_type": "code",
   "execution_count": 62,
   "metadata": {},
   "outputs": [
    {
     "name": "stdout",
     "output_type": "stream",
     "text": [
      "[[0.7233899235725403], [0.7126705646514893], [0.7048243284225464], [0.6985471844673157], [0.6929922699928284], [0.6877676248550415], [0.6827631592750549], [0.6780000925064087], [0.6735321283340454], [0.6693990230560303]]\n"
     ]
    }
   ],
   "source": [
    "# Predicting next duration (configurable) days price using the current data\n",
    "# It will predict in sliding window manner (algorithm) with stride 1\n",
    "\n",
    "duration = 10\n",
    "lst_output=[]\n",
    "n_steps=100\n",
    "i=0\n",
    "while(i<duration):\n",
    "    \n",
    "    if(len(tmp_inp)>100):\n",
    "        fut_inp = np.array(tmp_inp[1:])\n",
    "        fut_inp=fut_inp.reshape(1,-1)\n",
    "        fut_inp = fut_inp.reshape((1, n_steps, 1))\n",
    "        yhat = lstm_model.predict(fut_inp, verbose=0)\n",
    "        tmp_inp.extend(yhat[0].tolist())\n",
    "        tmp_inp = tmp_inp[1:]\n",
    "        lst_output.extend(yhat.tolist())\n",
    "        i=i+1\n",
    "    else:\n",
    "        fut_inp = fut_inp.reshape((1, n_steps,1))\n",
    "        yhat = lstm_model.predict(fut_inp, verbose=0)\n",
    "        tmp_inp.extend(yhat[0].tolist())\n",
    "        lst_output.extend(yhat.tolist())\n",
    "        i=i+1\n",
    "    \n",
    "\n",
    "print(lst_output)"
   ]
  },
  {
   "cell_type": "code",
   "execution_count": 63,
   "metadata": {},
   "outputs": [
    {
     "data": {
      "text/plain": [
       "(5922, 10)"
      ]
     },
     "execution_count": 63,
     "metadata": {},
     "output_type": "execute_result"
    }
   ],
   "source": [
    "len(ds_scaled), len(lst_output)"
   ]
  },
  {
   "cell_type": "code",
   "execution_count": 64,
   "metadata": {},
   "outputs": [],
   "source": [
    "#Creating a dummy plane to plot graph one after another\n",
    "plot_new=np.arange(1,(n_steps + 1))\n",
    "plot_pred=np.arange(n_steps + 1,(n_steps + 1 + duration))"
   ]
  },
  {
   "cell_type": "code",
   "execution_count": 65,
   "metadata": {},
   "outputs": [],
   "source": [
    "acquired_data = len(ds_scaled) - time_stamp"
   ]
  },
  {
   "cell_type": "code",
   "execution_count": 66,
   "metadata": {},
   "outputs": [
    {
     "data": {
      "text/plain": [
       "[<matplotlib.lines.Line2D at 0x1e097ee0580>]"
      ]
     },
     "execution_count": 66,
     "metadata": {},
     "output_type": "execute_result"
    },
    {
     "data": {
      "image/png": "[encoded data removed]",
      "text/plain": [
       "<Figure size 2000x600 with 1 Axes>"
      ]
     },
     "metadata": {},
     "output_type": "display_data"
    }
   ],
   "source": [
    "plt.figure(figsize=(20,6))\n",
    "plt.plot(plot_new, scaler.inverse_transform(ds_scaled[acquired_data:]))\n",
    "plt.plot(plot_pred, scaler.inverse_transform(lst_output))"
   ]
  },
  {
   "cell_type": "code",
   "execution_count": 67,
   "metadata": {},
   "outputs": [
    {
     "data": {
      "text/plain": [
       "5922"
      ]
     },
     "execution_count": 67,
     "metadata": {},
     "output_type": "execute_result"
    }
   ],
   "source": [
    "ds_new = ds_scaled.tolist()\n",
    "len(ds_new)"
   ]
  },
  {
   "cell_type": "code",
   "execution_count": 68,
   "metadata": {},
   "outputs": [
    {
     "data": {
      "text/plain": [
       "[<matplotlib.lines.Line2D at 0x1e097e3e050>]"
      ]
     },
     "execution_count": 68,
     "metadata": {},
     "output_type": "execute_result"
    },
    {
     "data": {
      "image/png": "[encoded data removed]",
      "text/plain": [
       "<Figure size 2000x600 with 1 Axes>"
      ]
     },
     "metadata": {},
     "output_type": "display_data"
    }
   ],
   "source": [
    "# Entends helps us to fill the missing value with approx value\n",
    "\n",
    "get_continuous = len(ds_new) - len(lst_output)\n",
    "get_continuous\n",
    "\n",
    "ds_new.extend(lst_output)\n",
    "plt.figure(figsize=(20,6))\n",
    "plt.plot(ds_new[get_continuous:])"
   ]
  },
  {
   "cell_type": "code",
   "execution_count": 69,
   "metadata": {},
   "outputs": [
    {
     "data": {
      "text/plain": [
       "5932"
      ]
     },
     "execution_count": 69,
     "metadata": {},
     "output_type": "execute_result"
    }
   ],
   "source": [
    "#Creating final data for plotting\n",
    "final_graph = scaler.inverse_transform(ds_new).tolist()\n",
    "len(final_graph)"
   ]
  },
  {
   "cell_type": "code",
   "execution_count": 70,
   "metadata": {},
   "outputs": [
    {
     "data": {
      "text/plain": [
       "array([ 122.480469,  132.110931,  121.542191, ..., 1411.150024,\n",
       "       1443.900024, 1437.650024])"
      ]
     },
     "execution_count": 70,
     "metadata": {},
     "output_type": "execute_result"
    }
   ],
   "source": [
    "sdata_c.STOCK_PRICE.values"
   ]
  },
  {
   "cell_type": "code",
   "execution_count": 71,
   "metadata": {},
   "outputs": [
    {
     "data": {
      "text/plain": [
       "[[122.48046899999999],\n",
       " [132.110931],\n",
       " [121.542191],\n",
       " [111.819138],\n",
       " [102.873825],\n",
       " [107.03125],\n",
       " [98.469139],\n",
       " [101.570313],\n",
       " [93.953514],\n",
       " [94.382813],\n",
       " [92.576172],\n",
       " [95.625],\n",
       " [101.556641],\n",
       " [98.690231],\n",
       " [105.738281],\n",
       " [111.71875],\n",
       " [112.8125],\n",
       " [114.1875],\n",
       " [117.96875],\n",
       " [112.578125],\n",
       " [115.09375],\n",
       " [114.6875],\n",
       " [116.40625],\n",
       " [122.56250000000001],\n",
       " [132.367188],\n",
       " [138.75],\n",
       " [135.609375],\n",
       " [144.140625],\n",
       " [155.67109700000003],\n",
       " [168.12422200000003],\n",
       " [155.93750000000003],\n",
       " [155.461716],\n",
       " [160.417191],\n",
       " [153.75],\n",
       " [160.546875],\n",
       " [156.09375000000003],\n",
       " [143.607025],\n",
       " [148.351563],\n",
       " [136.499222],\n",
       " [133.59375],\n",
       " [136.009369],\n",
       " [146.889847],\n",
       " [158.640625],\n",
       " [171.331253],\n",
       " [185.037506],\n",
       " [199.83984400000003],\n",
       " [193.568756],\n",
       " [183.092194],\n",
       " [182.81250000000003],\n",
       " [168.18827800000003],\n",
       " [154.733597],\n",
       " [151.676559],\n",
       " [139.542969],\n",
       " [150.706253],\n",
       " [162.76249700000002],\n",
       " [159.53125],\n",
       " [166.76797500000004],\n",
       " [163.150787],\n",
       " [156.987503],\n",
       " [161.610931],\n",
       " [151.1875],\n",
       " [139.092972],\n",
       " [127.96562199999998],\n",
       " [117.728905],\n",
       " [122.039063],\n",
       " [131.801559],\n",
       " [142.345306],\n",
       " [153.73202500000002],\n",
       " [166.029694],\n",
       " [157.306244],\n",
       " [144.721878],\n",
       " [133.144531],\n",
       " [122.773438],\n",
       " [112.952347],\n",
       " [118.065628],\n",
       " [113.570313],\n",
       " [113.992188],\n",
       " [123.110939],\n",
       " [124.492188],\n",
       " [126.5625],\n",
       " [123.00000000000001],\n",
       " [120.31250000000001],\n",
       " [127.6875],\n",
       " [132.8125],\n",
       " [118.012497],\n",
       " [123.828125],\n",
       " [120.31250000000001],\n",
       " [112.34375],\n",
       " [106.71875],\n",
       " [108.90625],\n",
       " [108.28125],\n",
       " [109.269531],\n",
       " [108.34375],\n",
       " [100.890625],\n",
       " [91.625],\n",
       " [96.5625],\n",
       " [94.140625],\n",
       " [94.185158],\n",
       " [93.59375],\n",
       " [91.813278],\n",
       " [97.898438],\n",
       " [109.21875],\n",
       " [111.09550775],\n",
       " [117.578125],\n",
       " [125.128906],\n",
       " [124.80703],\n",
       " [121.02265900000002],\n",
       " [123.57578299999999],\n",
       " [122.81484199999998],\n",
       " [121.342972],\n",
       " [121.92031099999998],\n",
       " [122.59922],\n",
       " [129.631256],\n",
       " [131.714066],\n",
       " [133.912506],\n",
       " [137.103119],\n",
       " [131.863281],\n",
       " [132.895309],\n",
       " [128.160156],\n",
       " [126.39687299999999],\n",
       " [127.471092],\n",
       " [128.860931],\n",
       " [130.483597],\n",
       " [129.982025],\n",
       " [136.383591],\n",
       " [133.8125],\n",
       " [132.097656],\n",
       " [132.547653],\n",
       " [130.100784],\n",
       " [129.337494],\n",
       " [131.129684],\n",
       " [124.445313],\n",
       " [120.809372],\n",
       " [119.54140499999998],\n",
       " [116.814842],\n",
       " [114.007034],\n",
       " [114.703903],\n",
       " [113.548439],\n",
       " [106.171875],\n",
       " [112.210159],\n",
       " [103.253906],\n",
       " [105.967186],\n",
       " [108.657028],\n",
       " [106.264847],\n",
       " [106.012497],\n",
       " [103.857811],\n",
       " [100.810158],\n",
       " [98.25],\n",
       " [101.5625],\n",
       " [117.402344],\n",
       " [118.610153],\n",
       " [113.903122],\n",
       " [113.366409],\n",
       " [114.033592],\n",
       " [121.082031],\n",
       " [117.667191],\n",
       " [124.47890499999998],\n",
       " [124.671875],\n",
       " [129.852341],\n",
       " [125.293747],\n",
       " [128.2211],\n",
       " [126.238281],\n",
       " [121.573441],\n",
       " [122.56015800000002],\n",
       " [122.282814],\n",
       " [130.830475],\n",
       " [134.200775],\n",
       " [133.388275],\n",
       " [130.632034],\n",
       " [130.551559],\n",
       " [133.676559],\n",
       " [135.753906],\n",
       " [138.234375],\n",
       " [135.735153],\n",
       " [133.848434],\n",
       " [132.935944],\n",
       " [124.832031],\n",
       " [120.552345],\n",
       " [121.959373],\n",
       " [117.614845],\n",
       " [109.668747],\n",
       " [118.441406],\n",
       " [113.856247],\n",
       " [116.516403],\n",
       " [114.958595],\n",
       " [114.743752],\n",
       " [118.375778],\n",
       " [118.793747],\n",
       " [116.982033],\n",
       " [115.46328],\n",
       " [115.602341],\n",
       " [113.885941],\n",
       " [106.257813],\n",
       " [106.089844],\n",
       " [101.246094],\n",
       " [102.049217],\n",
       " [100.795311],\n",
       " [97.520309],\n",
       " [104.340622],\n",
       " [110.928909],\n",
       " [107.919533],\n",
       " [110.745316],\n",
       " [113.22422],\n",
       " [111.712502],\n",
       " [112.511719],\n",
       " [111.008591],\n",
       " [112.021873],\n",
       " [113.957031],\n",
       " [115.600784],\n",
       " [118.418747],\n",
       " [118.620316],\n",
       " [120.268753],\n",
       " [124.948441],\n",
       " [123.859375],\n",
       " [122.36405900000001],\n",
       " [115.180466],\n",
       " [119.662498],\n",
       " [118.751564],\n",
       " [117.731247],\n",
       " [119.33125300000002],\n",
       " [120.03202800000001],\n",
       " [119.90000200000001],\n",
       " [115.875],\n",
       " [116.214066],\n",
       " [116.284378],\n",
       " [118.555466],\n",
       " [116.615623],\n",
       " [115.699219],\n",
       " [111.854691],\n",
       " [113.511719],\n",
       " [112.43203],\n",
       " [112.288284],\n",
       " [113.989845],\n",
       " [113.693748],\n",
       " [115.439064],\n",
       " [116.784378],\n",
       " [116.553909],\n",
       " [119.11405900000001],\n",
       " [117.685158],\n",
       " [112.117966],\n",
       " [111.0],\n",
       " [107.896873],\n",
       " [103.485153],\n",
       " [98.079689],\n",
       " [90.568748],\n",
       " [86.734375],\n",
       " [86.017189],\n",
       " [86.503906],\n",
       " [89.149216],\n",
       " [87.727341],\n",
       " [89.408592],\n",
       " [87.884377],\n",
       " [95.275002],\n",
       " [99.710938],\n",
       " [93.861717],\n",
       " [92.550003],\n",
       " [88.525002],\n",
       " [86.585159],\n",
       " [90.592972],\n",
       " [96.428909],\n",
       " [95.310936],\n",
       " [98.467186],\n",
       " [100.410934],\n",
       " [105.920311],\n",
       " [106.925003],\n",
       " [105.533592],\n",
       " [106.597656],\n",
       " [105.903122],\n",
       " [103.80703],\n",
       " [107.738281],\n",
       " [106.041405],\n",
       " [105.498436],\n",
       " [107.190628],\n",
       " [104.25],\n",
       " [104.475784],\n",
       " [101.400002],\n",
       " [102.133591],\n",
       " [100.096092],\n",
       " [99.628906],\n",
       " [99.737503],\n",
       " [99.404686],\n",
       " [101.517189],\n",
       " [97.721092],\n",
       " [98.516403],\n",
       " [97.989059],\n",
       " [92.375],\n",
       " [90.692184],\n",
       " [88.45448825],\n",
       " [89.359375],\n",
       " [88.989845],\n",
       " [97.787498],\n",
       " [86.0160195],\n",
       " [77.185158],\n",
       " [75.229691],\n",
       " [81.122658],\n",
       " [79.90078],\n",
       " [75.273438],\n",
       " [69.568748],\n",
       " [66.923439],\n",
       " [73.575783],\n",
       " [76.230469],\n",
       " [73.346878],\n",
       " [69.591408],\n",
       " [68.111717],\n",
       " [70.160156],\n",
       " [67.535934],\n",
       " [65.943748],\n",
       " [67.355469],\n",
       " [72.710159],\n",
       " [73.681252],\n",
       " [68.925003],\n",
       " [63.795311],\n",
       " [63.97734499999999],\n",
       " [63.642185000000005],\n",
       " [61.13984299999999],\n",
       " [62.63671899999999],\n",
       " [61.89453100000001],\n",
       " [60.24609400000001],\n",
       " [50.607033],\n",
       " [44.528908],\n",
       " [48.014843],\n",
       " [47.648438],\n",
       " [55.271873],\n",
       " [59.335938],\n",
       " [60.14922],\n",
       " [57.893749],\n",
       " [60.34765600000001],\n",
       " [59.60312700000001],\n",
       " [57.056252],\n",
       " [50.570313],\n",
       " [58.246876],\n",
       " [61.298435000000005],\n",
       " [59.387501],\n",
       " [59.585938],\n",
       " [62.486717000000006],\n",
       " [61.97578],\n",
       " [60.27109099999999],\n",
       " [60.00078200000001],\n",
       " [60.97499800000001],\n",
       " [60.87109400000001],\n",
       " [61.06171799999999],\n",
       " [59.335155],\n",
       " [61.07812500000001],\n",
       " [61.594532],\n",
       " [61.72656299999999],\n",
       " [62.015625],\n",
       " [65.290722375],\n",
       " [65.06797],\n",
       " [65.271095],\n",
       " [65.290722375],\n",
       " [65.290722375],\n",
       " [61.170311000000005],\n",
       " [58.973438],\n",
       " [58.545311],\n",
       " [56.53281],\n",
       " [59.052341],\n",
       " [59.314842],\n",
       " [60.610156999999994],\n",
       " [61.78125000000001],\n",
       " [59.493752],\n",
       " [59.971092],\n",
       " [59.764061],\n",
       " [59.426563],\n",
       " [53.154686],\n",
       " [52.641407],\n",
       " [54.092968],\n",
       " [52.508595],\n",
       " [53.221092],\n",
       " [53.746094],\n",
       " [52.162498],\n",
       " [55.717186],\n",
       " [55.280468],\n",
       " [56.342186],\n",
       " [58.771091],\n",
       " [58.172657],\n",
       " [54.754784625],\n",
       " [54.754784625],\n",
       " [54.754784625],\n",
       " [57.074219],\n",
       " [54.99453],\n",
       " [54.754784625],\n",
       " [58.865623],\n",
       " [59.655563625],\n",
       " [57.536716],\n",
       " [56.62656],\n",
       " [57.16328],\n",
       " [57.428905],\n",
       " [57.817188],\n",
       " [58.614063],\n",
       " [56.68047],\n",
       " [57.817966],\n",
       " [57.571095],\n",
       " [57.082031],\n",
       " [56.581249],\n",
       " [57.137501],\n",
       " [58.770313],\n",
       " [56.52578],\n",
       " [58.942188],\n",
       " [60.517185000000005],\n",
       " [59.239063],\n",
       " [58.646873],\n",
       " [57.514843],\n",
       " [57.528126],\n",
       " [56.987499],\n",
       " [56.513283],\n",
       " [59.210155],\n",
       " [59.210155],\n",
       " [58.58672],\n",
       " [57.234375],\n",
       " [57.529686],\n",
       " [58.557812],\n",
       " [58.557812],\n",
       " [58.902344],\n",
       " [59.56406],\n",
       " [61.070313],\n",
       " [61.545311],\n",
       " [58.525002],\n",
       " [57.954685],\n",
       " [55.192188],\n",
       " [53.21172],\n",
       " [53.471874],\n",
       " [52.737499],\n",
       " [51.514843],\n",
       " [51.889843],\n",
       " [54.299217],\n",
       " [54.703907],\n",
       " [49.677341],\n",
       " [49.379688],\n",
       " [45.453125],\n",
       " [40.908592],\n",
       " [41.436718],\n",
       " [40.047657],\n",
       " [38.391407],\n",
       " [34.552341],\n",
       " [37.535156],\n",
       " [38.676563],\n",
       " [40.14922],\n",
       " [36.760155],\n",
       " [37.161716],\n",
       " [36.431252],\n",
       " [36.431252],\n",
       " [34.340626],\n",
       " [37.070313],\n",
       " [38.86953],\n",
       " [37.371876],\n",
       " [37.740623],\n",
       " [39.259377],\n",
       " [43.185158],\n",
       " [46.160938],\n",
       " [45.472656],\n",
       " [46.428123],\n",
       " [46.813282],\n",
       " [44.513283],\n",
       " [46.175781],\n",
       " [46.997658],\n",
       " [47.236717],\n",
       " [47.195313],\n",
       " [47.203907],\n",
       " [47.203907],\n",
       " [47.058594],\n",
       " [46.320313],\n",
       " [45.535938],\n",
       " [46.012501],\n",
       " [45.179688],\n",
       " [44.678123],\n",
       " [46.085155],\n",
       " [44.116405],\n",
       " [44.950783],\n",
       " [45.768749],\n",
       " [46.452343],\n",
       " [45.294533],\n",
       " [46.192188],\n",
       " [50.810936],\n",
       " [50.810936],\n",
       " [55.891407],\n",
       " [56.416405],\n",
       " [55.004688],\n",
       " [54.252342],\n",
       " [55.582813],\n",
       " [61.096092],\n",
       " [58.859375],\n",
       " [59.79453300000001],\n",
       " [60.874218000000006],\n",
       " [60.874218000000006],\n",
       " [59.453125],\n",
       " [62.424999],\n",
       " [66.559372],\n",
       " [70.495316],\n",
       " [71.097656],\n",
       " [68.72422],\n",
       " [65.832031],\n",
       " [68.912498],\n",
       " [67.137497],\n",
       " [65.089844],\n",
       " [65.089844],\n",
       " [65.93203],\n",
       " [62.06015800000001],\n",
       " [64.514061],\n",
       " [62.078125],\n",
       " [63.435158],\n",
       " [63.435158],\n",
       " [61.473438],\n",
       " [61.222656],\n",
       " [63.115623],\n",
       " [63.650002],\n",
       " [63.142967],\n",
       " [67.120316],\n",
       " [70.063278],\n",
       " [73.246094],\n",
       " [74.156061875],\n",
       " [69.230469],\n",
       " [66.471878],\n",
       " [61.80468799999999],\n",
       " [62.717968000000006],\n",
       " [60.453125],\n",
       " [60.53828000000001],\n",
       " [64.372658],\n",
       " [61.648438],\n",
       " [61.375],\n",
       " [62.28828],\n",
       " [60.683594],\n",
       " [60.310158],\n",
       " [59.79843499999999],\n",
       " [58.957031],\n",
       " [58.861717],\n",
       " [57.332031],\n",
       " [60.77109099999999],\n",
       " [59.450783],\n",
       " [57.948437],\n",
       " [58.623436],\n",
       " [61.321877],\n",
       " [57.295311],\n",
       " [57.661716],\n",
       " [58.367188],\n",
       " [58.730469],\n",
       " [59.221092],\n",
       " [59.91249799999999],\n",
       " [59.996094],\n",
       " [58.285156],\n",
       " [57.842186],\n",
       " [57.042187],\n",
       " [57.181252],\n",
       " [58.080467],\n",
       " [58.55547],\n",
       " [60.071095],\n",
       " [59.903126],\n",
       " [55.160156],\n",
       " [56.293751],\n",
       " [56.996094],\n",
       " [59.957031],\n",
       " [61.440624],\n",
       " [64.586716],\n",
       " [66.027344],\n",
       " [66.258591],\n",
       " [65.487503],\n",
       " [63.285156],\n",
       " [63.18905999999999],\n",
       " [62.58593799999999],\n",
       " [62.339844],\n",
       " [61.621094],\n",
       " [61.02265499999999],\n",
       " [59.670311000000005],\n",
       " [59.855469],\n",
       " [59.855469],\n",
       " [57.342186],\n",
       " [57.534374],\n",
       " [58.366405],\n",
       " [58.366405],\n",
       " [55.591408],\n",
       " [55.634377],\n",
       " [55.003906],\n",
       " [57.063282],\n",
       " [56.668751],\n",
       " [56.609375],\n",
       " [56.299217],\n",
       " [58.983593],\n",
       " [60.72578],\n",
       " [60.69140600000001],\n",
       " [59.493752],\n",
       " [59.529686],\n",
       " [61.858593000000006],\n",
       " [61.93203],\n",
       " [60.16718699999999],\n",
       " [61.695313],\n",
       " [61.351563],\n",
       " [60.592186000000005],\n",
       " [59.222656],\n",
       " [59.574219],\n",
       " [56.777344],\n",
       " [57.648438],\n",
       " [57.648438],\n",
       " [58.599998],\n",
       " [58.698437],\n",
       " [58.236717],\n",
       " [58.217186],\n",
       " [59.542187000000006],\n",
       " [59.839062],\n",
       " [59.66328],\n",
       " [59.875782],\n",
       " [59.857811],\n",
       " [60.604687000000006],\n",
       " [59.55156300000001],\n",
       " [59.097656],\n",
       " [58.90078],\n",
       " [56.541405],\n",
       " [57.321095],\n",
       " [57.078907],\n",
       " [58.977345],\n",
       " [57.659374],\n",
       " [54.852345],\n",
       " [55.278908],\n",
       " [55.516407],\n",
       " [53.67969],\n",
       " [51.806252],\n",
       " [52.113281],\n",
       " [53.625782],\n",
       " [53.287498],\n",
       " [50.676563],\n",
       " [52.760155],\n",
       " [55.271091],\n",
       " [54.341408],\n",
       " [53.946877],\n",
       " [53.003906],\n",
       " [52.728905],\n",
       " [51.270313],\n",
       " [49.229687],\n",
       " [50.770313],\n",
       " [49.048435],\n",
       " [49.767185],\n",
       " [49.872658],\n",
       " [47.902344],\n",
       " [49.693748],\n",
       " [51.326561],\n",
       " [51.746094],\n",
       " [51.075783],\n",
       " [52.844532],\n",
       " [52.314842],\n",
       " [53.348438],\n",
       " [53.484375],\n",
       " [52.997658],\n",
       " [52.03281],\n",
       " [51.58828],\n",
       " [51.887501],\n",
       " [50.753906],\n",
       " [49.457813],\n",
       " [49.818748],\n",
       " [50.155468],\n",
       " [49.46172],\n",
       " [48.222656],\n",
       " [50.307812],\n",
       " [47.919533],\n",
       " [48.478905],\n",
       " [47.12656],\n",
       " [46.967186],\n",
       " [47.480469],\n",
       " [47.536716],\n",
       " [47.767967],\n",
       " [47.071877],\n",
       " [48.358593],\n",
       " [49.029686],\n",
       " [48.754688],\n",
       " [48.314842],\n",
       " [49.462502],\n",
       " [50.453125],\n",
       " [50.482033],\n",
       " [49.31953],\n",
       " [49.31953],\n",
       " [50.214062],\n",
       " [50.40078],\n",
       " [51.893749],\n",
       " [53.099998],\n",
       " [52.558594],\n",
       " [55.221874],\n",
       " [54.333591],\n",
       " [53.477345],\n",
       " [53.578907],\n",
       " [54.61953],\n",
       " [56.547657],\n",
       " [55.943748],\n",
       " [54.610157],\n",
       " [54.719532],\n",
       " [55.86797],\n",
       " [55.221092],\n",
       " [56.31406],\n",
       " [56.31406],\n",
       " [57.679688],\n",
       " [56.940624],\n",
       " [55.942188],\n",
       " [55.634377],\n",
       " [57.340626],\n",
       " [55.782032],\n",
       " [54.592186],\n",
       " [54.842968],\n",
       " [54.410156],\n",
       " [53.235157],\n",
       " [54.18203],\n",
       " [54.250782],\n",
       " [54.69453],\n",
       " [53.129688],\n",
       " [53.301563],\n",
       " [53.301563],\n",
       " [54.1875],\n",
       " [54.679688],\n",
       " [53.948437],\n",
       " [55.49297],\n",
       " [54.297657],\n",
       " [56.793751],\n",
       " [58.769531],\n",
       " [59.689842],\n",
       " [59.689842],\n",
       " [58.408592],\n",
       " [59.825001],\n",
       " [60.06562400000001],\n",
       " [59.91171599999999],\n",
       " [59.556252],\n",
       " [59.465626],\n",
       " [59.078125],\n",
       " [58.577343],\n",
       " [58.478127],\n",
       " [59.262501],\n",
       " [59.18047],\n",
       " [59.184376],\n",
       " [60.498436],\n",
       " [61.424217000000006],\n",
       " [63.373436],\n",
       " [63.373436],\n",
       " [62.990623],\n",
       " [62.487499],\n",
       " [61.543751],\n",
       " [61.539845],\n",
       " [61.936718000000006],\n",
       " [64.585938],\n",
       " [67.668747],\n",
       " [66.146095],\n",
       " [66.146095],\n",
       " [68.865623],\n",
       " [70.610153],\n",
       " [72.171875],\n",
       " [71.285934],\n",
       " [70.089844],\n",
       " [69.481247],\n",
       " [71.386719],\n",
       " [71.209373],\n",
       " [72.710159],\n",
       " [71.271095],\n",
       " [68.840622],\n",
       " [69.302345],\n",
       " [70.832809],\n",
       " [71.214066],\n",
       " [70.334373],\n",
       " [72.996094],\n",
       " [75.435158],\n",
       " [72.840622],\n",
       " [71.407814],\n",
       " [71.449219],\n",
       " [71.44297],\n",
       " [71.481247],\n",
       " [72.132034],\n",
       " [71.876564],\n",
       " [73.289841],\n",
       " [73.289841],\n",
       " [74.121094],\n",
       " [74.482033],\n",
       " [74.138283],\n",
       " [74.549217],\n",
       " [74.549217],\n",
       " [73.717186],\n",
       " [75.013283],\n",
       " [75.012497],\n",
       " [74.332031],\n",
       " [74.864059],\n",
       " [74.943748],\n",
       " [69.314064],\n",
       " [66.972656],\n",
       " [69.511719],\n",
       " [72.007034],\n",
       " [72.114059],\n",
       " [72.210938],\n",
       " [70.728127],\n",
       " [69.923439],\n",
       " [70.268753],\n",
       " [69.135941],\n",
       " [68.428909],\n",
       " [67.095314],\n",
       " [67.332031],\n",
       " [65.625778],\n",
       " [66.428909],\n",
       " [67.203903],\n",
       " [68.939064],\n",
       " [68.966408],\n",
       " [68.930466],\n",
       " [70.690628],\n",
       " [70.004684],\n",
       " [67.314064],\n",
       " [66.336716],\n",
       " [65.249222],\n",
       " [65.249222],\n",
       " [64.935158],\n",
       " [66.579689],\n",
       " [66.260941],\n",
       " [66.121872],\n",
       " [66.469528],\n",
       " [65.992966],\n",
       " [65.766403],\n",
       " [64.472656],\n",
       " [63.86328099999999],\n",
       " [64.221092],\n",
       " [66.939842],\n",
       " [65.881248],\n",
       " [64.940628],\n",
       " [65.379684],\n",
       " [64.032814],\n",
       " [62.848438],\n",
       " [63.19921899999999],\n",
       " [64.522659],\n",
       " [62.90390800000001],\n",
       " [63.72578000000001],\n",
       " [63.72578000000001],\n",
       " [63.09531],\n",
       " [63.09531],\n",
       " [65.469528],\n",
       " [68.419533],\n",
       " [68.822655],\n",
       " [68.314842],\n",
       " [66.658592],\n",
       " [66.476563],\n",
       " [67.027344],\n",
       " [66.614845],\n",
       " [63.129688],\n",
       " [63.755466000000006],\n",
       " [64.507813],\n",
       " [67.288284],\n",
       " [67.184372],\n",
       " [68.46875],\n",
       " [66.042969],\n",
       " [64.969528],\n",
       " [47.571877],\n",
       " [40.898438],\n",
       " [40.898438],\n",
       " [44.726563],\n",
       " [47.271873],\n",
       " [46.339844],\n",
       " [46.339844],\n",
       " [45.799217],\n",
       " [45.662498],\n",
       " [45.015625],\n",
       " [45.292969],\n",
       " [45.550781],\n",
       " [45.185158],\n",
       " [44.669533],\n",
       " [43.603905],\n",
       " [43.603905],\n",
       " [45.553905],\n",
       " [45.884377],\n",
       " [46.678123],\n",
       " [47.255466],\n",
       " [46.502342],\n",
       " [45.759377],\n",
       " [43.575783],\n",
       " [44.902344],\n",
       " [44.828125],\n",
       " [45.067966],\n",
       " [46.767967],\n",
       " [43.577343],\n",
       " [44.717186],\n",
       " [43.552341],\n",
       " [42.016407],\n",
       " [40.779686],\n",
       " [41.058594],\n",
       " [40.706249],\n",
       " [42.882813],\n",
       " [43.114841],\n",
       " [41.756248],\n",
       " [43.864063],\n",
       " [42.517185],\n",
       " [43.209373],\n",
       " [44.646091],\n",
       " [46.140625],\n",
       " [46.622658],\n",
       " [44.890625],\n",
       " [45.853905],\n",
       " [46.429688],\n",
       " [46.415627],\n",
       " [45.614841],\n",
       " [48.382813],\n",
       " [47.783592],\n",
       " [47.53281],\n",
       " [47.787498],\n",
       " [48.258595],\n",
       " [49.125],\n",
       " [49.011719],\n",
       " [50.664063],\n",
       " [52.101563],\n",
       " [51.013283],\n",
       " [51.639843],\n",
       " [49.360935],\n",
       " [48.78281],\n",
       " [48.400002],\n",
       " [48.30703],\n",
       " [50.644531],\n",
       " [50.870312],\n",
       " [56.476563],\n",
       " [54.854687],\n",
       " [54.395313],\n",
       " [53.192188],\n",
       " [53.75156],\n",
       " [53.965626],\n",
       " [52.917187],\n",
       " [51.239841],\n",
       " [52.302341],\n",
       " [53.712502],\n",
       " [54.196877],\n",
       " [54.893749],\n",
       " [55.137501],\n",
       " [56.108593],\n",
       " [55.716408],\n",
       " [56.145313],\n",
       " [59.131248],\n",
       " [58.436718],\n",
       " [58.314842],\n",
       " [54.75],\n",
       " [54.618752],\n",
       " [55.572655],\n",
       " [54.313282],\n",
       " [53.195313],\n",
       " [53.96328],\n",
       " [53.419533],\n",
       " [53.419533],\n",
       " [54.504688],\n",
       " [54.504688],\n",
       " [57.392185],\n",
       " [58.075001],\n",
       " [56.96875],\n",
       " [55.477345],\n",
       " [58.38203],\n",
       " [60.1875],\n",
       " [60.887501],\n",
       " [61.09999799999999],\n",
       " [60.453125],\n",
       " [60.632813],\n",
       " [59.76514012499997],\n",
       " [65.921875],\n",
       " [65.710938],\n",
       " [66.357811],\n",
       " [70.113281],\n",
       " [67.064064],\n",
       " [65.866409],\n",
       " [64.855469],\n",
       " [62.93046999999999],\n",
       " [65.574219],\n",
       " [67.429688],\n",
       " [66.342972],\n",
       " [67.796875],\n",
       " [68.313278],\n",
       " [67.417191],\n",
       " [70.646873],\n",
       " [70.544533],\n",
       " [71.028908],\n",
       " [69.90078],\n",
       " [70.690628],\n",
       " [71.38047],\n",
       " [71.38047],\n",
       " [71.155472],\n",
       " [71.264847],\n",
       " [69.625778],\n",
       " [68.634377],\n",
       " [69.278908],\n",
       " [72.010155],\n",
       " [74.189064],\n",
       " [73.65625],\n",
       " [74.009377],\n",
       " [72.010941],\n",
       " [74.03125],\n",
       " [72.007813],\n",
       " [71.136719],\n",
       " [70.485153],\n",
       " [68.903908],\n",
       " [71.221878],\n",
       " [69.430466],\n",
       " [69.921875],\n",
       " [71.214844],\n",
       " [71.909378],\n",
       " [74.085159],\n",
       " [77.877342],\n",
       " [78.232033],\n",
       " [78.139847],\n",
       " [79.13047],\n",
       " [77.541405],\n",
       " [77.097656],\n",
       " [77.331253],\n",
       " [75.780472],\n",
       " [73.858597],\n",
       " [72.076561],\n",
       " [72.041405],\n",
       " [72.099998],\n",
       " [72.829689],\n",
       " [72.060936],\n",
       " [73.000778],\n",
       " [72.303123],\n",
       " [73.960159],\n",
       " ...]"
      ]
     },
     "execution_count": 71,
     "metadata": {},
     "output_type": "execute_result"
    }
   ],
   "source": [
    "final_graph"
   ]
  },
  {
   "cell_type": "code",
   "execution_count": 72,
   "metadata": {},
   "outputs": [
    {
     "data": {
      "image/png": "[encoded data removed]",
      "text/plain": [
       "<Figure size 2000x600 with 1 Axes>"
      ]
     },
     "metadata": {},
     "output_type": "display_data"
    }
   ],
   "source": [
    "# The yahoo finance ticker for the stock symbol for Infosys\n",
    "stock_symbol = \"Infosys Limited (INFY.BO)\"\n",
    "\n",
    "# Plotting final results with predicted value after the given Duration Days\n",
    "plt.figure(figsize=(20,6))\n",
    "plt.plot(final_graph,)\n",
    "plt.xlabel(\"TIME\", weight='bold', fontfamily = \"Times New Roman\", size = '12')\n",
    "plt.ylabel(\"STOCK PRICE\", weight='bold', fontfamily = \"Times New Roman\", size = '12')\n",
    "plt.title(f\"{stock_symbol} prediction of next {duration} Days\", verticalalignment=\"center\", weight='bold', fontfamily = \"Times New Roman\", size = '18')\n",
    "plt.axhline(y=final_graph[len(final_graph)-1], color = 'red', linestyle = ':', label = f'NEXT {duration}D: {round(float(*final_graph[len(final_graph)-1]),2)}')\n",
    "plt.legend()\n",
    "plt.show()"
   ]
  },
  {
   "cell_type": "code",
   "execution_count": 73,
   "metadata": {},
   "outputs": [
    {
     "name": "stdout",
     "output_type": "stream",
     "text": [
      "<class 'pandas.core.frame.DataFrame'>\n",
      "RangeIndex: 5922 entries, 0 to 5921\n",
      "Data columns (total 3 columns):\n",
      " #   Column       Non-Null Count  Dtype         \n",
      "---  ------       --------------  -----         \n",
      " 0   DATE         5922 non-null   datetime64[ns]\n",
      " 1   STOCK_PRICE  5922 non-null   float64       \n",
      " 2   Indicator    5922 non-null   object        \n",
      "dtypes: datetime64[ns](1), float64(1), object(1)\n",
      "memory usage: 138.9+ KB\n"
     ]
    }
   ],
   "source": [
    "import datetime\n",
    "final_stock_data = st_data.copy()\n",
    "final_stock_data['DATE'] = pd.to_datetime(final_stock_data['DATE'], format = '%Y-%m-%d')\n",
    "final_stock_data.info()"
   ]
  },
  {
   "cell_type": "code",
   "execution_count": 74,
   "metadata": {},
   "outputs": [
    {
     "data": {
      "text/plain": [
       "[[0.7233899235725403],\n",
       " [0.7126705646514893],\n",
       " [0.7048243284225464],\n",
       " [0.6985471844673157],\n",
       " [0.6929922699928284],\n",
       " [0.6877676248550415],\n",
       " [0.6827631592750549],\n",
       " [0.6780000925064087],\n",
       " [0.6735321283340454],\n",
       " [0.6693990230560303]]"
      ]
     },
     "execution_count": 74,
     "metadata": {},
     "output_type": "execute_result"
    }
   ],
   "source": [
    "lst_output"
   ]
  },
  {
   "cell_type": "code",
   "execution_count": 75,
   "metadata": {},
   "outputs": [
    {
     "data": {
      "text/plain": [
       "array([1412.4051941 , 1391.98471513, 1377.03756175, 1365.07954383,\n",
       "       1354.49737981, 1344.54438198, 1335.01082825, 1325.93714153,\n",
       "       1317.425628  , 1309.5520238 ])"
      ]
     },
     "execution_count": 75,
     "metadata": {},
     "output_type": "execute_result"
    }
   ],
   "source": [
    "forecast_list = scaler.inverse_transform(lst_output).reshape(duration)\n",
    "forecast_list"
   ]
  },
  {
   "cell_type": "code",
   "execution_count": 76,
   "metadata": {},
   "outputs": [
    {
     "data": {
      "text/html": [
       "<div>\n",
       "<style scoped>\n",
       "    .dataframe tbody tr th:only-of-type {\n",
       "        vertical-align: middle;\n",
       "    }\n",
       "\n",
       "    .dataframe tbody tr th {\n",
       "        vertical-align: top;\n",
       "    }\n",
       "\n",
       "    .dataframe thead th {\n",
       "        text-align: right;\n",
       "    }\n",
       "</style>\n",
       "<table border=\"1\" class=\"dataframe\">\n",
       "  <thead>\n",
       "    <tr style=\"text-align: right;\">\n",
       "      <th></th>\n",
       "      <th>DATE</th>\n",
       "      <th>STOCK_PRICE</th>\n",
       "      <th>Indicator</th>\n",
       "    </tr>\n",
       "  </thead>\n",
       "  <tbody>\n",
       "    <tr>\n",
       "      <th>0</th>\n",
       "      <td>2023-11-18</td>\n",
       "      <td>1412.405194</td>\n",
       "      <td>forecasted</td>\n",
       "    </tr>\n",
       "    <tr>\n",
       "      <th>1</th>\n",
       "      <td>2023-11-19</td>\n",
       "      <td>1391.984715</td>\n",
       "      <td>forecasted</td>\n",
       "    </tr>\n",
       "    <tr>\n",
       "      <th>2</th>\n",
       "      <td>2023-11-20</td>\n",
       "      <td>1377.037562</td>\n",
       "      <td>forecasted</td>\n",
       "    </tr>\n",
       "    <tr>\n",
       "      <th>3</th>\n",
       "      <td>2023-11-21</td>\n",
       "      <td>1365.079544</td>\n",
       "      <td>forecasted</td>\n",
       "    </tr>\n",
       "    <tr>\n",
       "      <th>4</th>\n",
       "      <td>2023-11-22</td>\n",
       "      <td>1354.497380</td>\n",
       "      <td>forecasted</td>\n",
       "    </tr>\n",
       "    <tr>\n",
       "      <th>5</th>\n",
       "      <td>2023-11-23</td>\n",
       "      <td>1344.544382</td>\n",
       "      <td>forecasted</td>\n",
       "    </tr>\n",
       "    <tr>\n",
       "      <th>6</th>\n",
       "      <td>2023-11-24</td>\n",
       "      <td>1335.010828</td>\n",
       "      <td>forecasted</td>\n",
       "    </tr>\n",
       "    <tr>\n",
       "      <th>7</th>\n",
       "      <td>2023-11-25</td>\n",
       "      <td>1325.937142</td>\n",
       "      <td>forecasted</td>\n",
       "    </tr>\n",
       "    <tr>\n",
       "      <th>8</th>\n",
       "      <td>2023-11-26</td>\n",
       "      <td>1317.425628</td>\n",
       "      <td>forecasted</td>\n",
       "    </tr>\n",
       "    <tr>\n",
       "      <th>9</th>\n",
       "      <td>2023-11-27</td>\n",
       "      <td>1309.552024</td>\n",
       "      <td>forecasted</td>\n",
       "    </tr>\n",
       "  </tbody>\n",
       "</table>\n",
       "</div>"
      ],
      "text/plain": [
       "        DATE  STOCK_PRICE   Indicator\n",
       "0 2023-11-18  1412.405194  forecasted\n",
       "1 2023-11-19  1391.984715  forecasted\n",
       "2 2023-11-20  1377.037562  forecasted\n",
       "3 2023-11-21  1365.079544  forecasted\n",
       "4 2023-11-22  1354.497380  forecasted\n",
       "5 2023-11-23  1344.544382  forecasted\n",
       "6 2023-11-24  1335.010828  forecasted\n",
       "7 2023-11-25  1325.937142  forecasted\n",
       "8 2023-11-26  1317.425628  forecasted\n",
       "9 2023-11-27  1309.552024  forecasted"
      ]
     },
     "execution_count": 76,
     "metadata": {},
     "output_type": "execute_result"
    }
   ],
   "source": [
    "import datetime\n",
    "new_forecast = pd.DataFrame(columns=final_stock_data.columns)\n",
    "new_forecast['STOCK_PRICE'] = forecast_list\n",
    "new_forecast['Indicator'] = 'forecasted'\n",
    "\n",
    "# Getting the last row date from 'DATE' column, which can be used to get the start_date and end_date\n",
    "last_row_date = final_stock_data.DATE.iloc[-1] \n",
    "last_row_date = pd.to_datetime(last_row_date, format = '%Y-%m-%d') # Last date of the data frame in formatted\n",
    "start_date = last_row_date + datetime.timedelta(days=1)\n",
    "\n",
    "# Adding duration number of days\n",
    "end_date = start_date + datetime.timedelta(days=duration)\n",
    "\n",
    "# Adding the new dates to the dataframe new_forecast\n",
    "new_forecast['DATE']= pd.DataFrame(pd.date_range(start=start_date, end=end_date), columns=['DATE'])\n",
    "new_forecast"
   ]
  },
  {
   "cell_type": "code",
   "execution_count": 77,
   "metadata": {},
   "outputs": [
    {
     "data": {
      "text/html": [
       "<div>\n",
       "<style scoped>\n",
       "    .dataframe tbody tr th:only-of-type {\n",
       "        vertical-align: middle;\n",
       "    }\n",
       "\n",
       "    .dataframe tbody tr th {\n",
       "        vertical-align: top;\n",
       "    }\n",
       "\n",
       "    .dataframe thead th {\n",
       "        text-align: right;\n",
       "    }\n",
       "</style>\n",
       "<table border=\"1\" class=\"dataframe\">\n",
       "  <thead>\n",
       "    <tr style=\"text-align: right;\">\n",
       "      <th></th>\n",
       "      <th>STOCK_PRICE</th>\n",
       "      <th>Indicator</th>\n",
       "    </tr>\n",
       "    <tr>\n",
       "      <th>DATE</th>\n",
       "      <th></th>\n",
       "      <th></th>\n",
       "    </tr>\n",
       "  </thead>\n",
       "  <tbody>\n",
       "    <tr>\n",
       "      <th>2000-01-03</th>\n",
       "      <td>122.480469</td>\n",
       "      <td>train</td>\n",
       "    </tr>\n",
       "    <tr>\n",
       "      <th>2000-01-04</th>\n",
       "      <td>132.110931</td>\n",
       "      <td>train</td>\n",
       "    </tr>\n",
       "    <tr>\n",
       "      <th>2000-01-05</th>\n",
       "      <td>121.542191</td>\n",
       "      <td>train</td>\n",
       "    </tr>\n",
       "    <tr>\n",
       "      <th>2000-01-06</th>\n",
       "      <td>111.819138</td>\n",
       "      <td>train</td>\n",
       "    </tr>\n",
       "    <tr>\n",
       "      <th>2000-01-07</th>\n",
       "      <td>102.873825</td>\n",
       "      <td>train</td>\n",
       "    </tr>\n",
       "    <tr>\n",
       "      <th>...</th>\n",
       "      <td>...</td>\n",
       "      <td>...</td>\n",
       "    </tr>\n",
       "    <tr>\n",
       "      <th>2023-11-23</th>\n",
       "      <td>1344.544382</td>\n",
       "      <td>forecasted</td>\n",
       "    </tr>\n",
       "    <tr>\n",
       "      <th>2023-11-24</th>\n",
       "      <td>1335.010828</td>\n",
       "      <td>forecasted</td>\n",
       "    </tr>\n",
       "    <tr>\n",
       "      <th>2023-11-25</th>\n",
       "      <td>1325.937142</td>\n",
       "      <td>forecasted</td>\n",
       "    </tr>\n",
       "    <tr>\n",
       "      <th>2023-11-26</th>\n",
       "      <td>1317.425628</td>\n",
       "      <td>forecasted</td>\n",
       "    </tr>\n",
       "    <tr>\n",
       "      <th>2023-11-27</th>\n",
       "      <td>1309.552024</td>\n",
       "      <td>forecasted</td>\n",
       "    </tr>\n",
       "  </tbody>\n",
       "</table>\n",
       "<p>5932 rows × 2 columns</p>\n",
       "</div>"
      ],
      "text/plain": [
       "            STOCK_PRICE   Indicator\n",
       "DATE                               \n",
       "2000-01-03   122.480469       train\n",
       "2000-01-04   132.110931       train\n",
       "2000-01-05   121.542191       train\n",
       "2000-01-06   111.819138       train\n",
       "2000-01-07   102.873825       train\n",
       "...                 ...         ...\n",
       "2023-11-23  1344.544382  forecasted\n",
       "2023-11-24  1335.010828  forecasted\n",
       "2023-11-25  1325.937142  forecasted\n",
       "2023-11-26  1317.425628  forecasted\n",
       "2023-11-27  1309.552024  forecasted\n",
       "\n",
       "[5932 rows x 2 columns]"
      ]
     },
     "execution_count": 77,
     "metadata": {},
     "output_type": "execute_result"
    }
   ],
   "source": [
    "final_stock_data = pd.concat([final_stock_data, new_forecast], ignore_index=True)\n",
    "final_stock_data.set_index('DATE',inplace=True)\n",
    "final_stock_data"
   ]
  },
  {
   "cell_type": "code",
   "execution_count": 78,
   "metadata": {},
   "outputs": [
    {
     "data": {
      "image/png": "[encoded data removed]",
      "text/plain": [
       "<Figure size 2000x600 with 1 Axes>"
      ]
     },
     "metadata": {},
     "output_type": "display_data"
    }
   ],
   "source": [
    "plt.figure(figsize=(20,6))\n",
    "sns.lineplot(x='DATE', y='STOCK_PRICE', hue='Indicator', palette=['#0541ff','#009f6b','#FF0000'], data=final_stock_data)\n",
    "plt.xticks(rotation = 0,fontsize = 12, fontfamily = \"Times New Roman\")\n",
    "plt.xlabel(\"DATE\", weight='bold', fontfamily = \"Times New Roman\", size = '12')\n",
    "plt.ylabel(\"STOCK COUNT\", weight='bold', fontfamily = \"Times New Roman\", size = '12')\n",
    "plt.title(f\"{stock_symbol} prediction of next {duration} Days\", verticalalignment=\"center\", weight='bold', fontfamily = \"Times New Roman\", size = '18')\n",
    "plt.axhline(y=final_graph[len(final_graph)-1], color = '#ff9900', linestyle = ':', label = f'NEXT {duration}D: {round(float(*final_graph[len(final_graph)-1]),2)}')\n",
    "plt.legend()\n",
    "plt.show()"
   ]
  },
  {
   "cell_type": "code",
   "execution_count": 79,
   "metadata": {},
   "outputs": [],
   "source": [
    "import pickle\n",
    "pickle.dump(lstm_model, open('lstm_model.pkl', 'wb'))"
   ]
  },
  {
   "cell_type": "code",
   "execution_count": 80,
   "metadata": {},
   "outputs": [
    {
     "name": "stdout",
     "output_type": "stream",
     "text": [
      "Model: \"sequential_6\"\n",
      "_________________________________________________________________\n",
      " Layer (type)                Output Shape              Param #   \n",
      "=================================================================\n",
      " lstm_18 (LSTM)              (None, 100, 50)           10400     \n",
      "                                                                 \n",
      " lstm_19 (LSTM)              (None, 100, 50)           20200     \n",
      "                                                                 \n",
      " lstm_20 (LSTM)              (None, 50)                20200     \n",
      "                                                                 \n",
      " dense_6 (Dense)             (None, 1)                 51        \n",
      "                                                                 \n",
      "=================================================================\n",
      "Total params: 50851 (198.64 KB)\n",
      "Trainable params: 50851 (198.64 KB)\n",
      "Non-trainable params: 0 (0.00 Byte)\n",
      "_________________________________________________________________\n"
     ]
    }
   ],
   "source": [
    "pickled_lstm_model = pickle.load(open('lstm_model.pkl', 'rb'))\n",
    "# pickled_model.predict(int(len(data_boxcox)*split_percent), int(len(data_boxcox)*split_percent)+len(arima_test_data)-1)\n",
    "pickled_lstm_model.summary()"
   ]
  }
 ],
 "metadata": {
  "kernelspec": {
   "display_name": "Python 3",
   "language": "python",
   "name": "python3"
  },
  "language_info": {
   "codemirror_mode": {
    "name": "ipython",
    "version": 3
   },
   "file_extension": ".py",
   "mimetype": "text/x-python",
   "name": "python",
   "nbconvert_exporter": "python",
   "pygments_lexer": "ipython3",
   "version": "3.10.10"
  }
 },
 "nbformat": 4,
 "nbformat_minor": 2
}
