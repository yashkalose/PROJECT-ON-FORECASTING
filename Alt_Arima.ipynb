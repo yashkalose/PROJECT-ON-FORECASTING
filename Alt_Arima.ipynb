{
 "cells": [
  {
   "cell_type": "markdown",
   "metadata": {},
   "source": [
    "# **PROJECT** #\n",
    "## ***STOCK PRICE TIMELINE FORECASTING*** ##"
   ]
  },
  {
   "cell_type": "markdown",
   "metadata": {},
   "source": [
    "### **Company Name: INFOSYS** ###"
   ]
  },
  {
   "cell_type": "code",
   "execution_count": 121,
   "metadata": {},
   "outputs": [],
   "source": [
    "\n",
    "# Importing Libraries\n",
    "import numpy as np\n",
    "import pandas as pd\n",
    "from scipy.stats import boxcox\n",
    "from pandas.plotting import lag_plot\n",
    "from statsmodels.tsa.stattools import adfuller\n",
    "from statsmodels.tsa.stattools import acf, pacf\n",
    "from statsmodels.graphics.tsaplots import plot_acf\n",
    "from statsmodels.graphics.tsaplots import plot_pacf\n",
    "from pmdarima.arima import auto_arima\n",
    "from pandas import DataFrame\n",
    "from pandas import Grouper\n",
    "from math import sqrt\n",
    "from statsmodels.tsa.arima.model import ARIMA\n",
    "from sklearn.metrics import mean_squared_error, mean_absolute_error, mean_absolute_percentage_error, accuracy_score\n",
    "from statsmodels.tsa.seasonal import seasonal_decompose\n",
    "from statsmodels.tsa.holtwinters import SimpleExpSmoothing # SES\n",
    "from statsmodels.tsa.holtwinters import Holt # Holts Exponential Smoothing\n",
    "from statsmodels.tsa.holtwinters import ExponentialSmoothing\n",
    "import matplotlib.pyplot as plt\n",
    "import plotly.graph_objects as go\n",
    "from plotly.subplots import make_subplots\n",
    "import seaborn as sns\n",
    "from collections import Counter\n",
    "import plotly.express as px\n",
    "from plotly.offline import plot as off\n",
    "import plotly.figure_factory as ff\n",
    "import plotly.io as pio\n",
    "from sklearn.preprocessing import StandardScaler, LabelEncoder, MinMaxScaler, scale\n",
    "from sklearn.metrics import mean_squared_error\n",
    "from sklearn.model_selection import GridSearchCV, KFold, StratifiedKFold, cross_val_score, \\\n",
    "                                    train_test_split, RandomizedSearchCV\n",
    "import warnings\n",
    "warnings.filterwarnings('ignore')\n",
    "from sklearn.feature_selection import SelectKBest\n",
    "from sklearn.feature_selection import mutual_info_regression\n",
    "import pickle"
   ]
  },
  {
   "cell_type": "markdown",
   "metadata": {},
   "source": [
    "### **Importing data from file infosys.csv** ###"
   ]
  },
  {
   "cell_type": "markdown",
   "metadata": {},
   "source": [
    "**We have extracted the stock prices for INFOSYS from the website https://finance.yahoo.com/**\n",
    "Steps are as follows -\n",
    "\n",
    "    1. Visited the website https://finance.yahoo.com/\n",
    "    2. Select the INFOSYS Stocks by searching in the search bar for \"INFOSYS\" and the BSE index.\n",
    "    3. The data shows up as \"Infosys Limited (INFY.BO)\".\n",
    "        In order to get the historical data for stock prices for INFOSYS, we need to select the \"Historical Data\" tab.\n",
    "    4. We need to now select the \"Time Period\", with the Frequency as \"Daily\". We can click on the start \"Time Period\" and click \"Max\". It gives the maximum Time Period for stock prices.\n",
    "    5. Click on the Apply button. This will give the Daily stock prices for the given maximum duration, in this case \"Jan 03, 2000 - Nov 28, 2023\".\n",
    "    6. Click on the Download button. This will give us the option to download the file in a location in the computer.\n",
    "        We have selected to download as a .csv file with the name as \"infosys.csv\""
   ]
  },
  {
   "cell_type": "code",
   "execution_count": 122,
   "metadata": {},
   "outputs": [
    {
     "data": {
      "text/html": [
       "<div>\n",
       "<style scoped>\n",
       "    .dataframe tbody tr th:only-of-type {\n",
       "        vertical-align: middle;\n",
       "    }\n",
       "\n",
       "    .dataframe tbody tr th {\n",
       "        vertical-align: top;\n",
       "    }\n",
       "\n",
       "    .dataframe thead th {\n",
       "        text-align: right;\n",
       "    }\n",
       "</style>\n",
       "<table border=\"1\" class=\"dataframe\">\n",
       "  <thead>\n",
       "    <tr style=\"text-align: right;\">\n",
       "      <th></th>\n",
       "      <th>Date</th>\n",
       "      <th>Open</th>\n",
       "      <th>High</th>\n",
       "      <th>Low</th>\n",
       "      <th>Close</th>\n",
       "      <th>Adj Close</th>\n",
       "      <th>Volume</th>\n",
       "    </tr>\n",
       "  </thead>\n",
       "  <tbody>\n",
       "    <tr>\n",
       "      <th>0</th>\n",
       "      <td>03-01-2000</td>\n",
       "      <td>117.273438</td>\n",
       "      <td>122.480469</td>\n",
       "      <td>117.273438</td>\n",
       "      <td>122.480469</td>\n",
       "      <td>-2.162692</td>\n",
       "      <td>3804416.0</td>\n",
       "    </tr>\n",
       "    <tr>\n",
       "      <th>1</th>\n",
       "      <td>04-01-2000</td>\n",
       "      <td>132.278519</td>\n",
       "      <td>132.278519</td>\n",
       "      <td>125.000000</td>\n",
       "      <td>132.110931</td>\n",
       "      <td>-2.332741</td>\n",
       "      <td>12100608.0</td>\n",
       "    </tr>\n",
       "    <tr>\n",
       "      <th>2</th>\n",
       "      <td>05-01-2000</td>\n",
       "      <td>131.257813</td>\n",
       "      <td>131.257813</td>\n",
       "      <td>121.542191</td>\n",
       "      <td>121.542191</td>\n",
       "      <td>-2.146124</td>\n",
       "      <td>15264256.0</td>\n",
       "    </tr>\n",
       "    <tr>\n",
       "      <th>3</th>\n",
       "      <td>06-01-2000</td>\n",
       "      <td>119.531250</td>\n",
       "      <td>120.312500</td>\n",
       "      <td>111.819138</td>\n",
       "      <td>111.819138</td>\n",
       "      <td>-1.974440</td>\n",
       "      <td>9052800.0</td>\n",
       "    </tr>\n",
       "    <tr>\n",
       "      <th>4</th>\n",
       "      <td>07-01-2000</td>\n",
       "      <td>102.875000</td>\n",
       "      <td>102.875000</td>\n",
       "      <td>102.873825</td>\n",
       "      <td>102.873825</td>\n",
       "      <td>-1.816489</td>\n",
       "      <td>696832.0</td>\n",
       "    </tr>\n",
       "    <tr>\n",
       "      <th>...</th>\n",
       "      <td>...</td>\n",
       "      <td>...</td>\n",
       "      <td>...</td>\n",
       "      <td>...</td>\n",
       "      <td>...</td>\n",
       "      <td>...</td>\n",
       "      <td>...</td>\n",
       "    </tr>\n",
       "    <tr>\n",
       "      <th>5981</th>\n",
       "      <td>04-12-2023</td>\n",
       "      <td>1460.000000</td>\n",
       "      <td>1471.449951</td>\n",
       "      <td>1449.349976</td>\n",
       "      <td>1464.449951</td>\n",
       "      <td>1464.449951</td>\n",
       "      <td>123075.0</td>\n",
       "    </tr>\n",
       "    <tr>\n",
       "      <th>5982</th>\n",
       "      <td>05-12-2023</td>\n",
       "      <td>1464.349976</td>\n",
       "      <td>1466.949951</td>\n",
       "      <td>1442.199951</td>\n",
       "      <td>1453.699951</td>\n",
       "      <td>1453.699951</td>\n",
       "      <td>326852.0</td>\n",
       "    </tr>\n",
       "    <tr>\n",
       "      <th>5983</th>\n",
       "      <td>06-12-2023</td>\n",
       "      <td>1454.050049</td>\n",
       "      <td>1477.000000</td>\n",
       "      <td>1451.199951</td>\n",
       "      <td>1474.099976</td>\n",
       "      <td>1474.099976</td>\n",
       "      <td>167359.0</td>\n",
       "    </tr>\n",
       "    <tr>\n",
       "      <th>5984</th>\n",
       "      <td>07-12-2023</td>\n",
       "      <td>1474.099976</td>\n",
       "      <td>1474.099976</td>\n",
       "      <td>1462.000000</td>\n",
       "      <td>1466.150024</td>\n",
       "      <td>1466.150024</td>\n",
       "      <td>94902.0</td>\n",
       "    </tr>\n",
       "    <tr>\n",
       "      <th>5985</th>\n",
       "      <td>08-12-2023</td>\n",
       "      <td>1472.949951</td>\n",
       "      <td>1493.599976</td>\n",
       "      <td>1466.349976</td>\n",
       "      <td>1490.599976</td>\n",
       "      <td>1490.599976</td>\n",
       "      <td>782853.0</td>\n",
       "    </tr>\n",
       "  </tbody>\n",
       "</table>\n",
       "<p>5986 rows × 7 columns</p>\n",
       "</div>"
      ],
      "text/plain": [
       "            Date         Open         High          Low        Close  \\\n",
       "0     03-01-2000   117.273438   122.480469   117.273438   122.480469   \n",
       "1     04-01-2000   132.278519   132.278519   125.000000   132.110931   \n",
       "2     05-01-2000   131.257813   131.257813   121.542191   121.542191   \n",
       "3     06-01-2000   119.531250   120.312500   111.819138   111.819138   \n",
       "4     07-01-2000   102.875000   102.875000   102.873825   102.873825   \n",
       "...          ...          ...          ...          ...          ...   \n",
       "5981  04-12-2023  1460.000000  1471.449951  1449.349976  1464.449951   \n",
       "5982  05-12-2023  1464.349976  1466.949951  1442.199951  1453.699951   \n",
       "5983  06-12-2023  1454.050049  1477.000000  1451.199951  1474.099976   \n",
       "5984  07-12-2023  1474.099976  1474.099976  1462.000000  1466.150024   \n",
       "5985  08-12-2023  1472.949951  1493.599976  1466.349976  1490.599976   \n",
       "\n",
       "        Adj Close      Volume  \n",
       "0       -2.162692   3804416.0  \n",
       "1       -2.332741  12100608.0  \n",
       "2       -2.146124  15264256.0  \n",
       "3       -1.974440   9052800.0  \n",
       "4       -1.816489    696832.0  \n",
       "...           ...         ...  \n",
       "5981  1464.449951    123075.0  \n",
       "5982  1453.699951    326852.0  \n",
       "5983  1474.099976    167359.0  \n",
       "5984  1466.150024     94902.0  \n",
       "5985  1490.599976    782853.0  \n",
       "\n",
       "[5986 rows x 7 columns]"
      ]
     },
     "execution_count": 122,
     "metadata": {},
     "output_type": "execute_result"
    }
   ],
   "source": [
    "# Importing the data from the file 'infosys.csv'\n",
    "stock_orig_data = pd.read_csv('infosys.csv')\n",
    "stock_orig_data"
   ]
  },
  {
   "cell_type": "markdown",
   "metadata": {},
   "source": [
    "Importing the file \"infosys.csv\" and reading it via the pandas read_csv module.</br>\n",
    "**This gives us the columns - Date, Open, High, Low, Close, Adj Close and Volume.**</br>\n",
    "We are interested in the \"Date\" and \"Close\" columns, so we will remove the remaining columns as part of the EDA steps."
   ]
  },
  {
   "cell_type": "markdown",
   "metadata": {},
   "source": [
    "### **EDA (Exploratory Data Analysis)** ###"
   ]
  },
  {
   "cell_type": "code",
   "execution_count": 123,
   "metadata": {},
   "outputs": [
    {
     "data": {
      "text/plain": [
       "(5986, 7)"
      ]
     },
     "execution_count": 123,
     "metadata": {},
     "output_type": "execute_result"
    }
   ],
   "source": [
    "# Getting the shape of the Data Frame, it shows us that we have 5972 rows and 7 columns\n",
    "stock_orig_data.shape"
   ]
  },
  {
   "cell_type": "markdown",
   "metadata": {},
   "source": [
    "#### *Descriptive Analysis* ####"
   ]
  },
  {
   "cell_type": "code",
   "execution_count": 124,
   "metadata": {},
   "outputs": [
    {
     "data": {
      "text/html": [
       "<div>\n",
       "<style scoped>\n",
       "    .dataframe tbody tr th:only-of-type {\n",
       "        vertical-align: middle;\n",
       "    }\n",
       "\n",
       "    .dataframe tbody tr th {\n",
       "        vertical-align: top;\n",
       "    }\n",
       "\n",
       "    .dataframe thead th {\n",
       "        text-align: right;\n",
       "    }\n",
       "</style>\n",
       "<table border=\"1\" class=\"dataframe\">\n",
       "  <thead>\n",
       "    <tr style=\"text-align: right;\">\n",
       "      <th></th>\n",
       "      <th>Open</th>\n",
       "      <th>High</th>\n",
       "      <th>Low</th>\n",
       "      <th>Close</th>\n",
       "      <th>Adj Close</th>\n",
       "      <th>Volume</th>\n",
       "    </tr>\n",
       "  </thead>\n",
       "  <tbody>\n",
       "    <tr>\n",
       "      <th>count</th>\n",
       "      <td>5936.000000</td>\n",
       "      <td>5936.000000</td>\n",
       "      <td>5936.000000</td>\n",
       "      <td>5936.000000</td>\n",
       "      <td>5936.000000</td>\n",
       "      <td>5.936000e+03</td>\n",
       "    </tr>\n",
       "    <tr>\n",
       "      <th>mean</th>\n",
       "      <td>475.422240</td>\n",
       "      <td>480.461615</td>\n",
       "      <td>470.125391</td>\n",
       "      <td>475.217215</td>\n",
       "      <td>386.506996</td>\n",
       "      <td>5.386078e+06</td>\n",
       "    </tr>\n",
       "    <tr>\n",
       "      <th>std</th>\n",
       "      <td>446.288795</td>\n",
       "      <td>450.308704</td>\n",
       "      <td>442.179475</td>\n",
       "      <td>446.210878</td>\n",
       "      <td>475.160964</td>\n",
       "      <td>1.052657e+07</td>\n",
       "    </tr>\n",
       "    <tr>\n",
       "      <th>min</th>\n",
       "      <td>34.340626</td>\n",
       "      <td>34.340626</td>\n",
       "      <td>34.340626</td>\n",
       "      <td>34.340626</td>\n",
       "      <td>-7.086354</td>\n",
       "      <td>0.000000e+00</td>\n",
       "    </tr>\n",
       "    <tr>\n",
       "      <th>25%</th>\n",
       "      <td>151.968750</td>\n",
       "      <td>154.379692</td>\n",
       "      <td>148.768745</td>\n",
       "      <td>152.185940</td>\n",
       "      <td>37.004288</td>\n",
       "      <td>3.530758e+05</td>\n",
       "    </tr>\n",
       "    <tr>\n",
       "      <th>50%</th>\n",
       "      <td>343.237503</td>\n",
       "      <td>346.437500</td>\n",
       "      <td>340.321869</td>\n",
       "      <td>343.324997</td>\n",
       "      <td>185.346932</td>\n",
       "      <td>8.791920e+05</td>\n",
       "    </tr>\n",
       "    <tr>\n",
       "      <th>75%</th>\n",
       "      <td>580.000000</td>\n",
       "      <td>585.925018</td>\n",
       "      <td>571.690613</td>\n",
       "      <td>579.381256</td>\n",
       "      <td>528.692337</td>\n",
       "      <td>4.053274e+06</td>\n",
       "    </tr>\n",
       "    <tr>\n",
       "      <th>max</th>\n",
       "      <td>1935.000000</td>\n",
       "      <td>1953.699951</td>\n",
       "      <td>1931.150024</td>\n",
       "      <td>1939.349976</td>\n",
       "      <td>1889.180664</td>\n",
       "      <td>1.409381e+08</td>\n",
       "    </tr>\n",
       "  </tbody>\n",
       "</table>\n",
       "</div>"
      ],
      "text/plain": [
       "              Open         High          Low        Close    Adj Close  \\\n",
       "count  5936.000000  5936.000000  5936.000000  5936.000000  5936.000000   \n",
       "mean    475.422240   480.461615   470.125391   475.217215   386.506996   \n",
       "std     446.288795   450.308704   442.179475   446.210878   475.160964   \n",
       "min      34.340626    34.340626    34.340626    34.340626    -7.086354   \n",
       "25%     151.968750   154.379692   148.768745   152.185940    37.004288   \n",
       "50%     343.237503   346.437500   340.321869   343.324997   185.346932   \n",
       "75%     580.000000   585.925018   571.690613   579.381256   528.692337   \n",
       "max    1935.000000  1953.699951  1931.150024  1939.349976  1889.180664   \n",
       "\n",
       "             Volume  \n",
       "count  5.936000e+03  \n",
       "mean   5.386078e+06  \n",
       "std    1.052657e+07  \n",
       "min    0.000000e+00  \n",
       "25%    3.530758e+05  \n",
       "50%    8.791920e+05  \n",
       "75%    4.053274e+06  \n",
       "max    1.409381e+08  "
      ]
     },
     "execution_count": 124,
     "metadata": {},
     "output_type": "execute_result"
    }
   ],
   "source": [
    "# The .describe function help us get the Descriptive Analysis of the DataFrame.\n",
    "# It give us the Count, Mean, Standard Deviation, Minimum, 25% Quartile, 50% Quartile or Median, 75% Quartile and the Maximum Value for each of the columns.\n",
    "stock_orig_data.describe() # Describes the entire dataset"
   ]
  },
  {
   "cell_type": "code",
   "execution_count": 125,
   "metadata": {},
   "outputs": [
    {
     "data": {
      "text/plain": [
       "count    5936.000000\n",
       "mean      475.217215\n",
       "std       446.210878\n",
       "min        34.340626\n",
       "25%       152.185940\n",
       "50%       343.324997\n",
       "75%       579.381256\n",
       "max      1939.349976\n",
       "Name: Close, dtype: float64"
      ]
     },
     "execution_count": 125,
     "metadata": {},
     "output_type": "execute_result"
    }
   ],
   "source": [
    "# If we want to get the Descriptive Analysis data for only the specific column/feature \"Close\", \n",
    "# we can run the command specific to that column as shown below\n",
    "stock_orig_data['Close'].describe() # describe for the required column/feature 'Close'"
   ]
  },
  {
   "cell_type": "code",
   "execution_count": 126,
   "metadata": {},
   "outputs": [
    {
     "name": "stdout",
     "output_type": "stream",
     "text": [
      "<class 'pandas.core.frame.DataFrame'>\n",
      "RangeIndex: 5986 entries, 0 to 5985\n",
      "Data columns (total 7 columns):\n",
      " #   Column     Non-Null Count  Dtype  \n",
      "---  ------     --------------  -----  \n",
      " 0   Date       5986 non-null   object \n",
      " 1   Open       5936 non-null   float64\n",
      " 2   High       5936 non-null   float64\n",
      " 3   Low        5936 non-null   float64\n",
      " 4   Close      5936 non-null   float64\n",
      " 5   Adj Close  5936 non-null   float64\n",
      " 6   Volume     5936 non-null   float64\n",
      "dtypes: float64(6), object(1)\n",
      "memory usage: 327.5+ KB\n"
     ]
    }
   ],
   "source": [
    "# We get the details of the number of null/non-null values and Data time for each column/feature.\n",
    "stock_orig_data.info()"
   ]
  },
  {
   "cell_type": "markdown",
   "metadata": {},
   "source": [
    "*Creating backup file*"
   ]
  },
  {
   "cell_type": "code",
   "execution_count": 127,
   "metadata": {},
   "outputs": [],
   "source": [
    "# Creating a file 'stock_data' as copy of the original file 'stock_orig_data'\n",
    "# We will do all the changes in this file only.\n",
    "\n",
    "stock_data = stock_orig_data.copy()"
   ]
  },
  {
   "cell_type": "markdown",
   "metadata": {},
   "source": [
    "#### *Dropping columns not needed* ####"
   ]
  },
  {
   "cell_type": "code",
   "execution_count": 128,
   "metadata": {},
   "outputs": [],
   "source": [
    "# Once we have created a backup for the original file, we can now do changes on the file copy \"stock_data\"\n",
    "# We are retraining only the desired \n",
    "stock_data = stock_orig_data[['Date','Close']]"
   ]
  },
  {
   "cell_type": "code",
   "execution_count": 129,
   "metadata": {},
   "outputs": [
    {
     "data": {
      "text/html": [
       "<div>\n",
       "<style scoped>\n",
       "    .dataframe tbody tr th:only-of-type {\n",
       "        vertical-align: middle;\n",
       "    }\n",
       "\n",
       "    .dataframe tbody tr th {\n",
       "        vertical-align: top;\n",
       "    }\n",
       "\n",
       "    .dataframe thead th {\n",
       "        text-align: right;\n",
       "    }\n",
       "</style>\n",
       "<table border=\"1\" class=\"dataframe\">\n",
       "  <thead>\n",
       "    <tr style=\"text-align: right;\">\n",
       "      <th></th>\n",
       "      <th>Date</th>\n",
       "      <th>Close</th>\n",
       "    </tr>\n",
       "  </thead>\n",
       "  <tbody>\n",
       "    <tr>\n",
       "      <th>0</th>\n",
       "      <td>03-01-2000</td>\n",
       "      <td>122.480469</td>\n",
       "    </tr>\n",
       "    <tr>\n",
       "      <th>1</th>\n",
       "      <td>04-01-2000</td>\n",
       "      <td>132.110931</td>\n",
       "    </tr>\n",
       "    <tr>\n",
       "      <th>2</th>\n",
       "      <td>05-01-2000</td>\n",
       "      <td>121.542191</td>\n",
       "    </tr>\n",
       "    <tr>\n",
       "      <th>3</th>\n",
       "      <td>06-01-2000</td>\n",
       "      <td>111.819138</td>\n",
       "    </tr>\n",
       "    <tr>\n",
       "      <th>4</th>\n",
       "      <td>07-01-2000</td>\n",
       "      <td>102.873825</td>\n",
       "    </tr>\n",
       "    <tr>\n",
       "      <th>...</th>\n",
       "      <td>...</td>\n",
       "      <td>...</td>\n",
       "    </tr>\n",
       "    <tr>\n",
       "      <th>5981</th>\n",
       "      <td>04-12-2023</td>\n",
       "      <td>1464.449951</td>\n",
       "    </tr>\n",
       "    <tr>\n",
       "      <th>5982</th>\n",
       "      <td>05-12-2023</td>\n",
       "      <td>1453.699951</td>\n",
       "    </tr>\n",
       "    <tr>\n",
       "      <th>5983</th>\n",
       "      <td>06-12-2023</td>\n",
       "      <td>1474.099976</td>\n",
       "    </tr>\n",
       "    <tr>\n",
       "      <th>5984</th>\n",
       "      <td>07-12-2023</td>\n",
       "      <td>1466.150024</td>\n",
       "    </tr>\n",
       "    <tr>\n",
       "      <th>5985</th>\n",
       "      <td>08-12-2023</td>\n",
       "      <td>1490.599976</td>\n",
       "    </tr>\n",
       "  </tbody>\n",
       "</table>\n",
       "<p>5986 rows × 2 columns</p>\n",
       "</div>"
      ],
      "text/plain": [
       "            Date        Close\n",
       "0     03-01-2000   122.480469\n",
       "1     04-01-2000   132.110931\n",
       "2     05-01-2000   121.542191\n",
       "3     06-01-2000   111.819138\n",
       "4     07-01-2000   102.873825\n",
       "...          ...          ...\n",
       "5981  04-12-2023  1464.449951\n",
       "5982  05-12-2023  1453.699951\n",
       "5983  06-12-2023  1474.099976\n",
       "5984  07-12-2023  1466.150024\n",
       "5985  08-12-2023  1490.599976\n",
       "\n",
       "[5986 rows x 2 columns]"
      ]
     },
     "execution_count": 129,
     "metadata": {},
     "output_type": "execute_result"
    }
   ],
   "source": [
    "stock_data"
   ]
  },
  {
   "cell_type": "markdown",
   "metadata": {},
   "source": [
    "#### *Checking for Null Values* ####"
   ]
  },
  {
   "cell_type": "code",
   "execution_count": 130,
   "metadata": {},
   "outputs": [
    {
     "data": {
      "text/plain": [
       "(5986, 2)"
      ]
     },
     "execution_count": 130,
     "metadata": {},
     "output_type": "execute_result"
    }
   ],
   "source": [
    "stock_data.shape"
   ]
  },
  {
   "cell_type": "code",
   "execution_count": 131,
   "metadata": {},
   "outputs": [
    {
     "data": {
      "text/plain": [
       "Date      0\n",
       "Close    50\n",
       "dtype: int64"
      ]
     },
     "execution_count": 131,
     "metadata": {},
     "output_type": "execute_result"
    }
   ],
   "source": [
    "# Checking to see if there are any null values\n",
    "# We can get this information using stock_data.info() option as well\n",
    "stock_data.isnull().sum() # The result shows that there are null values"
   ]
  },
  {
   "cell_type": "code",
   "execution_count": 132,
   "metadata": {},
   "outputs": [],
   "source": [
    "stock_data.dropna(subset=['Close'], inplace=True) # We are concentrating on dropping for 'Close' column our intended column. \n",
    "# However, dropping null values in 'Close' column will have a desired effect on other columns as well."
   ]
  },
  {
   "cell_type": "code",
   "execution_count": 133,
   "metadata": {},
   "outputs": [
    {
     "data": {
      "text/plain": [
       "(5936, 2)"
      ]
     },
     "execution_count": 133,
     "metadata": {},
     "output_type": "execute_result"
    }
   ],
   "source": [
    "stock_data.shape"
   ]
  },
  {
   "cell_type": "code",
   "execution_count": 134,
   "metadata": {},
   "outputs": [
    {
     "data": {
      "text/plain": [
       "Date     0\n",
       "Close    0\n",
       "dtype: int64"
      ]
     },
     "execution_count": 134,
     "metadata": {},
     "output_type": "execute_result"
    }
   ],
   "source": [
    "stock_data.isnull().sum() # Rechecking after dropping null values"
   ]
  },
  {
   "cell_type": "markdown",
   "metadata": {},
   "source": [
    "#### *Checking for missing values* ####"
   ]
  },
  {
   "cell_type": "code",
   "execution_count": 135,
   "metadata": {},
   "outputs": [
    {
     "data": {
      "text/plain": [
       "Date     0\n",
       "Close    0\n",
       "dtype: int64"
      ]
     },
     "execution_count": 135,
     "metadata": {},
     "output_type": "execute_result"
    }
   ],
   "source": [
    "# Check for missing values\n",
    "stock_data.isna().sum() # The result shows that there are no missing values"
   ]
  },
  {
   "cell_type": "markdown",
   "metadata": {},
   "source": [
    "#### *Checking for Duplicates* ####"
   ]
  },
  {
   "cell_type": "code",
   "execution_count": 136,
   "metadata": {},
   "outputs": [
    {
     "data": {
      "text/plain": [
       "0       False\n",
       "1       False\n",
       "2       False\n",
       "3       False\n",
       "4       False\n",
       "        ...  \n",
       "5981    False\n",
       "5982    False\n",
       "5983    False\n",
       "5984    False\n",
       "5985    False\n",
       "Length: 5936, dtype: bool"
      ]
     },
     "execution_count": 136,
     "metadata": {},
     "output_type": "execute_result"
    }
   ],
   "source": [
    "# Checking for Duplicate Values\n",
    "stock_data.duplicated()  # if any 2 rows has same values"
   ]
  },
  {
   "cell_type": "code",
   "execution_count": 137,
   "metadata": {},
   "outputs": [
    {
     "data": {
      "text/plain": [
       "(0, 2)"
      ]
     },
     "execution_count": 137,
     "metadata": {},
     "output_type": "execute_result"
    }
   ],
   "source": [
    "# Count of duplicated rows\n",
    "stock_data[stock_data.duplicated()].shape # We see that there are no duplicates"
   ]
  },
  {
   "cell_type": "code",
   "execution_count": 138,
   "metadata": {},
   "outputs": [
    {
     "data": {
      "text/html": [
       "<div>\n",
       "<style scoped>\n",
       "    .dataframe tbody tr th:only-of-type {\n",
       "        vertical-align: middle;\n",
       "    }\n",
       "\n",
       "    .dataframe tbody tr th {\n",
       "        vertical-align: top;\n",
       "    }\n",
       "\n",
       "    .dataframe thead th {\n",
       "        text-align: right;\n",
       "    }\n",
       "</style>\n",
       "<table border=\"1\" class=\"dataframe\">\n",
       "  <thead>\n",
       "    <tr style=\"text-align: right;\">\n",
       "      <th></th>\n",
       "      <th>Date</th>\n",
       "      <th>Close</th>\n",
       "    </tr>\n",
       "  </thead>\n",
       "  <tbody>\n",
       "  </tbody>\n",
       "</table>\n",
       "</div>"
      ],
      "text/plain": [
       "Empty DataFrame\n",
       "Columns: [Date, Close]\n",
       "Index: []"
      ]
     },
     "execution_count": 138,
     "metadata": {},
     "output_type": "execute_result"
    }
   ],
   "source": [
    "# Print the duplicated rows. Since we have no duplicates it will show us nothing\n",
    "stock_data[stock_data.duplicated()] # There are no duplicates"
   ]
  },
  {
   "cell_type": "markdown",
   "metadata": {},
   "source": [
    "#### *Checking the data structure* ####"
   ]
  },
  {
   "cell_type": "code",
   "execution_count": 139,
   "metadata": {},
   "outputs": [
    {
     "name": "stdout",
     "output_type": "stream",
     "text": [
      "<class 'pandas.core.frame.DataFrame'>\n"
     ]
    }
   ],
   "source": [
    "# Data Structure\n",
    "print(type(stock_data))"
   ]
  },
  {
   "cell_type": "code",
   "execution_count": 140,
   "metadata": {},
   "outputs": [
    {
     "data": {
      "text/plain": [
       "Date      object\n",
       "Close    float64\n",
       "dtype: object"
      ]
     },
     "execution_count": 140,
     "metadata": {},
     "output_type": "execute_result"
    }
   ],
   "source": [
    "# Checking data types\n",
    "stock_data.dtypes # check data types of all variables"
   ]
  },
  {
   "cell_type": "markdown",
   "metadata": {},
   "source": [
    "#### *Renaming columns* ####"
   ]
  },
  {
   "cell_type": "code",
   "execution_count": 141,
   "metadata": {},
   "outputs": [
    {
     "data": {
      "text/html": [
       "<div>\n",
       "<style scoped>\n",
       "    .dataframe tbody tr th:only-of-type {\n",
       "        vertical-align: middle;\n",
       "    }\n",
       "\n",
       "    .dataframe tbody tr th {\n",
       "        vertical-align: top;\n",
       "    }\n",
       "\n",
       "    .dataframe thead th {\n",
       "        text-align: right;\n",
       "    }\n",
       "</style>\n",
       "<table border=\"1\" class=\"dataframe\">\n",
       "  <thead>\n",
       "    <tr style=\"text-align: right;\">\n",
       "      <th></th>\n",
       "      <th>DATE</th>\n",
       "      <th>STOCK_PRICE</th>\n",
       "    </tr>\n",
       "  </thead>\n",
       "  <tbody>\n",
       "    <tr>\n",
       "      <th>0</th>\n",
       "      <td>03-01-2000</td>\n",
       "      <td>122.480469</td>\n",
       "    </tr>\n",
       "    <tr>\n",
       "      <th>1</th>\n",
       "      <td>04-01-2000</td>\n",
       "      <td>132.110931</td>\n",
       "    </tr>\n",
       "    <tr>\n",
       "      <th>2</th>\n",
       "      <td>05-01-2000</td>\n",
       "      <td>121.542191</td>\n",
       "    </tr>\n",
       "    <tr>\n",
       "      <th>3</th>\n",
       "      <td>06-01-2000</td>\n",
       "      <td>111.819138</td>\n",
       "    </tr>\n",
       "    <tr>\n",
       "      <th>4</th>\n",
       "      <td>07-01-2000</td>\n",
       "      <td>102.873825</td>\n",
       "    </tr>\n",
       "  </tbody>\n",
       "</table>\n",
       "</div>"
      ],
      "text/plain": [
       "         DATE  STOCK_PRICE\n",
       "0  03-01-2000   122.480469\n",
       "1  04-01-2000   132.110931\n",
       "2  05-01-2000   121.542191\n",
       "3  06-01-2000   111.819138\n",
       "4  07-01-2000   102.873825"
      ]
     },
     "execution_count": 141,
     "metadata": {},
     "output_type": "execute_result"
    }
   ],
   "source": [
    "# Renaming column names\n",
    "stock_data.rename(columns = {'Date':'DATE','Close':'STOCK_PRICE'}, inplace = True)\n",
    "stock_data.head()"
   ]
  },
  {
   "cell_type": "code",
   "execution_count": 142,
   "metadata": {},
   "outputs": [
    {
     "data": {
      "text/html": [
       "<div>\n",
       "<style scoped>\n",
       "    .dataframe tbody tr th:only-of-type {\n",
       "        vertical-align: middle;\n",
       "    }\n",
       "\n",
       "    .dataframe tbody tr th {\n",
       "        vertical-align: top;\n",
       "    }\n",
       "\n",
       "    .dataframe thead th {\n",
       "        text-align: right;\n",
       "    }\n",
       "</style>\n",
       "<table border=\"1\" class=\"dataframe\">\n",
       "  <thead>\n",
       "    <tr style=\"text-align: right;\">\n",
       "      <th></th>\n",
       "      <th>DATE</th>\n",
       "      <th>STOCK_PRICE</th>\n",
       "    </tr>\n",
       "  </thead>\n",
       "  <tbody>\n",
       "    <tr>\n",
       "      <th>0</th>\n",
       "      <td>03-01-2000</td>\n",
       "      <td>122.480469</td>\n",
       "    </tr>\n",
       "    <tr>\n",
       "      <th>1</th>\n",
       "      <td>04-01-2000</td>\n",
       "      <td>132.110931</td>\n",
       "    </tr>\n",
       "    <tr>\n",
       "      <th>2</th>\n",
       "      <td>05-01-2000</td>\n",
       "      <td>121.542191</td>\n",
       "    </tr>\n",
       "    <tr>\n",
       "      <th>3</th>\n",
       "      <td>06-01-2000</td>\n",
       "      <td>111.819138</td>\n",
       "    </tr>\n",
       "    <tr>\n",
       "      <th>4</th>\n",
       "      <td>07-01-2000</td>\n",
       "      <td>102.873825</td>\n",
       "    </tr>\n",
       "    <tr>\n",
       "      <th>...</th>\n",
       "      <td>...</td>\n",
       "      <td>...</td>\n",
       "    </tr>\n",
       "    <tr>\n",
       "      <th>5981</th>\n",
       "      <td>04-12-2023</td>\n",
       "      <td>1464.449951</td>\n",
       "    </tr>\n",
       "    <tr>\n",
       "      <th>5982</th>\n",
       "      <td>05-12-2023</td>\n",
       "      <td>1453.699951</td>\n",
       "    </tr>\n",
       "    <tr>\n",
       "      <th>5983</th>\n",
       "      <td>06-12-2023</td>\n",
       "      <td>1474.099976</td>\n",
       "    </tr>\n",
       "    <tr>\n",
       "      <th>5984</th>\n",
       "      <td>07-12-2023</td>\n",
       "      <td>1466.150024</td>\n",
       "    </tr>\n",
       "    <tr>\n",
       "      <th>5985</th>\n",
       "      <td>08-12-2023</td>\n",
       "      <td>1490.599976</td>\n",
       "    </tr>\n",
       "  </tbody>\n",
       "</table>\n",
       "<p>5936 rows × 2 columns</p>\n",
       "</div>"
      ],
      "text/plain": [
       "            DATE  STOCK_PRICE\n",
       "0     03-01-2000   122.480469\n",
       "1     04-01-2000   132.110931\n",
       "2     05-01-2000   121.542191\n",
       "3     06-01-2000   111.819138\n",
       "4     07-01-2000   102.873825\n",
       "...          ...          ...\n",
       "5981  04-12-2023  1464.449951\n",
       "5982  05-12-2023  1453.699951\n",
       "5983  06-12-2023  1474.099976\n",
       "5984  07-12-2023  1466.150024\n",
       "5985  08-12-2023  1490.599976\n",
       "\n",
       "[5936 rows x 2 columns]"
      ]
     },
     "execution_count": 142,
     "metadata": {},
     "output_type": "execute_result"
    }
   ],
   "source": [
    "stock_data"
   ]
  },
  {
   "cell_type": "markdown",
   "metadata": {},
   "source": [
    "#### *Outlier Detection* ####"
   ]
  },
  {
   "cell_type": "code",
   "execution_count": 143,
   "metadata": {},
   "outputs": [
    {
     "data": {
      "text/plain": [
       "Text(0.5, 0.98, 'Close')"
      ]
     },
     "execution_count": 143,
     "metadata": {},
     "output_type": "execute_result"
    },
    {
     "data": {
      "image/png": "[encoded data removed]",
      "text/plain": [
       "<Figure size 2000x600 with 1 Axes>"
      ]
     },
     "metadata": {},
     "output_type": "display_data"
    }
   ],
   "source": [
    "plt.figure(figsize=(20,6))\n",
    "sns.boxplot(data=stock_data, x='STOCK_PRICE', color='#bebe00')\n",
    "plt.ylabel('Count')\n",
    "plt.suptitle('Close')"
   ]
  },
  {
   "cell_type": "markdown",
   "metadata": {},
   "source": [
    "##### **INFERENCE** #####\n",
    "1. Since the Mean is greater than the Median the data is \"Positively Skewed\"\n",
    "2. IQR=576-151=425\n",
    "3. The Median is 342\n",
    "4. There are many outliers between 1250 and 2000"
   ]
  },
  {
   "cell_type": "markdown",
   "metadata": {},
   "source": [
    "#### *Converting 'DATE' column to Index* ####"
   ]
  },
  {
   "cell_type": "code",
   "execution_count": 144,
   "metadata": {},
   "outputs": [],
   "source": [
    "stock_data.set_index('DATE',inplace=True)"
   ]
  },
  {
   "cell_type": "code",
   "execution_count": 145,
   "metadata": {},
   "outputs": [
    {
     "data": {
      "text/html": [
       "<div>\n",
       "<style scoped>\n",
       "    .dataframe tbody tr th:only-of-type {\n",
       "        vertical-align: middle;\n",
       "    }\n",
       "\n",
       "    .dataframe tbody tr th {\n",
       "        vertical-align: top;\n",
       "    }\n",
       "\n",
       "    .dataframe thead th {\n",
       "        text-align: right;\n",
       "    }\n",
       "</style>\n",
       "<table border=\"1\" class=\"dataframe\">\n",
       "  <thead>\n",
       "    <tr style=\"text-align: right;\">\n",
       "      <th></th>\n",
       "      <th>STOCK_PRICE</th>\n",
       "    </tr>\n",
       "    <tr>\n",
       "      <th>DATE</th>\n",
       "      <th></th>\n",
       "    </tr>\n",
       "  </thead>\n",
       "  <tbody>\n",
       "    <tr>\n",
       "      <th>03-01-2000</th>\n",
       "      <td>122.480469</td>\n",
       "    </tr>\n",
       "    <tr>\n",
       "      <th>04-01-2000</th>\n",
       "      <td>132.110931</td>\n",
       "    </tr>\n",
       "    <tr>\n",
       "      <th>05-01-2000</th>\n",
       "      <td>121.542191</td>\n",
       "    </tr>\n",
       "    <tr>\n",
       "      <th>06-01-2000</th>\n",
       "      <td>111.819138</td>\n",
       "    </tr>\n",
       "    <tr>\n",
       "      <th>07-01-2000</th>\n",
       "      <td>102.873825</td>\n",
       "    </tr>\n",
       "    <tr>\n",
       "      <th>...</th>\n",
       "      <td>...</td>\n",
       "    </tr>\n",
       "    <tr>\n",
       "      <th>04-12-2023</th>\n",
       "      <td>1464.449951</td>\n",
       "    </tr>\n",
       "    <tr>\n",
       "      <th>05-12-2023</th>\n",
       "      <td>1453.699951</td>\n",
       "    </tr>\n",
       "    <tr>\n",
       "      <th>06-12-2023</th>\n",
       "      <td>1474.099976</td>\n",
       "    </tr>\n",
       "    <tr>\n",
       "      <th>07-12-2023</th>\n",
       "      <td>1466.150024</td>\n",
       "    </tr>\n",
       "    <tr>\n",
       "      <th>08-12-2023</th>\n",
       "      <td>1490.599976</td>\n",
       "    </tr>\n",
       "  </tbody>\n",
       "</table>\n",
       "<p>5936 rows × 1 columns</p>\n",
       "</div>"
      ],
      "text/plain": [
       "            STOCK_PRICE\n",
       "DATE                   \n",
       "03-01-2000   122.480469\n",
       "04-01-2000   132.110931\n",
       "05-01-2000   121.542191\n",
       "06-01-2000   111.819138\n",
       "07-01-2000   102.873825\n",
       "...                 ...\n",
       "04-12-2023  1464.449951\n",
       "05-12-2023  1453.699951\n",
       "06-12-2023  1474.099976\n",
       "07-12-2023  1466.150024\n",
       "08-12-2023  1490.599976\n",
       "\n",
       "[5936 rows x 1 columns]"
      ]
     },
     "execution_count": 145,
     "metadata": {},
     "output_type": "execute_result"
    }
   ],
   "source": [
    "stock_data"
   ]
  },
  {
   "cell_type": "code",
   "execution_count": 146,
   "metadata": {},
   "outputs": [
    {
     "name": "stdout",
     "output_type": "stream",
     "text": [
      "<class 'pandas.core.frame.DataFrame'>\n",
      "Index: 5936 entries, 03-01-2000 to 08-12-2023\n",
      "Data columns (total 1 columns):\n",
      " #   Column       Non-Null Count  Dtype  \n",
      "---  ------       --------------  -----  \n",
      " 0   STOCK_PRICE  5936 non-null   float64\n",
      "dtypes: float64(1)\n",
      "memory usage: 92.8+ KB\n"
     ]
    }
   ],
   "source": [
    "stock_data.info()"
   ]
  },
  {
   "cell_type": "code",
   "execution_count": 147,
   "metadata": {},
   "outputs": [
    {
     "data": {
      "text/html": [
       "<div>\n",
       "<style scoped>\n",
       "    .dataframe tbody tr th:only-of-type {\n",
       "        vertical-align: middle;\n",
       "    }\n",
       "\n",
       "    .dataframe tbody tr th {\n",
       "        vertical-align: top;\n",
       "    }\n",
       "\n",
       "    .dataframe thead th {\n",
       "        text-align: right;\n",
       "    }\n",
       "</style>\n",
       "<table border=\"1\" class=\"dataframe\">\n",
       "  <thead>\n",
       "    <tr style=\"text-align: right;\">\n",
       "      <th></th>\n",
       "      <th>STOCK_PRICE</th>\n",
       "    </tr>\n",
       "    <tr>\n",
       "      <th>DATE</th>\n",
       "      <th></th>\n",
       "    </tr>\n",
       "  </thead>\n",
       "  <tbody>\n",
       "    <tr>\n",
       "      <th>03-01-2000</th>\n",
       "      <td>122.480469</td>\n",
       "    </tr>\n",
       "    <tr>\n",
       "      <th>04-01-2000</th>\n",
       "      <td>132.110931</td>\n",
       "    </tr>\n",
       "    <tr>\n",
       "      <th>05-01-2000</th>\n",
       "      <td>121.542191</td>\n",
       "    </tr>\n",
       "    <tr>\n",
       "      <th>06-01-2000</th>\n",
       "      <td>111.819138</td>\n",
       "    </tr>\n",
       "    <tr>\n",
       "      <th>07-01-2000</th>\n",
       "      <td>102.873825</td>\n",
       "    </tr>\n",
       "    <tr>\n",
       "      <th>...</th>\n",
       "      <td>...</td>\n",
       "    </tr>\n",
       "    <tr>\n",
       "      <th>04-12-2023</th>\n",
       "      <td>1464.449951</td>\n",
       "    </tr>\n",
       "    <tr>\n",
       "      <th>05-12-2023</th>\n",
       "      <td>1453.699951</td>\n",
       "    </tr>\n",
       "    <tr>\n",
       "      <th>06-12-2023</th>\n",
       "      <td>1474.099976</td>\n",
       "    </tr>\n",
       "    <tr>\n",
       "      <th>07-12-2023</th>\n",
       "      <td>1466.150024</td>\n",
       "    </tr>\n",
       "    <tr>\n",
       "      <th>08-12-2023</th>\n",
       "      <td>1490.599976</td>\n",
       "    </tr>\n",
       "  </tbody>\n",
       "</table>\n",
       "<p>5936 rows × 1 columns</p>\n",
       "</div>"
      ],
      "text/plain": [
       "            STOCK_PRICE\n",
       "DATE                   \n",
       "03-01-2000   122.480469\n",
       "04-01-2000   132.110931\n",
       "05-01-2000   121.542191\n",
       "06-01-2000   111.819138\n",
       "07-01-2000   102.873825\n",
       "...                 ...\n",
       "04-12-2023  1464.449951\n",
       "05-12-2023  1453.699951\n",
       "06-12-2023  1474.099976\n",
       "07-12-2023  1466.150024\n",
       "08-12-2023  1490.599976\n",
       "\n",
       "[5936 rows x 1 columns]"
      ]
     },
     "execution_count": 147,
     "metadata": {},
     "output_type": "execute_result"
    }
   ],
   "source": [
    "stock_data"
   ]
  },
  {
   "cell_type": "code",
   "execution_count": 148,
   "metadata": {},
   "outputs": [
    {
     "data": {
      "text/html": [
       "<div>\n",
       "<style scoped>\n",
       "    .dataframe tbody tr th:only-of-type {\n",
       "        vertical-align: middle;\n",
       "    }\n",
       "\n",
       "    .dataframe tbody tr th {\n",
       "        vertical-align: top;\n",
       "    }\n",
       "\n",
       "    .dataframe thead th {\n",
       "        text-align: right;\n",
       "    }\n",
       "</style>\n",
       "<table border=\"1\" class=\"dataframe\">\n",
       "  <thead>\n",
       "    <tr style=\"text-align: right;\">\n",
       "      <th></th>\n",
       "      <th>STOCK_PRICE</th>\n",
       "      <th>DATE</th>\n",
       "    </tr>\n",
       "    <tr>\n",
       "      <th>DATE</th>\n",
       "      <th></th>\n",
       "      <th></th>\n",
       "    </tr>\n",
       "  </thead>\n",
       "  <tbody>\n",
       "    <tr>\n",
       "      <th>03-01-2000</th>\n",
       "      <td>122.480469</td>\n",
       "      <td>03-01-2000</td>\n",
       "    </tr>\n",
       "    <tr>\n",
       "      <th>04-01-2000</th>\n",
       "      <td>132.110931</td>\n",
       "      <td>04-01-2000</td>\n",
       "    </tr>\n",
       "    <tr>\n",
       "      <th>05-01-2000</th>\n",
       "      <td>121.542191</td>\n",
       "      <td>05-01-2000</td>\n",
       "    </tr>\n",
       "    <tr>\n",
       "      <th>06-01-2000</th>\n",
       "      <td>111.819138</td>\n",
       "      <td>06-01-2000</td>\n",
       "    </tr>\n",
       "    <tr>\n",
       "      <th>07-01-2000</th>\n",
       "      <td>102.873825</td>\n",
       "      <td>07-01-2000</td>\n",
       "    </tr>\n",
       "    <tr>\n",
       "      <th>...</th>\n",
       "      <td>...</td>\n",
       "      <td>...</td>\n",
       "    </tr>\n",
       "    <tr>\n",
       "      <th>04-12-2023</th>\n",
       "      <td>1464.449951</td>\n",
       "      <td>04-12-2023</td>\n",
       "    </tr>\n",
       "    <tr>\n",
       "      <th>05-12-2023</th>\n",
       "      <td>1453.699951</td>\n",
       "      <td>05-12-2023</td>\n",
       "    </tr>\n",
       "    <tr>\n",
       "      <th>06-12-2023</th>\n",
       "      <td>1474.099976</td>\n",
       "      <td>06-12-2023</td>\n",
       "    </tr>\n",
       "    <tr>\n",
       "      <th>07-12-2023</th>\n",
       "      <td>1466.150024</td>\n",
       "      <td>07-12-2023</td>\n",
       "    </tr>\n",
       "    <tr>\n",
       "      <th>08-12-2023</th>\n",
       "      <td>1490.599976</td>\n",
       "      <td>08-12-2023</td>\n",
       "    </tr>\n",
       "  </tbody>\n",
       "</table>\n",
       "<p>5936 rows × 2 columns</p>\n",
       "</div>"
      ],
      "text/plain": [
       "            STOCK_PRICE        DATE\n",
       "DATE                               \n",
       "03-01-2000   122.480469  03-01-2000\n",
       "04-01-2000   132.110931  04-01-2000\n",
       "05-01-2000   121.542191  05-01-2000\n",
       "06-01-2000   111.819138  06-01-2000\n",
       "07-01-2000   102.873825  07-01-2000\n",
       "...                 ...         ...\n",
       "04-12-2023  1464.449951  04-12-2023\n",
       "05-12-2023  1453.699951  05-12-2023\n",
       "06-12-2023  1474.099976  06-12-2023\n",
       "07-12-2023  1466.150024  07-12-2023\n",
       "08-12-2023  1490.599976  08-12-2023\n",
       "\n",
       "[5936 rows x 2 columns]"
      ]
     },
     "execution_count": 148,
     "metadata": {},
     "output_type": "execute_result"
    }
   ],
   "source": [
    "stock_data['DATE'] = stock_data.index\n",
    "stock_data"
   ]
  },
  {
   "cell_type": "markdown",
   "metadata": {},
   "source": [
    "##### **INFERENCE** #####\n",
    "- As we can see here DATE is showing as 'object' i.e. a string type.\n",
    "- We need to convert this to datetime format"
   ]
  },
  {
   "cell_type": "markdown",
   "metadata": {},
   "source": [
    "#### *Converting 'DATE' column datetime format* ####"
   ]
  },
  {
   "cell_type": "code",
   "execution_count": 149,
   "metadata": {},
   "outputs": [],
   "source": [
    "stock_data['DATE'] = pd.to_datetime(stock_data['DATE'],format='%d-%m-%Y')"
   ]
  },
  {
   "cell_type": "code",
   "execution_count": 150,
   "metadata": {},
   "outputs": [
    {
     "name": "stdout",
     "output_type": "stream",
     "text": [
      "<class 'pandas.core.series.Series'>\n",
      "Index: 5936 entries, 03-01-2000 to 08-12-2023\n",
      "Series name: DATE\n",
      "Non-Null Count  Dtype         \n",
      "--------------  -----         \n",
      "5936 non-null   datetime64[ns]\n",
      "dtypes: datetime64[ns](1)\n",
      "memory usage: 92.8+ KB\n"
     ]
    }
   ],
   "source": [
    "stock_data[\"DATE\"].info()"
   ]
  },
  {
   "cell_type": "markdown",
   "metadata": {},
   "source": [
    "#### **VISUALIZATIONS** ####"
   ]
  },
  {
   "cell_type": "code",
   "execution_count": 151,
   "metadata": {},
   "outputs": [
    {
     "data": {
      "text/html": [
       "<div>\n",
       "<style scoped>\n",
       "    .dataframe tbody tr th:only-of-type {\n",
       "        vertical-align: middle;\n",
       "    }\n",
       "\n",
       "    .dataframe tbody tr th {\n",
       "        vertical-align: top;\n",
       "    }\n",
       "\n",
       "    .dataframe thead th {\n",
       "        text-align: right;\n",
       "    }\n",
       "</style>\n",
       "<table border=\"1\" class=\"dataframe\">\n",
       "  <thead>\n",
       "    <tr style=\"text-align: right;\">\n",
       "      <th></th>\n",
       "      <th>STOCK_PRICE</th>\n",
       "      <th>DATE</th>\n",
       "      <th>MONTH</th>\n",
       "      <th>YEAR</th>\n",
       "      <th>YEAR-MONTH</th>\n",
       "    </tr>\n",
       "    <tr>\n",
       "      <th>DATE</th>\n",
       "      <th></th>\n",
       "      <th></th>\n",
       "      <th></th>\n",
       "      <th></th>\n",
       "      <th></th>\n",
       "    </tr>\n",
       "  </thead>\n",
       "  <tbody>\n",
       "    <tr>\n",
       "      <th>03-01-2000</th>\n",
       "      <td>122.480469</td>\n",
       "      <td>2000-01-03</td>\n",
       "      <td>Jan</td>\n",
       "      <td>2000</td>\n",
       "      <td>2000-01</td>\n",
       "    </tr>\n",
       "    <tr>\n",
       "      <th>04-01-2000</th>\n",
       "      <td>132.110931</td>\n",
       "      <td>2000-01-04</td>\n",
       "      <td>Jan</td>\n",
       "      <td>2000</td>\n",
       "      <td>2000-01</td>\n",
       "    </tr>\n",
       "    <tr>\n",
       "      <th>05-01-2000</th>\n",
       "      <td>121.542191</td>\n",
       "      <td>2000-01-05</td>\n",
       "      <td>Jan</td>\n",
       "      <td>2000</td>\n",
       "      <td>2000-01</td>\n",
       "    </tr>\n",
       "    <tr>\n",
       "      <th>06-01-2000</th>\n",
       "      <td>111.819138</td>\n",
       "      <td>2000-01-06</td>\n",
       "      <td>Jan</td>\n",
       "      <td>2000</td>\n",
       "      <td>2000-01</td>\n",
       "    </tr>\n",
       "    <tr>\n",
       "      <th>07-01-2000</th>\n",
       "      <td>102.873825</td>\n",
       "      <td>2000-01-07</td>\n",
       "      <td>Jan</td>\n",
       "      <td>2000</td>\n",
       "      <td>2000-01</td>\n",
       "    </tr>\n",
       "    <tr>\n",
       "      <th>...</th>\n",
       "      <td>...</td>\n",
       "      <td>...</td>\n",
       "      <td>...</td>\n",
       "      <td>...</td>\n",
       "      <td>...</td>\n",
       "    </tr>\n",
       "    <tr>\n",
       "      <th>04-12-2023</th>\n",
       "      <td>1464.449951</td>\n",
       "      <td>2023-12-04</td>\n",
       "      <td>Dec</td>\n",
       "      <td>2023</td>\n",
       "      <td>2023-12</td>\n",
       "    </tr>\n",
       "    <tr>\n",
       "      <th>05-12-2023</th>\n",
       "      <td>1453.699951</td>\n",
       "      <td>2023-12-05</td>\n",
       "      <td>Dec</td>\n",
       "      <td>2023</td>\n",
       "      <td>2023-12</td>\n",
       "    </tr>\n",
       "    <tr>\n",
       "      <th>06-12-2023</th>\n",
       "      <td>1474.099976</td>\n",
       "      <td>2023-12-06</td>\n",
       "      <td>Dec</td>\n",
       "      <td>2023</td>\n",
       "      <td>2023-12</td>\n",
       "    </tr>\n",
       "    <tr>\n",
       "      <th>07-12-2023</th>\n",
       "      <td>1466.150024</td>\n",
       "      <td>2023-12-07</td>\n",
       "      <td>Dec</td>\n",
       "      <td>2023</td>\n",
       "      <td>2023-12</td>\n",
       "    </tr>\n",
       "    <tr>\n",
       "      <th>08-12-2023</th>\n",
       "      <td>1490.599976</td>\n",
       "      <td>2023-12-08</td>\n",
       "      <td>Dec</td>\n",
       "      <td>2023</td>\n",
       "      <td>2023-12</td>\n",
       "    </tr>\n",
       "  </tbody>\n",
       "</table>\n",
       "<p>5936 rows × 5 columns</p>\n",
       "</div>"
      ],
      "text/plain": [
       "            STOCK_PRICE       DATE MONTH  YEAR YEAR-MONTH\n",
       "DATE                                                     \n",
       "03-01-2000   122.480469 2000-01-03   Jan  2000    2000-01\n",
       "04-01-2000   132.110931 2000-01-04   Jan  2000    2000-01\n",
       "05-01-2000   121.542191 2000-01-05   Jan  2000    2000-01\n",
       "06-01-2000   111.819138 2000-01-06   Jan  2000    2000-01\n",
       "07-01-2000   102.873825 2000-01-07   Jan  2000    2000-01\n",
       "...                 ...        ...   ...   ...        ...\n",
       "04-12-2023  1464.449951 2023-12-04   Dec  2023    2023-12\n",
       "05-12-2023  1453.699951 2023-12-05   Dec  2023    2023-12\n",
       "06-12-2023  1474.099976 2023-12-06   Dec  2023    2023-12\n",
       "07-12-2023  1466.150024 2023-12-07   Dec  2023    2023-12\n",
       "08-12-2023  1490.599976 2023-12-08   Dec  2023    2023-12\n",
       "\n",
       "[5936 rows x 5 columns]"
      ]
     },
     "execution_count": 151,
     "metadata": {},
     "output_type": "execute_result"
    }
   ],
   "source": [
    "stock_data[\"MONTH\"] = stock_data.DATE.dt.strftime(\"%b\") # month extraction\n",
    "stock_data[\"YEAR\"] = stock_data.DATE.dt.strftime(\"%Y\") # year extraction\n",
    "stock_data[\"YEAR-MONTH\"] = stock_data.DATE.dt.strftime(\"%Y-%m\")\n",
    "stock_data_bak = stock_data.copy()\n",
    "stock_data"
   ]
  },
  {
   "cell_type": "code",
   "execution_count": 152,
   "metadata": {},
   "outputs": [],
   "source": [
    "def replace_outlier(df_in, col_name):\n",
    "    Q1 = df_in[col_name].quantile(0.25)\n",
    "    Q3 = df_in[col_name].quantile(0.75)\n",
    "    IQR = Q3 - Q1 # Interquartile range\n",
    "    upper = Q3 + 1.5*IQR\n",
    "    lower = Q1 - 1.5*IQR\n",
    "    median_val = df_in[col_name].median()\n",
    "    df_out = df_in.copy()\n",
    "    for i, j in df_in.iterrows():\n",
    "        if (j[col_name] > upper):\n",
    "            df_out.at[i, col_name] = upper\n",
    "        elif (j[col_name] < lower):\n",
    "            df_out.at[i, col_name] = lower\n",
    "        else:\n",
    "            df_out.at[i, col_name] = df_out.at[i, col_name]\n",
    "    return df_out"
   ]
  },
  {
   "cell_type": "code",
   "execution_count": 153,
   "metadata": {},
   "outputs": [],
   "source": [
    "def check_outliers(df_in, col_name):\n",
    "    Q1 = df_in[col_name].quantile(0.25)\n",
    "    Q3 = df_in[col_name].quantile(0.75)\n",
    "    IQR = Q3 - Q1 # Interquartile range\n",
    "    upper = Q3 + 1.5*IQR\n",
    "    lower = Q1 - 1.5*IQR\n",
    "    outliers = False\n",
    "    for i, j in df_in.iterrows():\n",
    "        if (j[col_name] > upper):\n",
    "            outliers = True\n",
    "        elif (j[col_name] < lower):\n",
    "            outliers = True\n",
    "    return outliers"
   ]
  },
  {
   "cell_type": "code",
   "execution_count": 154,
   "metadata": {},
   "outputs": [],
   "source": [
    "ym_periods = stock_data['YEAR-MONTH'].unique()\n",
    "ym_periods\n",
    "for ym in ym_periods:\n",
    "    temp_s_data = stock_data.groupby(['YEAR-MONTH']).get_group(ym)\n",
    "    col_name = 'STOCK_PRICE'\n",
    "    for i in range(1, 50):\n",
    "        if (check_outliers(temp_s_data, col_name) == True):\n",
    "            stock_data_out = replace_outlier(temp_s_data, col_name)\n",
    "            stock_data_bak = stock_data_bak.set_index('DATE')\n",
    "            stock_data_out = stock_data_out.set_index('DATE')\n",
    "            stock_data_bak.update(stock_data_out)\n",
    "            stock_data_bak.reset_index(inplace=True)"
   ]
  },
  {
   "cell_type": "code",
   "execution_count": 155,
   "metadata": {},
   "outputs": [
    {
     "data": {
      "text/html": [
       "<div>\n",
       "<style scoped>\n",
       "    .dataframe tbody tr th:only-of-type {\n",
       "        vertical-align: middle;\n",
       "    }\n",
       "\n",
       "    .dataframe tbody tr th {\n",
       "        vertical-align: top;\n",
       "    }\n",
       "\n",
       "    .dataframe thead th {\n",
       "        text-align: right;\n",
       "    }\n",
       "</style>\n",
       "<table border=\"1\" class=\"dataframe\">\n",
       "  <thead>\n",
       "    <tr style=\"text-align: right;\">\n",
       "      <th></th>\n",
       "      <th>STOCK_PRICE</th>\n",
       "      <th>MONTH</th>\n",
       "      <th>YEAR</th>\n",
       "      <th>YEAR-MONTH</th>\n",
       "      <th>DATE</th>\n",
       "    </tr>\n",
       "    <tr>\n",
       "      <th>DATE</th>\n",
       "      <th></th>\n",
       "      <th></th>\n",
       "      <th></th>\n",
       "      <th></th>\n",
       "      <th></th>\n",
       "    </tr>\n",
       "  </thead>\n",
       "  <tbody>\n",
       "    <tr>\n",
       "      <th>2000-01-03</th>\n",
       "      <td>122.480469</td>\n",
       "      <td>Jan</td>\n",
       "      <td>2000</td>\n",
       "      <td>2000-01</td>\n",
       "      <td>2000-01-03</td>\n",
       "    </tr>\n",
       "    <tr>\n",
       "      <th>2000-01-04</th>\n",
       "      <td>132.110931</td>\n",
       "      <td>Jan</td>\n",
       "      <td>2000</td>\n",
       "      <td>2000-01</td>\n",
       "      <td>2000-01-04</td>\n",
       "    </tr>\n",
       "    <tr>\n",
       "      <th>2000-01-05</th>\n",
       "      <td>121.542191</td>\n",
       "      <td>Jan</td>\n",
       "      <td>2000</td>\n",
       "      <td>2000-01</td>\n",
       "      <td>2000-01-05</td>\n",
       "    </tr>\n",
       "    <tr>\n",
       "      <th>2000-01-06</th>\n",
       "      <td>111.819138</td>\n",
       "      <td>Jan</td>\n",
       "      <td>2000</td>\n",
       "      <td>2000-01</td>\n",
       "      <td>2000-01-06</td>\n",
       "    </tr>\n",
       "    <tr>\n",
       "      <th>2000-01-07</th>\n",
       "      <td>102.873825</td>\n",
       "      <td>Jan</td>\n",
       "      <td>2000</td>\n",
       "      <td>2000-01</td>\n",
       "      <td>2000-01-07</td>\n",
       "    </tr>\n",
       "    <tr>\n",
       "      <th>...</th>\n",
       "      <td>...</td>\n",
       "      <td>...</td>\n",
       "      <td>...</td>\n",
       "      <td>...</td>\n",
       "      <td>...</td>\n",
       "    </tr>\n",
       "    <tr>\n",
       "      <th>2023-12-04</th>\n",
       "      <td>1464.449951</td>\n",
       "      <td>Dec</td>\n",
       "      <td>2023</td>\n",
       "      <td>2023-12</td>\n",
       "      <td>2023-12-04</td>\n",
       "    </tr>\n",
       "    <tr>\n",
       "      <th>2023-12-05</th>\n",
       "      <td>1453.699951</td>\n",
       "      <td>Dec</td>\n",
       "      <td>2023</td>\n",
       "      <td>2023-12</td>\n",
       "      <td>2023-12-05</td>\n",
       "    </tr>\n",
       "    <tr>\n",
       "      <th>2023-12-06</th>\n",
       "      <td>1474.099976</td>\n",
       "      <td>Dec</td>\n",
       "      <td>2023</td>\n",
       "      <td>2023-12</td>\n",
       "      <td>2023-12-06</td>\n",
       "    </tr>\n",
       "    <tr>\n",
       "      <th>2023-12-07</th>\n",
       "      <td>1466.150024</td>\n",
       "      <td>Dec</td>\n",
       "      <td>2023</td>\n",
       "      <td>2023-12</td>\n",
       "      <td>2023-12-07</td>\n",
       "    </tr>\n",
       "    <tr>\n",
       "      <th>2023-12-08</th>\n",
       "      <td>1490.599976</td>\n",
       "      <td>Dec</td>\n",
       "      <td>2023</td>\n",
       "      <td>2023-12</td>\n",
       "      <td>2023-12-08</td>\n",
       "    </tr>\n",
       "  </tbody>\n",
       "</table>\n",
       "<p>5936 rows × 5 columns</p>\n",
       "</div>"
      ],
      "text/plain": [
       "            STOCK_PRICE MONTH  YEAR YEAR-MONTH       DATE\n",
       "DATE                                                     \n",
       "2000-01-03   122.480469   Jan  2000    2000-01 2000-01-03\n",
       "2000-01-04   132.110931   Jan  2000    2000-01 2000-01-04\n",
       "2000-01-05   121.542191   Jan  2000    2000-01 2000-01-05\n",
       "2000-01-06   111.819138   Jan  2000    2000-01 2000-01-06\n",
       "2000-01-07   102.873825   Jan  2000    2000-01 2000-01-07\n",
       "...                 ...   ...   ...        ...        ...\n",
       "2023-12-04  1464.449951   Dec  2023    2023-12 2023-12-04\n",
       "2023-12-05  1453.699951   Dec  2023    2023-12 2023-12-05\n",
       "2023-12-06  1474.099976   Dec  2023    2023-12 2023-12-06\n",
       "2023-12-07  1466.150024   Dec  2023    2023-12 2023-12-07\n",
       "2023-12-08  1490.599976   Dec  2023    2023-12 2023-12-08\n",
       "\n",
       "[5936 rows x 5 columns]"
      ]
     },
     "execution_count": 155,
     "metadata": {},
     "output_type": "execute_result"
    }
   ],
   "source": [
    "stock_data_bak.set_index('DATE',inplace=True)\n",
    "stock_data_bak['DATE'] = pd.to_datetime(stock_data_bak.index,format='%Y-%m-%d')\n",
    "stock_data_bak"
   ]
  },
  {
   "cell_type": "markdown",
   "metadata": {},
   "source": [
    "##### **INFERENCE** #####\n",
    "**We have been able to impute the outliers using the function to substitute the outliers with the upper/lower limit values**\n",
    "1. The before year graph shows the monthly outliers before imputation.\n",
    "2. The after year graph shows the monthly outliers after imputation.\n",
    "3. Now we see that all outliers have been fixed and don't see any outliers."
   ]
  },
  {
   "cell_type": "code",
   "execution_count": 156,
   "metadata": {},
   "outputs": [],
   "source": [
    "stock_data = stock_data_bak.copy()"
   ]
  },
  {
   "cell_type": "code",
   "execution_count": 157,
   "metadata": {},
   "outputs": [],
   "source": [
    "stock_data_input = stock_data[['STOCK_PRICE']]"
   ]
  },
  {
   "cell_type": "code",
   "execution_count": 158,
   "metadata": {},
   "outputs": [
    {
     "data": {
      "text/plain": [
       "array([ 122.480469,  132.110931,  121.542191, ..., 1474.099976,\n",
       "       1466.150024, 1490.599976])"
      ]
     },
     "execution_count": 158,
     "metadata": {},
     "output_type": "execute_result"
    }
   ],
   "source": [
    "stdata = np.array(stock_data['STOCK_PRICE'])\n",
    "stdata"
   ]
  },
  {
   "cell_type": "code",
   "execution_count": 159,
   "metadata": {},
   "outputs": [],
   "source": [
    "split_percent = 0.80\n",
    "train_data, test_data = stock_data_input[:int(len(stock_data_input)*split_percent)], stock_data_input[int(len(stock_data_input)*split_percent):]\n"
   ]
  },
  {
   "cell_type": "code",
   "execution_count": 160,
   "metadata": {},
   "outputs": [
    {
     "data": {
      "image/png": "[encoded data removed]",
      "text/plain": [
       "<Figure size 2000x700 with 1 Axes>"
      ]
     },
     "metadata": {},
     "output_type": "display_data"
    }
   ],
   "source": [
    "plt.figure(figsize=(20,7))\n",
    "plt.grid(True)\n",
    "plt.xlabel('Years', weight='bold', fontfamily = \"Times New Roman\", size = '14')\n",
    "plt.ylabel('Closing Stock Prices', weight='bold', fontfamily = \"Times New Roman\", size = '14')\n",
    "plt.xticks(fontfamily = \"Times New Roman\", size=15)\n",
    "plt.yticks(fontfamily = \"Times New Roman\", size=15)\n",
    "plt.plot(stock_data_input, color='green', label='Train data')\n",
    "plt.plot(test_data, color='blue', label='Test data')\n",
    "plt.title(\"Train and Test Data Plotting\\n\\n\", verticalalignment=\"center\", weight='bold', fontfamily = \"Times New Roman\", size = '18')\n",
    "plt.legend()\n",
    "plt.show()"
   ]
  },
  {
   "cell_type": "code",
   "execution_count": 161,
   "metadata": {},
   "outputs": [
    {
     "data": {
      "text/html": [
       "<div>\n",
       "<style scoped>\n",
       "    .dataframe tbody tr th:only-of-type {\n",
       "        vertical-align: middle;\n",
       "    }\n",
       "\n",
       "    .dataframe tbody tr th {\n",
       "        vertical-align: top;\n",
       "    }\n",
       "\n",
       "    .dataframe thead th {\n",
       "        text-align: right;\n",
       "    }\n",
       "</style>\n",
       "<table border=\"1\" class=\"dataframe\">\n",
       "  <thead>\n",
       "    <tr style=\"text-align: right;\">\n",
       "      <th></th>\n",
       "      <th>DATE</th>\n",
       "      <th>STOCK_PRICE</th>\n",
       "    </tr>\n",
       "  </thead>\n",
       "  <tbody>\n",
       "    <tr>\n",
       "      <th>0</th>\n",
       "      <td>2000-01-03</td>\n",
       "      <td>122.480469</td>\n",
       "    </tr>\n",
       "    <tr>\n",
       "      <th>1</th>\n",
       "      <td>2000-01-04</td>\n",
       "      <td>132.110931</td>\n",
       "    </tr>\n",
       "    <tr>\n",
       "      <th>2</th>\n",
       "      <td>2000-01-05</td>\n",
       "      <td>121.542191</td>\n",
       "    </tr>\n",
       "    <tr>\n",
       "      <th>3</th>\n",
       "      <td>2000-01-06</td>\n",
       "      <td>111.819138</td>\n",
       "    </tr>\n",
       "    <tr>\n",
       "      <th>4</th>\n",
       "      <td>2000-01-07</td>\n",
       "      <td>102.873825</td>\n",
       "    </tr>\n",
       "    <tr>\n",
       "      <th>...</th>\n",
       "      <td>...</td>\n",
       "      <td>...</td>\n",
       "    </tr>\n",
       "    <tr>\n",
       "      <th>5931</th>\n",
       "      <td>2023-12-04</td>\n",
       "      <td>1464.449951</td>\n",
       "    </tr>\n",
       "    <tr>\n",
       "      <th>5932</th>\n",
       "      <td>2023-12-05</td>\n",
       "      <td>1453.699951</td>\n",
       "    </tr>\n",
       "    <tr>\n",
       "      <th>5933</th>\n",
       "      <td>2023-12-06</td>\n",
       "      <td>1474.099976</td>\n",
       "    </tr>\n",
       "    <tr>\n",
       "      <th>5934</th>\n",
       "      <td>2023-12-07</td>\n",
       "      <td>1466.150024</td>\n",
       "    </tr>\n",
       "    <tr>\n",
       "      <th>5935</th>\n",
       "      <td>2023-12-08</td>\n",
       "      <td>1490.599976</td>\n",
       "    </tr>\n",
       "  </tbody>\n",
       "</table>\n",
       "<p>5936 rows × 2 columns</p>\n",
       "</div>"
      ],
      "text/plain": [
       "           DATE  STOCK_PRICE\n",
       "0    2000-01-03   122.480469\n",
       "1    2000-01-04   132.110931\n",
       "2    2000-01-05   121.542191\n",
       "3    2000-01-06   111.819138\n",
       "4    2000-01-07   102.873825\n",
       "...         ...          ...\n",
       "5931 2023-12-04  1464.449951\n",
       "5932 2023-12-05  1453.699951\n",
       "5933 2023-12-06  1474.099976\n",
       "5934 2023-12-07  1466.150024\n",
       "5935 2023-12-08  1490.599976\n",
       "\n",
       "[5936 rows x 2 columns]"
      ]
     },
     "execution_count": 161,
     "metadata": {},
     "output_type": "execute_result"
    }
   ],
   "source": [
    "st_data = stock_data[['STOCK_PRICE']]\n",
    "st_data.reset_index()"
   ]
  },
  {
   "cell_type": "code",
   "execution_count": 162,
   "metadata": {},
   "outputs": [],
   "source": [
    "stocks= pd.DataFrame()\n",
    "stocks['STOCK_PRICE'] = stock_data[['STOCK_PRICE']]"
   ]
  },
  {
   "cell_type": "code",
   "execution_count": 163,
   "metadata": {},
   "outputs": [
    {
     "data": {
      "text/html": [
       "<div>\n",
       "<style scoped>\n",
       "    .dataframe tbody tr th:only-of-type {\n",
       "        vertical-align: middle;\n",
       "    }\n",
       "\n",
       "    .dataframe tbody tr th {\n",
       "        vertical-align: top;\n",
       "    }\n",
       "\n",
       "    .dataframe thead th {\n",
       "        text-align: right;\n",
       "    }\n",
       "</style>\n",
       "<table border=\"1\" class=\"dataframe\">\n",
       "  <thead>\n",
       "    <tr style=\"text-align: right;\">\n",
       "      <th></th>\n",
       "      <th>STOCK_PRICE</th>\n",
       "    </tr>\n",
       "    <tr>\n",
       "      <th>DATE</th>\n",
       "      <th></th>\n",
       "    </tr>\n",
       "  </thead>\n",
       "  <tbody>\n",
       "    <tr>\n",
       "      <th>2000-01-03</th>\n",
       "      <td>4.807952</td>\n",
       "    </tr>\n",
       "    <tr>\n",
       "      <th>2000-01-04</th>\n",
       "      <td>4.883642</td>\n",
       "    </tr>\n",
       "    <tr>\n",
       "      <th>2000-01-05</th>\n",
       "      <td>4.800261</td>\n",
       "    </tr>\n",
       "    <tr>\n",
       "      <th>2000-01-06</th>\n",
       "      <td>4.716883</td>\n",
       "    </tr>\n",
       "    <tr>\n",
       "      <th>2000-01-07</th>\n",
       "      <td>4.633503</td>\n",
       "    </tr>\n",
       "  </tbody>\n",
       "</table>\n",
       "</div>"
      ],
      "text/plain": [
       "            STOCK_PRICE\n",
       "DATE                   \n",
       "2000-01-03     4.807952\n",
       "2000-01-04     4.883642\n",
       "2000-01-05     4.800261\n",
       "2000-01-06     4.716883\n",
       "2000-01-07     4.633503"
      ]
     },
     "metadata": {},
     "output_type": "display_data"
    },
    {
     "data": {
      "image/png": "[encoded data removed]",
      "text/plain": [
       "<Figure size 2000x1400 with 2 Axes>"
      ]
     },
     "metadata": {},
     "output_type": "display_data"
    }
   ],
   "source": [
    "data_boxcox = pd.DataFrame()\n",
    "data_boxcox['STOCK_PRICE'] = boxcox(stocks['STOCK_PRICE'], 0)\n",
    "data_boxcox.index = stocks.index\n",
    "display(data_boxcox.head())\n",
    "fig, axis = plt.subplots(2,figsize=(20,14),)\n",
    "axis[0].plot(data_boxcox)\n",
    "axis[0].set_title('After Box Cox Transformation')\n",
    "axis[1].plot(stocks, label='original')\n",
    "axis[1].set_title('Original')\n",
    "plt.show()"
   ]
  },
  {
   "cell_type": "code",
   "execution_count": 164,
   "metadata": {},
   "outputs": [
    {
     "name": "stdout",
     "output_type": "stream",
     "text": [
      "                inverse\n",
      "DATE                   \n",
      "2000-01-03   122.480469\n",
      "2000-01-04   132.110931\n",
      "2000-01-05   121.542191\n",
      "2000-01-06   111.819138\n",
      "2000-01-07   102.873825\n",
      "...                 ...\n",
      "2023-12-04  1464.449951\n",
      "2023-12-05  1453.699951\n",
      "2023-12-06  1474.099976\n",
      "2023-12-07  1466.150024\n",
      "2023-12-08  1490.599976\n",
      "\n",
      "[5936 rows x 1 columns] DATE\n",
      "2000-01-03     122.480469\n",
      "2000-01-04     132.110931\n",
      "2000-01-05     121.542191\n",
      "2000-01-06     111.819138\n",
      "2000-01-07     102.873825\n",
      "                 ...     \n",
      "2023-12-04    1464.449951\n",
      "2023-12-05    1453.699951\n",
      "2023-12-06    1474.099976\n",
      "2023-12-07    1466.150024\n",
      "2023-12-08    1490.599976\n",
      "Name: STOCK_PRICE, Length: 5936, dtype: float64\n"
     ]
    }
   ],
   "source": [
    "from scipy.special import boxcox, inv_boxcox\n",
    "df = pd.DataFrame()\n",
    "df['inverse'] = inv_boxcox(data_boxcox['STOCK_PRICE'], 0)\n",
    "print(df, stocks['STOCK_PRICE'])"
   ]
  },
  {
   "cell_type": "code",
   "execution_count": 165,
   "metadata": {},
   "outputs": [
    {
     "data": {
      "image/png": "[encoded data removed]",
      "text/plain": [
       "<Figure size 2000x700 with 1 Axes>"
      ]
     },
     "metadata": {},
     "output_type": "display_data"
    }
   ],
   "source": [
    "# Differencing of the Box-Cox Transformation\n",
    "data_boxcox_diff = data_boxcox - data_boxcox.shift() # Performs difference between the previous and current observations.\n",
    "data_boxcox_diff.dropna(inplace=True)\n",
    "plt.figure(figsize=(20,7))\n",
    "plt.plot(data_boxcox, label='After Box Cox Transformation and Differencing')\n",
    "plt.legend(loc='best')\n",
    "plt.show()"
   ]
  },
  {
   "cell_type": "code",
   "execution_count": 166,
   "metadata": {},
   "outputs": [],
   "source": [
    "split_percent = 0.80\n",
    "train_data_boxcox, test_data_boxcox = data_boxcox[:int(len(data_boxcox)*split_percent)], data_boxcox[int(len(data_boxcox)*split_percent):]\n",
    "train_data_boxcox_diff, test_data_boxcox_diff = data_boxcox_diff[:int(len(data_boxcox_diff)*split_percent)], data_boxcox_diff[int(len(data_boxcox_diff)*split_percent):]"
   ]
  },
  {
   "cell_type": "code",
   "execution_count": 167,
   "metadata": {},
   "outputs": [
    {
     "data": {
      "text/plain": [
       "0       4.807952\n",
       "1       4.883642\n",
       "2       4.800261\n",
       "3       4.716883\n",
       "4       4.633503\n",
       "          ...   \n",
       "5931    7.289235\n",
       "5932    7.281867\n",
       "5933    7.295803\n",
       "5934    7.290395\n",
       "5935    7.306934\n",
       "Name: STOCK_PRICE, Length: 5936, dtype: float64"
      ]
     },
     "execution_count": 167,
     "metadata": {},
     "output_type": "execute_result"
    }
   ],
   "source": [
    "sdata_bc = data_boxcox.copy()\n",
    "sdata_bc.reset_index(drop=True, inplace=True)\n",
    "sdata_bc['STOCK_PRICE']"
   ]
  },
  {
   "cell_type": "code",
   "execution_count": 168,
   "metadata": {},
   "outputs": [
    {
     "data": {
      "text/html": [
       "<div>\n",
       "<style scoped>\n",
       "    .dataframe tbody tr th:only-of-type {\n",
       "        vertical-align: middle;\n",
       "    }\n",
       "\n",
       "    .dataframe tbody tr th {\n",
       "        vertical-align: top;\n",
       "    }\n",
       "\n",
       "    .dataframe thead th {\n",
       "        text-align: right;\n",
       "    }\n",
       "</style>\n",
       "<table border=\"1\" class=\"dataframe\">\n",
       "  <thead>\n",
       "    <tr style=\"text-align: right;\">\n",
       "      <th></th>\n",
       "      <th>STOCK_PRICE</th>\n",
       "      <th>DIFF</th>\n",
       "      <th>INVERSE</th>\n",
       "    </tr>\n",
       "  </thead>\n",
       "  <tbody>\n",
       "    <tr>\n",
       "      <th>0</th>\n",
       "      <td>122.480469</td>\n",
       "      <td>4.807952</td>\n",
       "      <td>122.480469</td>\n",
       "    </tr>\n",
       "    <tr>\n",
       "      <th>1</th>\n",
       "      <td>132.110931</td>\n",
       "      <td>4.883642</td>\n",
       "      <td>132.110931</td>\n",
       "    </tr>\n",
       "    <tr>\n",
       "      <th>2</th>\n",
       "      <td>121.542191</td>\n",
       "      <td>4.800261</td>\n",
       "      <td>121.542191</td>\n",
       "    </tr>\n",
       "    <tr>\n",
       "      <th>3</th>\n",
       "      <td>111.819138</td>\n",
       "      <td>4.716883</td>\n",
       "      <td>111.819138</td>\n",
       "    </tr>\n",
       "    <tr>\n",
       "      <th>4</th>\n",
       "      <td>102.873825</td>\n",
       "      <td>4.633503</td>\n",
       "      <td>102.873825</td>\n",
       "    </tr>\n",
       "    <tr>\n",
       "      <th>...</th>\n",
       "      <td>...</td>\n",
       "      <td>...</td>\n",
       "      <td>...</td>\n",
       "    </tr>\n",
       "    <tr>\n",
       "      <th>5931</th>\n",
       "      <td>1464.449951</td>\n",
       "      <td>7.289235</td>\n",
       "      <td>1464.449951</td>\n",
       "    </tr>\n",
       "    <tr>\n",
       "      <th>5932</th>\n",
       "      <td>1453.699951</td>\n",
       "      <td>7.281867</td>\n",
       "      <td>1453.699951</td>\n",
       "    </tr>\n",
       "    <tr>\n",
       "      <th>5933</th>\n",
       "      <td>1474.099976</td>\n",
       "      <td>7.295803</td>\n",
       "      <td>1474.099976</td>\n",
       "    </tr>\n",
       "    <tr>\n",
       "      <th>5934</th>\n",
       "      <td>1466.150024</td>\n",
       "      <td>7.290395</td>\n",
       "      <td>1466.150024</td>\n",
       "    </tr>\n",
       "    <tr>\n",
       "      <th>5935</th>\n",
       "      <td>1490.599976</td>\n",
       "      <td>7.306934</td>\n",
       "      <td>1490.599976</td>\n",
       "    </tr>\n",
       "  </tbody>\n",
       "</table>\n",
       "<p>5936 rows × 3 columns</p>\n",
       "</div>"
      ],
      "text/plain": [
       "      STOCK_PRICE      DIFF      INVERSE\n",
       "0      122.480469  4.807952   122.480469\n",
       "1      132.110931  4.883642   132.110931\n",
       "2      121.542191  4.800261   121.542191\n",
       "3      111.819138  4.716883   111.819138\n",
       "4      102.873825  4.633503   102.873825\n",
       "...           ...       ...          ...\n",
       "5931  1464.449951  7.289235  1464.449951\n",
       "5932  1453.699951  7.281867  1453.699951\n",
       "5933  1474.099976  7.295803  1474.099976\n",
       "5934  1466.150024  7.290395  1466.150024\n",
       "5935  1490.599976  7.306934  1490.599976\n",
       "\n",
       "[5936 rows x 3 columns]"
      ]
     },
     "execution_count": 168,
     "metadata": {},
     "output_type": "execute_result"
    }
   ],
   "source": [
    "visualization_arima_bc = pd.DataFrame()\n",
    "visualization_arima_bc['STOCK_PRICE'] = stock_data_input['STOCK_PRICE']\n",
    "visualization_arima_bc['DIFF'] = data_boxcox['STOCK_PRICE']\n",
    "visualization_arima_bc['INVERSE'] = inv_boxcox(data_boxcox['STOCK_PRICE'], 0)\n",
    "visualization_arima_bc.reset_index(drop=True, inplace=True)\n",
    "visualization_arima_bc\n",
    "# visualization_arima_bc"
   ]
  },
  {
   "cell_type": "code",
   "execution_count": 169,
   "metadata": {},
   "outputs": [
    {
     "name": "stdout",
     "output_type": "stream",
     "text": [
      "                               SARIMAX Results                                \n",
      "==============================================================================\n",
      "Dep. Variable:            STOCK_PRICE   No. Observations:                 5936\n",
      "Model:                 ARIMA(1, 0, 2)   Log Likelihood              -22420.819\n",
      "Date:                Tue, 12 Dec 2023   AIC                          44851.639\n",
      "Time:                        08:42:58   BIC                          44885.083\n",
      "Sample:                             0   HQIC                         44863.259\n",
      "                               - 5936                                         \n",
      "Covariance Type:                  opg                                         \n",
      "==============================================================================\n",
      "                 coef    std err          z      P>|z|      [0.025      0.975]\n",
      "------------------------------------------------------------------------------\n",
      "const        475.2031   1045.994      0.454      0.650   -1574.907    2525.313\n",
      "ar.L1          0.9998      0.000   3993.372      0.000       0.999       1.000\n",
      "ma.L1          0.0366      0.006      5.999      0.000       0.025       0.049\n",
      "ma.L2         -0.0185      0.006     -3.059      0.002      -0.030      -0.007\n",
      "sigma2       111.5978      0.605    184.502      0.000     110.412     112.783\n",
      "===================================================================================\n",
      "Ljung-Box (L1) (Q):                   0.00   Jarque-Bera (JB):            124921.14\n",
      "Prob(Q):                              0.96   Prob(JB):                         0.00\n",
      "Heteroskedasticity (H):              25.72   Skew:                            -0.92\n",
      "Prob(H) (two-sided):                  0.00   Kurtosis:                        25.40\n",
      "===================================================================================\n",
      "\n",
      "Warnings:\n",
      "[1] Covariance matrix calculated using the outer product of gradients (complex-step).\n",
      "5936    1491.525888\n",
      "5937    1490.894215\n",
      "5938    1490.730863\n",
      "5939    1490.567538\n",
      "5940    1490.404239\n",
      "5941    1490.240966\n",
      "5942    1490.077719\n",
      "5943    1489.914499\n",
      "5944    1489.751305\n",
      "5945    1489.588137\n",
      "5946    1489.424995\n",
      "Name: predicted_mean, dtype: float64\n"
     ]
    },
    {
     "data": {
      "text/plain": [
       "Text(0.5, 1.0, 'ARIMAX VISUALIZATION\\n\\n')"
      ]
     },
     "execution_count": 169,
     "metadata": {},
     "output_type": "execute_result"
    },
    {
     "data": {
      "image/png": "[encoded data removed]",
      "text/plain": [
       "<Figure size 2000x500 with 1 Axes>"
      ]
     },
     "metadata": {},
     "output_type": "display_data"
    }
   ],
   "source": [
    "# stats model and arima\n",
    "from statsmodels.tsa.arima.model import ARIMA\n",
    "p, d, q = 1, 0, 2\n",
    "duration = 10\n",
    "\n",
    "model_manual_calc = ARIMA(visualization_arima_bc['STOCK_PRICE'], order=(p, d, q))\n",
    "model_manual_calc = model_manual_calc.fit()\n",
    "print(model_manual_calc.summary())\n",
    "\n",
    "# Predict the next 356 days below in order to see the trend. In a normal scenario, we can just take it for 15-30 days.\n",
    "#forecast = model_manual_calc.predict(n_periods=30) # Alternate command for the below.\n",
    "forecast = model_manual_calc.predict(len(visualization_arima_bc['STOCK_PRICE']), len(visualization_arima_bc['STOCK_PRICE'])+duration)\n",
    "print(forecast)\n",
    "\n",
    "\n",
    "\n",
    "# plot forecast\n",
    "plt.figure(figsize=(20,5))\n",
    "plt.plot(visualization_arima_bc['STOCK_PRICE'], 'green', label='Actual')\n",
    "plt.plot(forecast, 'red', label='Forecast')\n",
    "plt.xlabel('INDEX', weight='bold', fontfamily = \"Times New Roman\", size = '14')\n",
    "plt.ylabel('STOCK PRICE', weight='bold', fontfamily = \"Times New Roman\", size = '14')\n",
    "plt.xticks(fontfamily = \"Times New Roman\", size=15)\n",
    "plt.yticks(fontfamily = \"Times New Roman\", size=15)\n",
    "plt.title(\"ARIMAX VISUALIZATION\\n\\n\", verticalalignment=\"center\", weight='bold', fontfamily = \"Times New Roman\", size = '18')\n"
   ]
  },
  {
   "cell_type": "code",
   "execution_count": 170,
   "metadata": {},
   "outputs": [],
   "source": [
    "def get_metrics(dataset, pred):\n",
    "    rmse_val = np.round(np.sqrt(mean_squared_error(dataset, pred)),2)\n",
    "    mape_val = np.round(mean_absolute_percentage_error(dataset, pred)*100,2)\n",
    "    return rmse_val, mape_val"
   ]
  },
  {
   "cell_type": "code",
   "execution_count": 171,
   "metadata": {},
   "outputs": [
    {
     "name": "stdout",
     "output_type": "stream",
     "text": [
      "ARIMA Model Evaluation - \n",
      "Root Mean Squared Error (RMSE): 0.58\n",
      "Mean Absolute Percent Error (MAPE): 6.67\n",
      "\n"
     ]
    }
   ],
   "source": [
    "# stats model and arima\n",
    "from statsmodels.tsa.arima.model import ARIMA\n",
    "\n",
    "split_percent = 0.80\n",
    "arima_train_data, arima_test_data = data_boxcox[:int(len(data_boxcox)*split_percent)], data_boxcox[int(len(data_boxcox)*split_percent):]\n",
    "p, d, q = 2, 1, 0\n",
    "\n",
    "arima_met_model = ARIMA(arima_train_data['STOCK_PRICE'], order=(p, d, q))\n",
    "arima_met_model = arima_met_model.fit()\n",
    "arima_pred = arima_met_model.predict(int(len(data_boxcox)*split_percent), int(len(data_boxcox)*split_percent)+len(arima_test_data)-1)\n",
    "arima_rmse, arima_mape = get_metrics(arima_test_data['STOCK_PRICE'], arima_pred)\n",
    "print(f'ARIMA Model Evaluation - \\nRoot Mean Squared Error (RMSE): {arima_rmse}\\nMean Absolute Percent Error (MAPE): {arima_mape}\\n')"
   ]
  },
  {
   "cell_type": "code",
   "execution_count": 172,
   "metadata": {},
   "outputs": [
    {
     "data": {
      "text/plain": [
       "5936    1491.525888\n",
       "5937    1490.894215\n",
       "5938    1490.730863\n",
       "5939    1490.567538\n",
       "5940    1490.404239\n",
       "5941    1490.240966\n",
       "5942    1490.077719\n",
       "5943    1489.914499\n",
       "5944    1489.751305\n",
       "5945    1489.588137\n",
       "5946    1489.424995\n",
       "Name: predicted_mean, dtype: float64"
      ]
     },
     "execution_count": 172,
     "metadata": {},
     "output_type": "execute_result"
    }
   ],
   "source": [
    "forecast"
   ]
  },
  {
   "cell_type": "code",
   "execution_count": 173,
   "metadata": {},
   "outputs": [
    {
     "data": {
      "text/plain": [
       "[1491.5258879760327,\n",
       " 1490.8942151680499,\n",
       " 1490.7308634494511,\n",
       " 1490.5675380024068,\n",
       " 1490.404238822691,\n",
       " 1490.2409659060797,\n",
       " 1490.077719248349,\n",
       " 1489.9144988452758,\n",
       " 1489.7513046926374,\n",
       " 1489.588136786212,\n",
       " 1489.4249951217787]"
      ]
     },
     "execution_count": 173,
     "metadata": {},
     "output_type": "execute_result"
    }
   ],
   "source": [
    "forecast_list = forecast.tolist()\n",
    "forecast_list"
   ]
  },
  {
   "cell_type": "code",
   "execution_count": 174,
   "metadata": {},
   "outputs": [
    {
     "data": {
      "text/html": [
       "<div>\n",
       "<style scoped>\n",
       "    .dataframe tbody tr th:only-of-type {\n",
       "        vertical-align: middle;\n",
       "    }\n",
       "\n",
       "    .dataframe tbody tr th {\n",
       "        vertical-align: top;\n",
       "    }\n",
       "\n",
       "    .dataframe thead th {\n",
       "        text-align: right;\n",
       "    }\n",
       "</style>\n",
       "<table border=\"1\" class=\"dataframe\">\n",
       "  <thead>\n",
       "    <tr style=\"text-align: right;\">\n",
       "      <th></th>\n",
       "      <th>STOCK_PRICE</th>\n",
       "      <th>DATE</th>\n",
       "    </tr>\n",
       "  </thead>\n",
       "  <tbody>\n",
       "    <tr>\n",
       "      <th>0</th>\n",
       "      <td>122.480469</td>\n",
       "      <td>2000-01-03</td>\n",
       "    </tr>\n",
       "    <tr>\n",
       "      <th>1</th>\n",
       "      <td>132.110931</td>\n",
       "      <td>2000-01-04</td>\n",
       "    </tr>\n",
       "    <tr>\n",
       "      <th>2</th>\n",
       "      <td>121.542191</td>\n",
       "      <td>2000-01-05</td>\n",
       "    </tr>\n",
       "    <tr>\n",
       "      <th>3</th>\n",
       "      <td>111.819138</td>\n",
       "      <td>2000-01-06</td>\n",
       "    </tr>\n",
       "    <tr>\n",
       "      <th>4</th>\n",
       "      <td>102.873825</td>\n",
       "      <td>2000-01-07</td>\n",
       "    </tr>\n",
       "    <tr>\n",
       "      <th>...</th>\n",
       "      <td>...</td>\n",
       "      <td>...</td>\n",
       "    </tr>\n",
       "    <tr>\n",
       "      <th>5931</th>\n",
       "      <td>1464.449951</td>\n",
       "      <td>2023-12-04</td>\n",
       "    </tr>\n",
       "    <tr>\n",
       "      <th>5932</th>\n",
       "      <td>1453.699951</td>\n",
       "      <td>2023-12-05</td>\n",
       "    </tr>\n",
       "    <tr>\n",
       "      <th>5933</th>\n",
       "      <td>1474.099976</td>\n",
       "      <td>2023-12-06</td>\n",
       "    </tr>\n",
       "    <tr>\n",
       "      <th>5934</th>\n",
       "      <td>1466.150024</td>\n",
       "      <td>2023-12-07</td>\n",
       "    </tr>\n",
       "    <tr>\n",
       "      <th>5935</th>\n",
       "      <td>1490.599976</td>\n",
       "      <td>2023-12-08</td>\n",
       "    </tr>\n",
       "  </tbody>\n",
       "</table>\n",
       "<p>5936 rows × 2 columns</p>\n",
       "</div>"
      ],
      "text/plain": [
       "      STOCK_PRICE       DATE\n",
       "0      122.480469 2000-01-03\n",
       "1      132.110931 2000-01-04\n",
       "2      121.542191 2000-01-05\n",
       "3      111.819138 2000-01-06\n",
       "4      102.873825 2000-01-07\n",
       "...           ...        ...\n",
       "5931  1464.449951 2023-12-04\n",
       "5932  1453.699951 2023-12-05\n",
       "5933  1474.099976 2023-12-06\n",
       "5934  1466.150024 2023-12-07\n",
       "5935  1490.599976 2023-12-08\n",
       "\n",
       "[5936 rows x 2 columns]"
      ]
     },
     "execution_count": 174,
     "metadata": {},
     "output_type": "execute_result"
    }
   ],
   "source": [
    "import datetime\n",
    "final_arima_stock_data = stock_data_input.copy()\n",
    "final_arima_stock_data.reset_index(drop=True, inplace=True)\n",
    "final_arima_stock_data['DATE'] = stock_data_input.index\n",
    "final_arima_stock_data"
   ]
  },
  {
   "cell_type": "code",
   "execution_count": 175,
   "metadata": {},
   "outputs": [
    {
     "data": {
      "text/html": [
       "<div>\n",
       "<style scoped>\n",
       "    .dataframe tbody tr th:only-of-type {\n",
       "        vertical-align: middle;\n",
       "    }\n",
       "\n",
       "    .dataframe tbody tr th {\n",
       "        vertical-align: top;\n",
       "    }\n",
       "\n",
       "    .dataframe thead th {\n",
       "        text-align: right;\n",
       "    }\n",
       "</style>\n",
       "<table border=\"1\" class=\"dataframe\">\n",
       "  <thead>\n",
       "    <tr style=\"text-align: right;\">\n",
       "      <th></th>\n",
       "      <th>STOCK_PRICE</th>\n",
       "      <th>DATE</th>\n",
       "      <th>Indicator</th>\n",
       "    </tr>\n",
       "  </thead>\n",
       "  <tbody>\n",
       "    <tr>\n",
       "      <th>0</th>\n",
       "      <td>1491.525888</td>\n",
       "      <td>2023-12-09</td>\n",
       "      <td>forecasted</td>\n",
       "    </tr>\n",
       "    <tr>\n",
       "      <th>1</th>\n",
       "      <td>1490.894215</td>\n",
       "      <td>2023-12-10</td>\n",
       "      <td>forecasted</td>\n",
       "    </tr>\n",
       "    <tr>\n",
       "      <th>2</th>\n",
       "      <td>1490.730863</td>\n",
       "      <td>2023-12-11</td>\n",
       "      <td>forecasted</td>\n",
       "    </tr>\n",
       "    <tr>\n",
       "      <th>3</th>\n",
       "      <td>1490.567538</td>\n",
       "      <td>2023-12-12</td>\n",
       "      <td>forecasted</td>\n",
       "    </tr>\n",
       "    <tr>\n",
       "      <th>4</th>\n",
       "      <td>1490.404239</td>\n",
       "      <td>2023-12-13</td>\n",
       "      <td>forecasted</td>\n",
       "    </tr>\n",
       "    <tr>\n",
       "      <th>5</th>\n",
       "      <td>1490.240966</td>\n",
       "      <td>2023-12-14</td>\n",
       "      <td>forecasted</td>\n",
       "    </tr>\n",
       "    <tr>\n",
       "      <th>6</th>\n",
       "      <td>1490.077719</td>\n",
       "      <td>2023-12-15</td>\n",
       "      <td>forecasted</td>\n",
       "    </tr>\n",
       "    <tr>\n",
       "      <th>7</th>\n",
       "      <td>1489.914499</td>\n",
       "      <td>2023-12-16</td>\n",
       "      <td>forecasted</td>\n",
       "    </tr>\n",
       "    <tr>\n",
       "      <th>8</th>\n",
       "      <td>1489.751305</td>\n",
       "      <td>2023-12-17</td>\n",
       "      <td>forecasted</td>\n",
       "    </tr>\n",
       "    <tr>\n",
       "      <th>9</th>\n",
       "      <td>1489.588137</td>\n",
       "      <td>2023-12-18</td>\n",
       "      <td>forecasted</td>\n",
       "    </tr>\n",
       "    <tr>\n",
       "      <th>10</th>\n",
       "      <td>1489.424995</td>\n",
       "      <td>2023-12-19</td>\n",
       "      <td>forecasted</td>\n",
       "    </tr>\n",
       "  </tbody>\n",
       "</table>\n",
       "</div>"
      ],
      "text/plain": [
       "    STOCK_PRICE       DATE   Indicator\n",
       "0   1491.525888 2023-12-09  forecasted\n",
       "1   1490.894215 2023-12-10  forecasted\n",
       "2   1490.730863 2023-12-11  forecasted\n",
       "3   1490.567538 2023-12-12  forecasted\n",
       "4   1490.404239 2023-12-13  forecasted\n",
       "5   1490.240966 2023-12-14  forecasted\n",
       "6   1490.077719 2023-12-15  forecasted\n",
       "7   1489.914499 2023-12-16  forecasted\n",
       "8   1489.751305 2023-12-17  forecasted\n",
       "9   1489.588137 2023-12-18  forecasted\n",
       "10  1489.424995 2023-12-19  forecasted"
      ]
     },
     "execution_count": 175,
     "metadata": {},
     "output_type": "execute_result"
    }
   ],
   "source": [
    "import datetime\n",
    "new_forecast = pd.DataFrame(columns=final_arima_stock_data.columns)\n",
    "new_forecast['STOCK_PRICE'] = forecast_list\n",
    "new_forecast['Indicator'] = 'forecasted'\n",
    "\n",
    "# Getting the last row date from 'DATE' column, which can be used to get the start_date and end_date\n",
    "last_row_date = final_arima_stock_data.DATE.iloc[-1] \n",
    "last_row_date = pd.to_datetime(last_row_date, format = '%Y-%m-%d') # Last date of the data frame in formatted\n",
    "start_date = last_row_date + datetime.timedelta(days=1)\n",
    "\n",
    "# Adding duration number of days\n",
    "end_date = start_date + datetime.timedelta(days=duration)\n",
    "\n",
    "# Adding the new dates to the dataframe new_forecast\n",
    "new_forecast['DATE']= pd.DataFrame(pd.date_range(start=start_date, end=end_date), columns=['DATE'])\n",
    "new_forecast"
   ]
  },
  {
   "cell_type": "code",
   "execution_count": 176,
   "metadata": {},
   "outputs": [],
   "source": [
    "final_arima_stock_data = pd.concat([final_arima_stock_data, new_forecast], ignore_index=True)\n",
    "final_arima_stock_data.set_index('DATE',inplace=True)"
   ]
  },
  {
   "cell_type": "code",
   "execution_count": 177,
   "metadata": {},
   "outputs": [
    {
     "data": {
      "text/html": [
       "<div>\n",
       "<style scoped>\n",
       "    .dataframe tbody tr th:only-of-type {\n",
       "        vertical-align: middle;\n",
       "    }\n",
       "\n",
       "    .dataframe tbody tr th {\n",
       "        vertical-align: top;\n",
       "    }\n",
       "\n",
       "    .dataframe thead th {\n",
       "        text-align: right;\n",
       "    }\n",
       "</style>\n",
       "<table border=\"1\" class=\"dataframe\">\n",
       "  <thead>\n",
       "    <tr style=\"text-align: right;\">\n",
       "      <th></th>\n",
       "      <th>STOCK_PRICE</th>\n",
       "      <th>Indicator</th>\n",
       "    </tr>\n",
       "    <tr>\n",
       "      <th>DATE</th>\n",
       "      <th></th>\n",
       "      <th></th>\n",
       "    </tr>\n",
       "  </thead>\n",
       "  <tbody>\n",
       "    <tr>\n",
       "      <th>2000-01-03</th>\n",
       "      <td>122.480469</td>\n",
       "      <td>orig</td>\n",
       "    </tr>\n",
       "    <tr>\n",
       "      <th>2000-01-04</th>\n",
       "      <td>132.110931</td>\n",
       "      <td>orig</td>\n",
       "    </tr>\n",
       "    <tr>\n",
       "      <th>2000-01-05</th>\n",
       "      <td>121.542191</td>\n",
       "      <td>orig</td>\n",
       "    </tr>\n",
       "    <tr>\n",
       "      <th>2000-01-06</th>\n",
       "      <td>111.819138</td>\n",
       "      <td>orig</td>\n",
       "    </tr>\n",
       "    <tr>\n",
       "      <th>2000-01-07</th>\n",
       "      <td>102.873825</td>\n",
       "      <td>orig</td>\n",
       "    </tr>\n",
       "    <tr>\n",
       "      <th>...</th>\n",
       "      <td>...</td>\n",
       "      <td>...</td>\n",
       "    </tr>\n",
       "    <tr>\n",
       "      <th>2023-12-15</th>\n",
       "      <td>1490.077719</td>\n",
       "      <td>forecasted</td>\n",
       "    </tr>\n",
       "    <tr>\n",
       "      <th>2023-12-16</th>\n",
       "      <td>1489.914499</td>\n",
       "      <td>forecasted</td>\n",
       "    </tr>\n",
       "    <tr>\n",
       "      <th>2023-12-17</th>\n",
       "      <td>1489.751305</td>\n",
       "      <td>forecasted</td>\n",
       "    </tr>\n",
       "    <tr>\n",
       "      <th>2023-12-18</th>\n",
       "      <td>1489.588137</td>\n",
       "      <td>forecasted</td>\n",
       "    </tr>\n",
       "    <tr>\n",
       "      <th>2023-12-19</th>\n",
       "      <td>1489.424995</td>\n",
       "      <td>forecasted</td>\n",
       "    </tr>\n",
       "  </tbody>\n",
       "</table>\n",
       "<p>5947 rows × 2 columns</p>\n",
       "</div>"
      ],
      "text/plain": [
       "            STOCK_PRICE   Indicator\n",
       "DATE                               \n",
       "2000-01-03   122.480469        orig\n",
       "2000-01-04   132.110931        orig\n",
       "2000-01-05   121.542191        orig\n",
       "2000-01-06   111.819138        orig\n",
       "2000-01-07   102.873825        orig\n",
       "...                 ...         ...\n",
       "2023-12-15  1490.077719  forecasted\n",
       "2023-12-16  1489.914499  forecasted\n",
       "2023-12-17  1489.751305  forecasted\n",
       "2023-12-18  1489.588137  forecasted\n",
       "2023-12-19  1489.424995  forecasted\n",
       "\n",
       "[5947 rows x 2 columns]"
      ]
     },
     "execution_count": 177,
     "metadata": {},
     "output_type": "execute_result"
    }
   ],
   "source": [
    "final_arima_stock_data[['Indicator']] = final_arima_stock_data[['Indicator']].fillna('orig')\n",
    "final_arima_stock_data"
   ]
  },
  {
   "cell_type": "code",
   "execution_count": 178,
   "metadata": {},
   "outputs": [
    {
     "data": {
      "image/png": "[encoded data removed]",
      "text/plain": [
       "<Figure size 2000x600 with 1 Axes>"
      ]
     },
     "metadata": {},
     "output_type": "display_data"
    }
   ],
   "source": [
    "# The yahoo finance ticker for the stock symbol for Infosys\n",
    "stock_symbol = \"Infosys Limited (INFY.BO)\"\n",
    "\n",
    "plt.figure(figsize=(20,6))\n",
    "sns.lineplot(x='DATE', y='STOCK_PRICE', hue='Indicator', palette=['#0541ff','#FF0000'], data=final_arima_stock_data)\n",
    "plt.xticks(rotation = 0,fontsize = 12, fontfamily = \"Times New Roman\")\n",
    "plt.xlabel(\"DATE\", weight='bold', fontfamily = \"Times New Roman\", size = '12')\n",
    "plt.ylabel(\"STOCK COUNT\", weight='bold', fontfamily = \"Times New Roman\", size = '12')\n",
    "plt.title(f\"{stock_symbol} prediction of next {duration} Days\", verticalalignment=\"center\", weight='bold', fontfamily = \"Times New Roman\", size = '18')\n",
    "plt.axhline(y=final_arima_stock_data.STOCK_PRICE[len(final_arima_stock_data)-1], color = '#ff9900', linestyle = ':', label = f'NEXT {duration}D: {round(float(final_arima_stock_data.STOCK_PRICE[len(final_arima_stock_data)-1]),2)}')\n",
    "plt.legend()\n",
    "plt.show()"
   ]
  },
  {
   "cell_type": "code",
   "execution_count": 179,
   "metadata": {},
   "outputs": [],
   "source": [
    "import pickle\n",
    "pickle.dump(model_manual_calc, open('arima_model.pkl', 'wb'))"
   ]
  },
  {
   "cell_type": "code",
   "execution_count": 180,
   "metadata": {},
   "outputs": [
    {
     "data": {
      "text/html": [
       "<table class=\"simpletable\">\n",
       "<caption>SARIMAX Results</caption>\n",
       "<tr>\n",
       "  <th>Dep. Variable:</th>      <td>STOCK_PRICE</td>   <th>  No. Observations:  </th>    <td>5936</td>   \n",
       "</tr>\n",
       "<tr>\n",
       "  <th>Model:</th>            <td>ARIMA(1, 0, 2)</td>  <th>  Log Likelihood     </th> <td>-22420.819</td>\n",
       "</tr>\n",
       "<tr>\n",
       "  <th>Date:</th>            <td>Tue, 12 Dec 2023</td> <th>  AIC                </th>  <td>44851.639</td>\n",
       "</tr>\n",
       "<tr>\n",
       "  <th>Time:</th>                <td>08:42:59</td>     <th>  BIC                </th>  <td>44885.083</td>\n",
       "</tr>\n",
       "<tr>\n",
       "  <th>Sample:</th>                  <td>0</td>        <th>  HQIC               </th>  <td>44863.259</td>\n",
       "</tr>\n",
       "<tr>\n",
       "  <th></th>                      <td> - 5936</td>     <th>                     </th>      <td> </td>    \n",
       "</tr>\n",
       "<tr>\n",
       "  <th>Covariance Type:</th>        <td>opg</td>       <th>                     </th>      <td> </td>    \n",
       "</tr>\n",
       "</table>\n",
       "<table class=\"simpletable\">\n",
       "<tr>\n",
       "     <td></td>       <th>coef</th>     <th>std err</th>      <th>z</th>      <th>P>|z|</th>  <th>[0.025</th>    <th>0.975]</th>  \n",
       "</tr>\n",
       "<tr>\n",
       "  <th>const</th>  <td>  475.2031</td> <td> 1045.994</td> <td>    0.454</td> <td> 0.650</td> <td>-1574.907</td> <td> 2525.313</td>\n",
       "</tr>\n",
       "<tr>\n",
       "  <th>ar.L1</th>  <td>    0.9998</td> <td>    0.000</td> <td> 3993.372</td> <td> 0.000</td> <td>    0.999</td> <td>    1.000</td>\n",
       "</tr>\n",
       "<tr>\n",
       "  <th>ma.L1</th>  <td>    0.0366</td> <td>    0.006</td> <td>    5.999</td> <td> 0.000</td> <td>    0.025</td> <td>    0.049</td>\n",
       "</tr>\n",
       "<tr>\n",
       "  <th>ma.L2</th>  <td>   -0.0185</td> <td>    0.006</td> <td>   -3.059</td> <td> 0.002</td> <td>   -0.030</td> <td>   -0.007</td>\n",
       "</tr>\n",
       "<tr>\n",
       "  <th>sigma2</th> <td>  111.5978</td> <td>    0.605</td> <td>  184.502</td> <td> 0.000</td> <td>  110.412</td> <td>  112.783</td>\n",
       "</tr>\n",
       "</table>\n",
       "<table class=\"simpletable\">\n",
       "<tr>\n",
       "  <th>Ljung-Box (L1) (Q):</th>     <td>0.00</td>  <th>  Jarque-Bera (JB):  </th> <td>124921.14</td>\n",
       "</tr>\n",
       "<tr>\n",
       "  <th>Prob(Q):</th>                <td>0.96</td>  <th>  Prob(JB):          </th>   <td>0.00</td>   \n",
       "</tr>\n",
       "<tr>\n",
       "  <th>Heteroskedasticity (H):</th> <td>25.72</td> <th>  Skew:              </th>   <td>-0.92</td>  \n",
       "</tr>\n",
       "<tr>\n",
       "  <th>Prob(H) (two-sided):</th>    <td>0.00</td>  <th>  Kurtosis:          </th>   <td>25.40</td>  \n",
       "</tr>\n",
       "</table><br/><br/>Warnings:<br/>[1] Covariance matrix calculated using the outer product of gradients (complex-step)."
      ],
      "text/latex": [
       "\\begin{center}\n",
       "\\begin{tabular}{lclc}\n",
       "\\toprule\n",
       "\\textbf{Dep. Variable:}          &   STOCK\\_PRICE   & \\textbf{  No. Observations:  } &    5936     \\\\\n",
       "\\textbf{Model:}                  &  ARIMA(1, 0, 2)  & \\textbf{  Log Likelihood     } & -22420.819  \\\\\n",
       "\\textbf{Date:}                   & Tue, 12 Dec 2023 & \\textbf{  AIC                } & 44851.639   \\\\\n",
       "\\textbf{Time:}                   &     08:42:59     & \\textbf{  BIC                } & 44885.083   \\\\\n",
       "\\textbf{Sample:}                 &        0         & \\textbf{  HQIC               } & 44863.259   \\\\\n",
       "\\textbf{}                        &      - 5936      & \\textbf{                     } &             \\\\\n",
       "\\textbf{Covariance Type:}        &       opg        & \\textbf{                     } &             \\\\\n",
       "\\bottomrule\n",
       "\\end{tabular}\n",
       "\\begin{tabular}{lcccccc}\n",
       "                & \\textbf{coef} & \\textbf{std err} & \\textbf{z} & \\textbf{P$> |$z$|$} & \\textbf{[0.025} & \\textbf{0.975]}  \\\\\n",
       "\\midrule\n",
       "\\textbf{const}  &     475.2031  &     1045.994     &     0.454  &         0.650        &    -1574.907    &     2525.313     \\\\\n",
       "\\textbf{ar.L1}  &       0.9998  &        0.000     &  3993.372  &         0.000        &        0.999    &        1.000     \\\\\n",
       "\\textbf{ma.L1}  &       0.0366  &        0.006     &     5.999  &         0.000        &        0.025    &        0.049     \\\\\n",
       "\\textbf{ma.L2}  &      -0.0185  &        0.006     &    -3.059  &         0.002        &       -0.030    &       -0.007     \\\\\n",
       "\\textbf{sigma2} &     111.5978  &        0.605     &   184.502  &         0.000        &      110.412    &      112.783     \\\\\n",
       "\\bottomrule\n",
       "\\end{tabular}\n",
       "\\begin{tabular}{lclc}\n",
       "\\textbf{Ljung-Box (L1) (Q):}     &  0.00 & \\textbf{  Jarque-Bera (JB):  } & 124921.14  \\\\\n",
       "\\textbf{Prob(Q):}                &  0.96 & \\textbf{  Prob(JB):          } &    0.00    \\\\\n",
       "\\textbf{Heteroskedasticity (H):} & 25.72 & \\textbf{  Skew:              } &   -0.92    \\\\\n",
       "\\textbf{Prob(H) (two-sided):}    &  0.00 & \\textbf{  Kurtosis:          } &   25.40    \\\\\n",
       "\\bottomrule\n",
       "\\end{tabular}\n",
       "%\\caption{SARIMAX Results}\n",
       "\\end{center}\n",
       "\n",
       "Warnings: \\newline\n",
       " [1] Covariance matrix calculated using the outer product of gradients (complex-step)."
      ],
      "text/plain": [
       "<class 'statsmodels.iolib.summary.Summary'>\n",
       "\"\"\"\n",
       "                               SARIMAX Results                                \n",
       "==============================================================================\n",
       "Dep. Variable:            STOCK_PRICE   No. Observations:                 5936\n",
       "Model:                 ARIMA(1, 0, 2)   Log Likelihood              -22420.819\n",
       "Date:                Tue, 12 Dec 2023   AIC                          44851.639\n",
       "Time:                        08:42:59   BIC                          44885.083\n",
       "Sample:                             0   HQIC                         44863.259\n",
       "                               - 5936                                         \n",
       "Covariance Type:                  opg                                         \n",
       "==============================================================================\n",
       "                 coef    std err          z      P>|z|      [0.025      0.975]\n",
       "------------------------------------------------------------------------------\n",
       "const        475.2031   1045.994      0.454      0.650   -1574.907    2525.313\n",
       "ar.L1          0.9998      0.000   3993.372      0.000       0.999       1.000\n",
       "ma.L1          0.0366      0.006      5.999      0.000       0.025       0.049\n",
       "ma.L2         -0.0185      0.006     -3.059      0.002      -0.030      -0.007\n",
       "sigma2       111.5978      0.605    184.502      0.000     110.412     112.783\n",
       "===================================================================================\n",
       "Ljung-Box (L1) (Q):                   0.00   Jarque-Bera (JB):            124921.14\n",
       "Prob(Q):                              0.96   Prob(JB):                         0.00\n",
       "Heteroskedasticity (H):              25.72   Skew:                            -0.92\n",
       "Prob(H) (two-sided):                  0.00   Kurtosis:                        25.40\n",
       "===================================================================================\n",
       "\n",
       "Warnings:\n",
       "[1] Covariance matrix calculated using the outer product of gradients (complex-step).\n",
       "\"\"\""
      ]
     },
     "execution_count": 180,
     "metadata": {},
     "output_type": "execute_result"
    }
   ],
   "source": [
    "pickled_arima_model = pickle.load(open('arima_model.pkl', 'rb'))\n",
    "# pickled_model.predict(int(len(data_boxcox)*split_percent), int(len(data_boxcox)*split_percent)+len(arima_test_data)-1)\n",
    "pickled_arima_model.summary()"
   ]
  }
 ],
 "metadata": {
  "kernelspec": {
   "display_name": "Python 3",
   "language": "python",
   "name": "python3"
  },
  "language_info": {
   "codemirror_mode": {
    "name": "ipython",
    "version": 3
   },
   "file_extension": ".py",
   "mimetype": "text/x-python",
   "name": "python",
   "nbconvert_exporter": "python",
   "pygments_lexer": "ipython3",
   "version": "3.10.10"
  }
 },
 "nbformat": 4,
 "nbformat_minor": 2
}
